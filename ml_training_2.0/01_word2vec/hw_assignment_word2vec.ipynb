{
  "cells": [
    {
      "cell_type": "markdown",
      "metadata": {
        "id": "nTSf4ro-qU0d"
      },
      "source": [
        "## Бонусное задание: word2vec на PyTorch\n",
        "\n",
        "Как вы уже могли заметить, идея, лежащая в основе [word2vec](https://arxiv.org/pdf/1310.4546), достаточно общая. В данном задании вы реализуете его самостоятельно.\n",
        "\n",
        "Дисклеймер: не стоит удивляться тому, что реализация от `gensim` (или аналоги) обучается быстрее и работает точнее. Она использует множество доработок и ускорений, а также достаточно эффективный код. Ваша задача добиться промежуточных результатов за разумное время.\n",
        "\n",
        "P.s. Как ни странно, GPU в этом задании нам не потребуется."
      ]
    },
    {
      "cell_type": "markdown",
      "metadata": {
        "id": "6LxThvYq6wew"
      },
      "source": [
        "__Requirements:__ if you're running locally, in the selected environment run the following command:\n",
        "\n",
        "```pip install --upgrade nltk bokeh umap-learn```\n"
      ]
    },
    {
      "cell_type": "code",
      "execution_count": null,
      "metadata": {
        "id": "Oipe2DU8qfm7",
        "colab": {
          "base_uri": "https://localhost:8080/"
        },
        "outputId": "b619d024-e9cd-4cdd-c62f-2689d624171c"
      },
      "outputs": [
        {
          "output_type": "stream",
          "name": "stdout",
          "text": [
            "Requirement already satisfied: nltk in /usr/local/lib/python3.10/dist-packages (3.9.1)\n",
            "Requirement already satisfied: bokeh in /usr/local/lib/python3.10/dist-packages (3.6.2)\n",
            "Collecting umap-learn\n",
            "  Downloading umap_learn-0.5.7-py3-none-any.whl.metadata (21 kB)\n",
            "Requirement already satisfied: click in /usr/local/lib/python3.10/dist-packages (from nltk) (8.1.8)\n",
            "Requirement already satisfied: joblib in /usr/local/lib/python3.10/dist-packages (from nltk) (1.4.2)\n",
            "Requirement already satisfied: regex>=2021.8.3 in /usr/local/lib/python3.10/dist-packages (from nltk) (2024.11.6)\n",
            "Requirement already satisfied: tqdm in /usr/local/lib/python3.10/dist-packages (from nltk) (4.67.1)\n",
            "Requirement already satisfied: Jinja2>=2.9 in /usr/local/lib/python3.10/dist-packages (from bokeh) (3.1.5)\n",
            "Requirement already satisfied: contourpy>=1.2 in /usr/local/lib/python3.10/dist-packages (from bokeh) (1.3.1)\n",
            "Requirement already satisfied: numpy>=1.16 in /usr/local/lib/python3.10/dist-packages (from bokeh) (1.26.4)\n",
            "Requirement already satisfied: packaging>=16.8 in /usr/local/lib/python3.10/dist-packages (from bokeh) (24.2)\n",
            "Requirement already satisfied: pandas>=1.2 in /usr/local/lib/python3.10/dist-packages (from bokeh) (2.2.2)\n",
            "Requirement already satisfied: pillow>=7.1.0 in /usr/local/lib/python3.10/dist-packages (from bokeh) (11.1.0)\n",
            "Requirement already satisfied: PyYAML>=3.10 in /usr/local/lib/python3.10/dist-packages (from bokeh) (6.0.2)\n",
            "Requirement already satisfied: tornado>=6.2 in /usr/local/lib/python3.10/dist-packages (from bokeh) (6.3.3)\n",
            "Requirement already satisfied: xyzservices>=2021.09.1 in /usr/local/lib/python3.10/dist-packages (from bokeh) (2024.9.0)\n",
            "Requirement already satisfied: scipy>=1.3.1 in /usr/local/lib/python3.10/dist-packages (from umap-learn) (1.13.1)\n",
            "Requirement already satisfied: scikit-learn>=0.22 in /usr/local/lib/python3.10/dist-packages (from umap-learn) (1.6.0)\n",
            "Requirement already satisfied: numba>=0.51.2 in /usr/local/lib/python3.10/dist-packages (from umap-learn) (0.60.0)\n",
            "Collecting pynndescent>=0.5 (from umap-learn)\n",
            "  Downloading pynndescent-0.5.13-py3-none-any.whl.metadata (6.8 kB)\n",
            "Requirement already satisfied: MarkupSafe>=2.0 in /usr/local/lib/python3.10/dist-packages (from Jinja2>=2.9->bokeh) (3.0.2)\n",
            "Requirement already satisfied: llvmlite<0.44,>=0.43.0dev0 in /usr/local/lib/python3.10/dist-packages (from numba>=0.51.2->umap-learn) (0.43.0)\n",
            "Requirement already satisfied: python-dateutil>=2.8.2 in /usr/local/lib/python3.10/dist-packages (from pandas>=1.2->bokeh) (2.8.2)\n",
            "Requirement already satisfied: pytz>=2020.1 in /usr/local/lib/python3.10/dist-packages (from pandas>=1.2->bokeh) (2024.2)\n",
            "Requirement already satisfied: tzdata>=2022.7 in /usr/local/lib/python3.10/dist-packages (from pandas>=1.2->bokeh) (2024.2)\n",
            "Requirement already satisfied: threadpoolctl>=3.1.0 in /usr/local/lib/python3.10/dist-packages (from scikit-learn>=0.22->umap-learn) (3.5.0)\n",
            "Requirement already satisfied: six>=1.5 in /usr/local/lib/python3.10/dist-packages (from python-dateutil>=2.8.2->pandas>=1.2->bokeh) (1.17.0)\n",
            "Downloading umap_learn-0.5.7-py3-none-any.whl (88 kB)\n",
            "\u001b[2K   \u001b[90m━━━━━━━━━━━━━━━━━━━━━━━━━━━━━━━━━━━━━━━━\u001b[0m \u001b[32m88.8/88.8 kB\u001b[0m \u001b[31m5.2 MB/s\u001b[0m eta \u001b[36m0:00:00\u001b[0m\n",
            "\u001b[?25hDownloading pynndescent-0.5.13-py3-none-any.whl (56 kB)\n",
            "\u001b[2K   \u001b[90m━━━━━━━━━━━━━━━━━━━━━━━━━━━━━━━━━━━━━━━━\u001b[0m \u001b[32m56.9/56.9 kB\u001b[0m \u001b[31m4.2 MB/s\u001b[0m eta \u001b[36m0:00:00\u001b[0m\n",
            "\u001b[?25hInstalling collected packages: pynndescent, umap-learn\n",
            "Successfully installed pynndescent-0.5.13 umap-learn-0.5.7\n"
          ]
        }
      ],
      "source": [
        "!pip install --upgrade nltk bokeh umap-learn"
      ]
    },
    {
      "cell_type": "code",
      "execution_count": null,
      "metadata": {
        "id": "pqPU4Lu2qU0h"
      },
      "outputs": [],
      "source": [
        "import itertools\n",
        "import random\n",
        "import string\n",
        "from collections import Counter\n",
        "from itertools import chain\n",
        "\n",
        "import matplotlib.pyplot as plt\n",
        "import numpy as np\n",
        "import torch\n",
        "import torch.autograd as autograd\n",
        "import torch.nn as nn\n",
        "import torch.nn.functional as F\n",
        "import torch.optim as optim\n",
        "import umap\n",
        "from IPython.display import clear_output\n",
        "from matplotlib import pyplot as plt\n",
        "from nltk.tokenize import WordPunctTokenizer\n",
        "from torch.optim.lr_scheduler import ReduceLROnPlateau, StepLR\n",
        "from tqdm.auto import tqdm as tqdma"
      ]
    },
    {
      "cell_type": "code",
      "execution_count": null,
      "metadata": {
        "colab": {
          "base_uri": "https://localhost:8080/"
        },
        "id": "8Fbx57z3qU0i",
        "outputId": "60402889-60e7-4f8e-a4b2-24f227a08a4e"
      },
      "outputs": [
        {
          "output_type": "stream",
          "name": "stdout",
          "text": [
            "--2025-01-09 16:46:09--  https://www.dropbox.com/s/obaitrix9jyu84r/quora.txt?dl=1\n",
            "Resolving www.dropbox.com (www.dropbox.com)... 162.125.3.18, 2620:100:6018:18::a27d:312\n",
            "Connecting to www.dropbox.com (www.dropbox.com)|162.125.3.18|:443... connected.\n",
            "HTTP request sent, awaiting response... 302 Found\n",
            "Location: https://www.dropbox.com/scl/fi/p0t2dw6oqs6oxpd6zz534/quora.txt?rlkey=bjupppwua4zmd4elz8octecy9&dl=1 [following]\n",
            "--2025-01-09 16:46:09--  https://www.dropbox.com/scl/fi/p0t2dw6oqs6oxpd6zz534/quora.txt?rlkey=bjupppwua4zmd4elz8octecy9&dl=1\n",
            "Reusing existing connection to www.dropbox.com:443.\n",
            "HTTP request sent, awaiting response... 302 Found\n",
            "Location: https://uc439301d728623d19c983b33ca8.dl.dropboxusercontent.com/cd/0/inline/Ch0IAGiq3XES_gwWdJ4GCM4YqYNXJVBcWqPOVee3PdSgp-ypwO_s4RcohqgzppkA4pEpdPtMoCdol2u_fVebYAokF44poFG5JZq853K_GqWUFcu0j4iSf8R4-SGCcYetJKU/file?dl=1# [following]\n",
            "--2025-01-09 16:46:10--  https://uc439301d728623d19c983b33ca8.dl.dropboxusercontent.com/cd/0/inline/Ch0IAGiq3XES_gwWdJ4GCM4YqYNXJVBcWqPOVee3PdSgp-ypwO_s4RcohqgzppkA4pEpdPtMoCdol2u_fVebYAokF44poFG5JZq853K_GqWUFcu0j4iSf8R4-SGCcYetJKU/file?dl=1\n",
            "Resolving uc439301d728623d19c983b33ca8.dl.dropboxusercontent.com (uc439301d728623d19c983b33ca8.dl.dropboxusercontent.com)... 162.125.5.15, 2620:100:6018:15::a27d:30f\n",
            "Connecting to uc439301d728623d19c983b33ca8.dl.dropboxusercontent.com (uc439301d728623d19c983b33ca8.dl.dropboxusercontent.com)|162.125.5.15|:443... connected.\n",
            "HTTP request sent, awaiting response... 200 OK\n",
            "Length: 33813903 (32M) [application/binary]\n",
            "Saving to: ‘./quora.txt’\n",
            "\n",
            "./quora.txt         100%[===================>]  32.25M  35.7MB/s    in 0.9s    \n",
            "\n",
            "2025-01-09 16:46:12 (35.7 MB/s) - ‘./quora.txt’ saved [33813903/33813903]\n",
            "\n"
          ]
        }
      ],
      "source": [
        "# download the data:\n",
        "!wget https://www.dropbox.com/s/obaitrix9jyu84r/quora.txt?dl=1 -O ./quora.txt -nc\n",
        "# alternative download link: https://yadi.sk/i/BPQrUu1NaTduEw"
      ]
    },
    {
      "cell_type": "code",
      "execution_count": null,
      "metadata": {
        "colab": {
          "base_uri": "https://localhost:8080/",
          "height": 36
        },
        "id": "8EYy5dQpqU0i",
        "outputId": "8a6f73fc-8954-4d62-a168-eca3794ab4f1",
        "scrolled": false
      },
      "outputs": [
        {
          "output_type": "execute_result",
          "data": {
            "text/plain": [
              "\"What TV shows or books help you read people's body language?\\n\""
            ],
            "application/vnd.google.colaboratory.intrinsic+json": {
              "type": "string"
            }
          },
          "metadata": {},
          "execution_count": 6
        }
      ],
      "source": [
        "data = list(open(\"./quora.txt\", encoding=\"utf-8\"))\n",
        "data[50]"
      ]
    },
    {
      "cell_type": "markdown",
      "metadata": {
        "id": "feBEGI2eqU0j"
      },
      "source": [
        "Токенизация – первый шаг.\n",
        "Тексты, с которыми мы работаем, включают в себя пунктуацию, смайлики и прочие нестандартные токены, так что простой `str.split` не подойдет.\n",
        "\n",
        "Обратимся к `nltk` - библиотеку, нашла широкое применеие в области NLP."
      ]
    },
    {
      "cell_type": "code",
      "execution_count": null,
      "metadata": {
        "colab": {
          "base_uri": "https://localhost:8080/"
        },
        "id": "7mWTvm50qU0j",
        "outputId": "205e1c2d-7415-4bae-c2d9-8a9ed5afa7c1"
      },
      "outputs": [
        {
          "output_type": "stream",
          "name": "stdout",
          "text": [
            "['What', 'TV', 'shows', 'or', 'books', 'help', 'you', 'read', 'people', \"'\", 's', 'body', 'language', '?']\n"
          ]
        }
      ],
      "source": [
        "tokenizer = WordPunctTokenizer()\n",
        "\n",
        "print(tokenizer.tokenize(data[50]))"
      ]
    },
    {
      "cell_type": "code",
      "execution_count": null,
      "metadata": {
        "id": "HzC05EHWqU0j"
      },
      "outputs": [],
      "source": [
        "data_tok = [\n",
        "    tokenizer.tokenize(\n",
        "        line.translate(str.maketrans(\"\", \"\", string.punctuation)).lower()\n",
        "    )\n",
        "    for line in data\n",
        "]\n",
        "data_tok = [x for x in data_tok if len(x) >= 3]"
      ]
    },
    {
      "cell_type": "markdown",
      "metadata": {
        "id": "6azRAgHIqU0k"
      },
      "source": [
        "Несколько проверок:"
      ]
    },
    {
      "cell_type": "code",
      "execution_count": null,
      "metadata": {
        "id": "Cp8UpxdWqU0k"
      },
      "outputs": [],
      "source": [
        "assert all(\n",
        "    isinstance(row, (list, tuple)) for row in data_tok\n",
        "), \"please convert each line into a list of tokens (strings)\"\n",
        "assert all(\n",
        "    all(isinstance(tok, str) for tok in row) for row in data_tok\n",
        "), \"please convert each line into a list of tokens (strings)\"\n",
        "is_latin = lambda tok: all(\"a\" <= x.lower() <= \"z\" for x in tok)\n",
        "assert all(\n",
        "    map(lambda l: not is_latin(l) or l.islower(), map(\" \".join, data_tok))\n",
        "), \"please make sure to lowercase the data\""
      ]
    },
    {
      "cell_type": "markdown",
      "metadata": {
        "id": "37e7-MIhqU0x"
      },
      "source": [
        "Ниже заданы константы ширины окна контекста и проведена предобработка для построения skip-gram модели."
      ]
    },
    {
      "cell_type": "code",
      "execution_count": null,
      "metadata": {
        "id": "fugc1IomqU0x"
      },
      "outputs": [],
      "source": [
        "min_count = 5\n",
        "window_radius = 5"
      ]
    },
    {
      "cell_type": "code",
      "execution_count": null,
      "metadata": {
        "id": "S6usKJ-u6wfA"
      },
      "outputs": [],
      "source": [
        "vocabulary_with_counter = Counter(chain.from_iterable(data_tok))\n",
        "\n",
        "word_count_dict = dict()\n",
        "for word, counter in vocabulary_with_counter.items():\n",
        "    if counter >= min_count:\n",
        "        word_count_dict[word] = counter\n",
        "\n",
        "vocabulary = set(word_count_dict.keys())\n",
        "del vocabulary_with_counter"
      ]
    },
    {
      "cell_type": "code",
      "execution_count": null,
      "metadata": {
        "id": "QaL2OnYg6wfB"
      },
      "outputs": [],
      "source": [
        "word_to_index = {word: index for index, word in enumerate(vocabulary)}\n",
        "index_to_word = {index: word for word, index in word_to_index.items()}"
      ]
    },
    {
      "cell_type": "markdown",
      "metadata": {
        "id": "4Y8rlBfqqU0x"
      },
      "source": [
        "Пары `(слово, контекст)` на основе доступного датасета сгенерированы ниже."
      ]
    },
    {
      "cell_type": "code",
      "execution_count": null,
      "metadata": {
        "id": "h2-aqyyaqU0x",
        "colab": {
          "base_uri": "https://localhost:8080/"
        },
        "outputId": "3ebe77a6-c606-4913-a647-411c0dcb463f"
      },
      "outputs": [
        {
          "output_type": "stream",
          "name": "stdout",
          "text": [
            "Generated 40220313 pairs of target and context words.\n"
          ]
        }
      ],
      "source": [
        "context_pairs = []\n",
        "\n",
        "for text in data_tok:\n",
        "    for i, central_word in enumerate(text):\n",
        "        context_indices = range(\n",
        "            max(0, i - window_radius), min(i + window_radius, len(text))\n",
        "        )\n",
        "        for j in context_indices:\n",
        "            if j == i:\n",
        "                continue\n",
        "            context_word = text[j]\n",
        "            if central_word in vocabulary and context_word in vocabulary:\n",
        "                context_pairs.append(\n",
        "                    (word_to_index[central_word], word_to_index[context_word])\n",
        "                )\n",
        "\n",
        "print(f\"Generated {len(context_pairs)} pairs of target and context words.\")"
      ]
    },
    {
      "cell_type": "markdown",
      "metadata": {
        "id": "wDCSQ4cf6wfD"
      },
      "source": [
        "#### Подзадача №1: subsampling\n",
        "Для того, чтобы сгладить разницу в частоте встречаемсости слов, необходимо реализовать механизм subsampling'а.\n",
        "Для этого вам необходимо реализовать функцию ниже.\n",
        "\n",
        "Вероятность **исключить** слово из обучения (на фиксированном шаге) вычисляется как\n",
        "$$\n",
        "P_\\text{drop}(w_i)=1 - \\sqrt{\\frac{t}{f(w_i)}},\n",
        "$$\n",
        "где $f(w_i)$ – нормированная частота встречаемости слова, а $t$ – заданный порог (threshold)."
      ]
    },
    {
      "cell_type": "code",
      "execution_count": null,
      "metadata": {
        "id": "sN2pmOgZ6wfD"
      },
      "outputs": [],
      "source": [
        "def subsample_frequent_words(word_count_dict, threshold=1e-5):\n",
        "    \"\"\"\n",
        "    Calculates the subsampling probabilities for words based on their frequencies.\n",
        "\n",
        "    This function is used to determine the probability of keeping a word in the dataset\n",
        "    when subsampling frequent words. The method used is inspired by the subsampling approach\n",
        "    in Word2Vec, where each word's frequency affects its probability of being kept.\n",
        "\n",
        "    Parameters:\n",
        "    - word_count_dict (dict): A dictionary where keys are words and values are the counts of those words.\n",
        "    - threshold (float, optional): A threshold parameter used to adjust the frequency of word subsampling.\n",
        "                                   Defaults to 1e-5.\n",
        "\n",
        "    Returns:\n",
        "    - dict: A dictionary where keys are words and values are the probabilities of keeping each word.\n",
        "\n",
        "    Example:\n",
        "    >>> word_counts = {'the': 5000, 'is': 1000, 'apple': 50}\n",
        "    >>> subsample_frequent_words(word_counts)\n",
        "    {'the': 0.028, 'is': 0.223, 'apple': 1.0}\n",
        "    \"\"\"\n",
        "\n",
        "    ### YOUR CODE HERE\n",
        "    total_words = sum(word_count_dict.values())\n",
        "    keep_prob_dict = {}\n",
        "\n",
        "    for word, count in word_count_dict.items():\n",
        "        freq = count / total_words\n",
        "        keep_prob = 1 - (1 - np.sqrt(threshold / freq))\n",
        "        keep_prob_dict[word] = keep_prob\n",
        "\n",
        "    return keep_prob_dict"
      ]
    },
    {
      "cell_type": "markdown",
      "metadata": {
        "id": "5MFHH1T-6wfD"
      },
      "source": [
        "#### Подзадача №2: negative sampling\n",
        "Для более эффективного обучения необходимо не только предсказывать высокие вероятности для слов из контекста, но и предсказывать низкие для слов, не встреченных в контексте. Для этого вам необходимо вычислить вероятност использовать слово в качестве negative sample, реализовав функцию ниже.\n",
        "\n",
        "В оригинальной статье предлагается оценивать вероятность слов выступать в качестве negative sample согласно распределению $P_n(w)$\n",
        "$$\n",
        "P_n(w) = \\frac{U(w)^{3/4}}{Z},\n",
        "$$\n",
        "\n",
        "где $U(w)$ распределение слов по частоте (или, как его еще называют, по униграммам), а $Z$ – нормировочная константа, чтобы общая мера была равна $1$."
      ]
    },
    {
      "cell_type": "code",
      "execution_count": null,
      "metadata": {
        "id": "_yZJSHD86wfD"
      },
      "outputs": [],
      "source": [
        "def get_negative_sampling_prob(word_count_dict):\n",
        "    \"\"\"\n",
        "    Calculates the negative sampling probabilities for words based on their frequencies.\n",
        "\n",
        "    This function adjusts the frequency of each word raised to the power of 0.75, which is\n",
        "    commonly used in algorithms like Word2Vec to moderate the influence of very frequent words.\n",
        "    It then normalizes these adjusted frequencies to ensure they sum to 1, forming a probability\n",
        "    distribution used for negative sampling.\n",
        "\n",
        "    Parameters:\n",
        "    - word_count_dict (dict): A dictionary where keys are words and values are the counts of those words.\n",
        "\n",
        "    Returns:\n",
        "    - dict: A dictionary where keys are words and values are the probabilities of selecting each word\n",
        "            for negative sampling.\n",
        "\n",
        "    Example:\n",
        "    >>> word_counts = {'the': 5000, 'is': 1000, 'apple': 50}\n",
        "    >>> get_negative_sampling_prob(word_counts)\n",
        "    {'the': 0.298, 'is': 0.160, 'apple': 0.042}\n",
        "    \"\"\"\n",
        "\n",
        "    ### YOUR CODE HERE\n",
        "    adjusted_frequencies = {word: count**0.75 for word, count in word_count_dict.items()}\n",
        "    Z = sum(adjusted_frequencies.values())\n",
        "    negative_sampling_prob_dict = {word: freq / Z for word, freq in adjusted_frequencies.items()}\n",
        "\n",
        "    return negative_sampling_prob_dict"
      ]
    },
    {
      "cell_type": "markdown",
      "metadata": {
        "id": "Mn9p5rEY6wfE"
      },
      "source": [
        "Для удобства, преобразуем полученные словари в массивы (т.к. все слова все равно уже пронумерованы)."
      ]
    },
    {
      "cell_type": "code",
      "execution_count": null,
      "metadata": {
        "id": "pqxbMXRc6wfE"
      },
      "outputs": [],
      "source": [
        "keep_prob_dict = subsample_frequent_words(word_count_dict)\n",
        "assert keep_prob_dict.keys() == word_count_dict.keys()"
      ]
    },
    {
      "cell_type": "code",
      "execution_count": null,
      "metadata": {
        "id": "8cNST_ug6wfF"
      },
      "outputs": [],
      "source": [
        "negative_sampling_prob_dict = get_negative_sampling_prob(word_count_dict)\n",
        "assert negative_sampling_prob_dict.keys() == negative_sampling_prob_dict.keys()\n",
        "assert np.allclose(sum(negative_sampling_prob_dict.values()), 1)"
      ]
    },
    {
      "cell_type": "code",
      "execution_count": null,
      "metadata": {
        "id": "JkzVOwXb6wfG"
      },
      "outputs": [],
      "source": [
        "keep_prob_array = np.array(\n",
        "    [keep_prob_dict[index_to_word[idx]] for idx in range(len(word_to_index))]\n",
        ")\n",
        "negative_sampling_prob_array = np.array(\n",
        "    [\n",
        "        negative_sampling_prob_dict[index_to_word[idx]]\n",
        "        for idx in range(len(word_to_index))\n",
        "    ]\n",
        ")"
      ]
    },
    {
      "cell_type": "markdown",
      "metadata": {
        "id": "t-6T8vxj6wfG"
      },
      "source": [
        "Если все прошло успешно, функция ниже поможет вам с генерацией подвыборок (батчей)."
      ]
    },
    {
      "cell_type": "code",
      "execution_count": null,
      "metadata": {
        "id": "x6zRLiTw6wfG"
      },
      "outputs": [],
      "source": [
        "def generate_batch_with_neg_samples(\n",
        "    context_pairs,\n",
        "    batch_size,\n",
        "    keep_prob_array,\n",
        "    word_to_index,\n",
        "    num_negatives,\n",
        "    negative_sampling_prob_array,\n",
        "):\n",
        "    batch = []\n",
        "    neg_samples = []\n",
        "\n",
        "    while len(batch) < batch_size:\n",
        "        center, context = random.choice(context_pairs)\n",
        "        if random.random() < keep_prob_array[center]:\n",
        "            batch.append((center, context))\n",
        "            neg_sample = np.random.choice(\n",
        "                range(len(negative_sampling_prob_array)),\n",
        "                size=num_negatives,\n",
        "                p=negative_sampling_prob_array,\n",
        "            )\n",
        "            neg_samples.append(neg_sample)\n",
        "    batch = np.array(batch)\n",
        "    neg_samples = np.vstack(neg_samples)\n",
        "    return batch, neg_samples"
      ]
    },
    {
      "cell_type": "code",
      "execution_count": null,
      "metadata": {
        "id": "DdJbqE596wfH"
      },
      "outputs": [],
      "source": [
        "batch_size = 4\n",
        "num_negatives = 15\n",
        "batch, neg_samples = generate_batch_with_neg_samples(\n",
        "    context_pairs,\n",
        "    batch_size,\n",
        "    keep_prob_array,\n",
        "    word_to_index,\n",
        "    num_negatives,\n",
        "    negative_sampling_prob_array,\n",
        ")"
      ]
    },
    {
      "cell_type": "markdown",
      "metadata": {
        "id": "DniZQz5j6wfH"
      },
      "source": [
        "Наконец, время реализовать модель. Обращаем ваше внимание, использование линейных слоев (`nn.Linear`) далеко не всегда оправданно!\n",
        "\n",
        "Напомним, что в случае negative sampling решается задача максимизации следующего функционала:\n",
        "\n",
        "$$\n",
        "\\mathcal{L} = \\log \\sigma({\\mathbf{v}'_{w_O}}^\\top \\mathbf{v}_{w_I}) + \\sum_{i=1}^{k} \\mathbb{E}_{w_i \\sim P_n(w)} \\left[ \\log \\sigma({-\\mathbf{v}'_{w_i}}^\\top \\mathbf{v}_{w_I}) \\right],\n",
        "$$\n",
        "\n",
        "где:\n",
        "- $\\mathbf{v}_{w_I}$ – вектор центрального слова $w_I$,\n",
        "- $\\mathbf{v}'_{w_O}$ – вектор слова из контекста $w_O$,\n",
        "- $k$ – число negative samplesЮ,\n",
        "- $P_n(w)$ – распределение negative samples, заданное выше,\n",
        "- $\\sigma$ – сигмоида."
      ]
    },
    {
      "cell_type": "code",
      "execution_count": null,
      "metadata": {
        "id": "NMAnXNAe6wfI"
      },
      "outputs": [],
      "source": [
        "class SkipGramModelWithNegSampling(nn.Module):\n",
        "    def __init__(self, vocab_size, embedding_dim):\n",
        "        super().__init__()\n",
        "        self.center_embeddings = None  # YOUR CODE HERE\n",
        "        self.context_embeddings = None  # YOUR CODE HERE\n",
        "\n",
        "    def forward(self, center_words, pos_context_words, neg_context_words):\n",
        "        # YOUR CODE HERE\n",
        "        pos_scores = 0  # THIS IS A PLACEHOLDER\n",
        "        neg_scores = 0  # THIS IS A PLACEHOLDER\n",
        "\n",
        "        return pos_scores, neg_scores"
      ]
    },
    {
      "cell_type": "code",
      "source": [
        "class SkipGramModelWithNegSampling(nn.Module):\n",
        "    def __init__(self, vocab_size, embedding_dim):\n",
        "        super(SkipGramModelWithNegSampling, self).__init__()\n",
        "        self.center_embeddings = nn.Embedding(vocab_size, embedding_dim)\n",
        "        self.context_embeddings = nn.Embedding(vocab_size, embedding_dim)\n",
        "\n",
        "    def forward(self, center_words, pos_context_words, neg_context_words):\n",
        "        # Get embeddings for center words\n",
        "        center_embeds = self.center_embeddings(center_words)\n",
        "\n",
        "        # Get embeddings for positive context words\n",
        "        pos_context_embeds = self.context_embeddings(pos_context_words)\n",
        "\n",
        "        # Get embeddings for negative context words\n",
        "        neg_context_embeds = self.context_embeddings(neg_context_words)\n",
        "\n",
        "        # Calculate positive scores\n",
        "        pos_scores = torch.sum(center_embeds * pos_context_embeds, dim=1)\n",
        "\n",
        "        # Calculate negative scores\n",
        "        neg_scores = torch.bmm(neg_context_embeds, center_embeds.unsqueeze(2)).squeeze(2)\n",
        "\n",
        "        return pos_scores, neg_scores"
      ],
      "metadata": {
        "id": "3QYpk9eEMK5B"
      },
      "execution_count": null,
      "outputs": []
    },
    {
      "cell_type": "code",
      "execution_count": null,
      "metadata": {
        "id": "TliA02cj6wfI"
      },
      "outputs": [],
      "source": [
        "device = torch.device(\"cpu\")"
      ]
    },
    {
      "cell_type": "code",
      "execution_count": null,
      "metadata": {
        "id": "Ej3IBPX06wfI"
      },
      "outputs": [],
      "source": [
        "vocab_size = len(word_to_index)\n",
        "embedding_dim = 32\n",
        "num_negatives = 15\n",
        "\n",
        "model = SkipGramModelWithNegSampling(vocab_size, embedding_dim).to(device)\n",
        "optimizer = optim.Adam(model.parameters(), lr=0.05)\n",
        "lr_scheduler = ReduceLROnPlateau(optimizer, factor=0.5, patience=150)\n",
        "criterion = nn.BCEWithLogitsLoss()"
      ]
    },
    {
      "cell_type": "code",
      "execution_count": null,
      "metadata": {
        "id": "YASOgxcx6wfJ"
      },
      "outputs": [],
      "source": [
        "params_counter = 0\n",
        "for weights in model.parameters():\n",
        "    params_counter += weights.shape.numel()\n",
        "assert params_counter == len(word_to_index) * embedding_dim * 2"
      ]
    },
    {
      "cell_type": "code",
      "execution_count": null,
      "metadata": {
        "id": "HcW0AM0t6wfK"
      },
      "outputs": [],
      "source": [
        "def train_skipgram_with_neg_sampling(\n",
        "    model,\n",
        "    context_pairs,\n",
        "    keep_prob_array,\n",
        "    word_to_index,\n",
        "    batch_size,\n",
        "    num_negatives,\n",
        "    negative_sampling_prob_array,\n",
        "    steps,\n",
        "    optimizer=optimizer,\n",
        "    lr_scheduler=lr_scheduler,\n",
        "    device=device,\n",
        "):\n",
        "    pos_labels = torch.ones(batch_size).to(device)\n",
        "    neg_labels = torch.zeros(batch_size, num_negatives).to(device)\n",
        "    loss_history = []\n",
        "    for step in tqdma(range(steps)):\n",
        "        batch, neg_samples = generate_batch_with_neg_samples(\n",
        "            context_pairs,\n",
        "            batch_size,\n",
        "            keep_prob_array,\n",
        "            word_to_index,\n",
        "            num_negatives,\n",
        "            negative_sampling_prob_array,\n",
        "        )\n",
        "        center_words = torch.tensor([pair[0] for pair in batch], dtype=torch.long).to(\n",
        "            device\n",
        "        )\n",
        "        pos_context_words = torch.tensor(\n",
        "            [pair[1] for pair in batch], dtype=torch.long\n",
        "        ).to(device)\n",
        "        neg_context_words = torch.tensor(neg_samples, dtype=torch.long).to(device)\n",
        "\n",
        "        optimizer.zero_grad()\n",
        "        pos_scores, neg_scores = model(\n",
        "            center_words, pos_context_words, neg_context_words\n",
        "        )\n",
        "\n",
        "        loss_pos = criterion(pos_scores, pos_labels)\n",
        "        loss_neg = criterion(neg_scores, neg_labels)\n",
        "\n",
        "        loss = loss_pos + loss_neg\n",
        "        loss.backward()\n",
        "        optimizer.step()\n",
        "\n",
        "        loss_history.append(loss.item())\n",
        "        lr_scheduler.step(loss_history[-1])\n",
        "\n",
        "        if step % 100 == 0:\n",
        "            print(\n",
        "                f\"Step {step}, Loss: {np.mean(loss_history[-100:])}, learning rate: {lr_scheduler._last_lr}\"\n",
        "            )"
      ]
    },
    {
      "cell_type": "code",
      "execution_count": 47,
      "metadata": {
        "colab": {
          "base_uri": "https://localhost:8080/",
          "height": 483,
          "referenced_widgets": [
            "bac74a1696dc4fe8af450fedd7b9f1b3",
            "a3048a90d1844a3eba69d362ebd7f4d7",
            "4c4245140c60488d8cc3cd3d6c8ebd88",
            "11e1ce1a4a714f6687daed48b106929c",
            "a1a26403fa8246aaaf12536f8a5eaaff",
            "091dbf8d21fb44879460521c3b94fb50",
            "bcdf1acfa80e4cdd965fe6e6b7ebe130",
            "789b4da50adb4780bb3d1980d5bebda0",
            "3affe5f4adbf43b28a9b56444018e52f",
            "4faacbe79f3a4d7280163b643684253f",
            "7e42f3d3a6544ee08b7ed4db17432a22"
          ]
        },
        "id": "ws0ybEHP6wfL",
        "outputId": "e4a5f868-9f22-4309-f5a1-e02d418a500a"
      },
      "outputs": [
        {
          "data": {
            "application/vnd.jupyter.widget-view+json": {
              "model_id": "bac74a1696dc4fe8af450fedd7b9f1b3",
              "version_major": 2,
              "version_minor": 0
            },
            "text/plain": [
              "  0%|          | 0/2500 [00:00<?, ?it/s]"
            ]
          },
          "metadata": {},
          "output_type": "display_data"
        },
        {
          "output_type": "stream",
          "name": "stdout",
          "text": [
            "Step 0, Loss: 4.722661018371582, learning rate: [0.05]\n",
            "Step 100, Loss: 3.4302108097076416, learning rate: [0.05]\n",
            "Step 200, Loss: 2.567013165950775, learning rate: [0.05]\n",
            "Step 300, Loss: 2.2775474405288696, learning rate: [0.05]\n",
            "Step 400, Loss: 2.1145198440551756, learning rate: [0.05]\n",
            "Step 500, Loss: 2.0563097941875457, learning rate: [0.05]\n",
            "Step 600, Loss: 2.0476736533641815, learning rate: [0.05]\n",
            "Step 700, Loss: 2.068913367986679, learning rate: [0.05]\n",
            "Step 800, Loss: 2.0507428896427156, learning rate: [0.025]\n",
            "Step 900, Loss: 1.9509589314460754, learning rate: [0.025]\n",
            "Step 1000, Loss: 1.8881755232810975, learning rate: [0.025]\n",
            "Step 1100, Loss: 1.8305117738246919, learning rate: [0.025]\n",
            "Step 1200, Loss: 1.7958910489082336, learning rate: [0.025]\n",
            "Step 1300, Loss: 1.7690519464015961, learning rate: [0.025]\n",
            "Step 1400, Loss: 1.7374779760837555, learning rate: [0.025]\n",
            "Step 1500, Loss: 1.7190941345691682, learning rate: [0.0125]\n",
            "Step 1600, Loss: 1.6865821635723115, learning rate: [0.0125]\n",
            "Step 1700, Loss: 1.6435557854175569, learning rate: [0.0125]\n",
            "Step 1800, Loss: 1.6239721179008484, learning rate: [0.00625]\n",
            "Step 1900, Loss: 1.59904603600502, learning rate: [0.00625]\n",
            "Step 2000, Loss: 1.5849285852909087, learning rate: [0.00625]\n",
            "Step 2100, Loss: 1.565664142370224, learning rate: [0.003125]\n",
            "Step 2200, Loss: 1.5317649281024932, learning rate: [0.003125]\n",
            "Step 2300, Loss: 1.5335406410694121, learning rate: [0.003125]\n",
            "Step 2400, Loss: 1.5208873510360719, learning rate: [0.003125]\n"
          ]
        }
      ],
      "source": [
        "steps = 2500\n",
        "batch_size = 512\n",
        "train_skipgram_with_neg_sampling(\n",
        "    model,\n",
        "    context_pairs,\n",
        "    keep_prob_array,\n",
        "    word_to_index,\n",
        "    batch_size,\n",
        "    num_negatives,\n",
        "    negative_sampling_prob_array,\n",
        "    steps,\n",
        ")"
      ]
    },
    {
      "cell_type": "markdown",
      "metadata": {
        "id": "ajLvoRtD6wfL"
      },
      "source": [
        "Наконец, используйте полученную матрицу весов в качестве матрицы в векторными представлениями слов. Рекомендуем использовать для сдачи матрицу, которая отвечала за слова из контекста (т.е. декодера)."
      ]
    },
    {
      "cell_type": "code",
      "execution_count": 48,
      "metadata": {
        "id": "4cdPVNpF6wfL"
      },
      "outputs": [],
      "source": [
        "_model_parameters = model.parameters()\n",
        "embedding_matrix_center = next(\n",
        "    _model_parameters\n",
        ").detach()  # Assuming that first matrix was for central word\n",
        "embedding_matrix_context = next(\n",
        "    _model_parameters\n",
        ").detach()  # Assuming that second matrix was for context word"
      ]
    },
    {
      "cell_type": "code",
      "execution_count": 49,
      "metadata": {
        "id": "etce8hzA6wfM"
      },
      "outputs": [],
      "source": [
        "def get_word_vector(word, embedding_matrix, word_to_index=word_to_index):\n",
        "    return embedding_matrix[word_to_index[word]]"
      ]
    },
    {
      "cell_type": "markdown",
      "metadata": {
        "id": "QSQPZd3K6wfM"
      },
      "source": [
        "Простые проверки:"
      ]
    },
    {
      "cell_type": "code",
      "execution_count": 50,
      "metadata": {
        "id": "mE2ViC8f6wfW"
      },
      "outputs": [],
      "source": [
        "similarity_1 = F.cosine_similarity(\n",
        "    get_word_vector(\"iphone\", embedding_matrix_context)[None, :],\n",
        "    get_word_vector(\"apple\", embedding_matrix_context)[None, :],\n",
        ")\n",
        "similarity_2 = F.cosine_similarity(\n",
        "    get_word_vector(\"iphone\", embedding_matrix_context)[None, :],\n",
        "    get_word_vector(\"dell\", embedding_matrix_context)[None, :],\n",
        ")\n",
        "assert similarity_1 > similarity_2"
      ]
    },
    {
      "cell_type": "code",
      "execution_count": 51,
      "metadata": {
        "id": "BnKsyns06wfW"
      },
      "outputs": [],
      "source": [
        "similarity_1 = F.cosine_similarity(\n",
        "    get_word_vector(\"windows\", embedding_matrix_context)[None, :],\n",
        "    get_word_vector(\"laptop\", embedding_matrix_context)[None, :],\n",
        ")\n",
        "similarity_2 = F.cosine_similarity(\n",
        "    get_word_vector(\"windows\", embedding_matrix_context)[None, :],\n",
        "    get_word_vector(\"macbook\", embedding_matrix_context)[None, :],\n",
        ")\n",
        "assert similarity_1 > similarity_2"
      ]
    },
    {
      "cell_type": "markdown",
      "metadata": {
        "id": "xwq31kSg6wfX"
      },
      "source": [
        "Наконец, взглянем на ближайшие по косинусной мере слова. Функция реализована ниже."
      ]
    },
    {
      "cell_type": "code",
      "execution_count": 52,
      "metadata": {
        "id": "dA0V6rOYtsLk"
      },
      "outputs": [],
      "source": [
        "def find_nearest(word, embedding_matrix, word_to_index=word_to_index, k=10):\n",
        "    word_vector = get_word_vector(word, embedding_matrix)[None, :]\n",
        "    dists = F.cosine_similarity(embedding_matrix, word_vector)\n",
        "    index_sorted = torch.argsort(dists)\n",
        "    top_k = index_sorted[-k:]\n",
        "    return [(index_to_word[x], dists[x].item()) for x in top_k.numpy()]"
      ]
    },
    {
      "cell_type": "code",
      "execution_count": 53,
      "metadata": {
        "id": "XayAuJ036wfX",
        "colab": {
          "base_uri": "https://localhost:8080/"
        },
        "outputId": "32f43c00-72ad-44bf-eff9-9b754a748c2b"
      },
      "outputs": [
        {
          "output_type": "execute_result",
          "data": {
            "text/plain": [
              "[('halls', 0.6620255708694458),\n",
              " ('stereotyping', 0.6677696108818054),\n",
              " ('kth', 0.6740096211433411),\n",
              " ('weathering', 0.6861402988433838),\n",
              " ('sentimental', 0.687727689743042),\n",
              " ('cairo', 0.703622043132782),\n",
              " ('gopal', 0.7055472731590271),\n",
              " ('combinator', 0.7144323587417603),\n",
              " ('pollutants', 0.7169784903526306),\n",
              " ('python', 1.0)]"
            ]
          },
          "metadata": {},
          "execution_count": 53
        }
      ],
      "source": [
        "find_nearest(\"python\", embedding_matrix_context, k=10)"
      ]
    },
    {
      "cell_type": "markdown",
      "metadata": {
        "id": "6W5jUDV16wfY"
      },
      "source": [
        "Также вы можете визуально проверить, как представлены в латентном пространстве часто встречающиеся слова."
      ]
    },
    {
      "cell_type": "code",
      "execution_count": 54,
      "metadata": {
        "id": "AzhwcSmm6wfY"
      },
      "outputs": [],
      "source": [
        "top_k = 5000\n",
        "_top_words = sorted([x for x in word_count_dict.items()], key=lambda x: x[1])[\n",
        "    -top_k - 100 : -100\n",
        "]  # ignoring 100 most frequent words\n",
        "top_words = [x[0] for x in _top_words]\n",
        "del _top_words"
      ]
    },
    {
      "cell_type": "code",
      "execution_count": 55,
      "metadata": {
        "id": "mvC2dEg16wfY"
      },
      "outputs": [],
      "source": [
        "word_embeddings = torch.cat(\n",
        "    [embedding_matrix_context[word_to_index[x]][None, :] for x in top_words], dim=0\n",
        ").numpy()"
      ]
    },
    {
      "cell_type": "code",
      "execution_count": 56,
      "metadata": {
        "id": "jxKNSVtv6wfZ"
      },
      "outputs": [],
      "source": [
        "import bokeh.models as bm\n",
        "import bokeh.plotting as pl\n",
        "from bokeh.io import output_notebook\n",
        "\n",
        "output_notebook()\n",
        "\n",
        "\n",
        "def draw_vectors(\n",
        "    x,\n",
        "    y,\n",
        "    radius=10,\n",
        "    alpha=0.25,\n",
        "    color=\"blue\",\n",
        "    width=600,\n",
        "    height=400,\n",
        "    show=True,\n",
        "    **kwargs,\n",
        "):\n",
        "    \"\"\"draws an interactive plot for data points with auxilirary info on hover\"\"\"\n",
        "    if isinstance(color, str):\n",
        "        color = [color] * len(x)\n",
        "    data_source = bm.ColumnDataSource({\"x\": x, \"y\": y, \"color\": color, **kwargs})\n",
        "\n",
        "    fig = pl.figure(active_scroll=\"wheel_zoom\", width=width, height=height)\n",
        "    fig.scatter(\"x\", \"y\", size=radius, color=\"color\", alpha=alpha, source=data_source)\n",
        "\n",
        "    fig.add_tools(bm.HoverTool(tooltips=[(key, \"@\" + key) for key in kwargs.keys()]))\n",
        "    if show:\n",
        "        pl.show(fig)\n",
        "    return fig"
      ]
    },
    {
      "cell_type": "code",
      "execution_count": 57,
      "metadata": {
        "id": "_iYpUzB66wfZ",
        "colab": {
          "base_uri": "https://localhost:8080/"
        },
        "outputId": "d9eda9d9-133e-48a2-c255-6f22009edb4c"
      },
      "outputs": [
        {
          "output_type": "stream",
          "name": "stderr",
          "text": [
            "/usr/local/lib/python3.10/dist-packages/sklearn/utils/deprecation.py:151: FutureWarning: 'force_all_finite' was renamed to 'ensure_all_finite' in 1.6 and will be removed in 1.8.\n",
            "  warnings.warn(\n"
          ]
        }
      ],
      "source": [
        "embedding = umap.UMAP(n_neighbors=5).fit_transform(word_embeddings)"
      ]
    },
    {
      "cell_type": "code",
      "execution_count": 58,
      "metadata": {
        "id": "lxO-eLzg6wfa",
        "colab": {
          "base_uri": "https://localhost:8080/",
          "height": 434
        },
        "outputId": "514594dc-65c0-459c-e388-b676a136d7a0"
      },
      "outputs": [
        {
          "output_type": "display_data",
          "data": {
            "application/javascript": [
              "'use strict';\n",
              "(function(root) {\n",
              "  function now() {\n",
              "    return new Date();\n",
              "  }\n",
              "\n",
              "  const force = true;\n",
              "\n",
              "  if (typeof root._bokeh_onload_callbacks === \"undefined\" || force === true) {\n",
              "    root._bokeh_onload_callbacks = [];\n",
              "    root._bokeh_is_loading = undefined;\n",
              "  }\n",
              "\n",
              "const JS_MIME_TYPE = 'application/javascript';\n",
              "  const HTML_MIME_TYPE = 'text/html';\n",
              "  const EXEC_MIME_TYPE = 'application/vnd.bokehjs_exec.v0+json';\n",
              "  const CLASS_NAME = 'output_bokeh rendered_html';\n",
              "\n",
              "  /**\n",
              "   * Render data to the DOM node\n",
              "   */\n",
              "  function render(props, node) {\n",
              "    const script = document.createElement(\"script\");\n",
              "    node.appendChild(script);\n",
              "  }\n",
              "\n",
              "  /**\n",
              "   * Handle when an output is cleared or removed\n",
              "   */\n",
              "  function handleClearOutput(event, handle) {\n",
              "    function drop(id) {\n",
              "      const view = Bokeh.index.get_by_id(id)\n",
              "      if (view != null) {\n",
              "        view.model.document.clear()\n",
              "        Bokeh.index.delete(view)\n",
              "      }\n",
              "    }\n",
              "\n",
              "    const cell = handle.cell;\n",
              "\n",
              "    const id = cell.output_area._bokeh_element_id;\n",
              "    const server_id = cell.output_area._bokeh_server_id;\n",
              "\n",
              "    // Clean up Bokeh references\n",
              "    if (id != null) {\n",
              "      drop(id)\n",
              "    }\n",
              "\n",
              "    if (server_id !== undefined) {\n",
              "      // Clean up Bokeh references\n",
              "      const cmd_clean = \"from bokeh.io.state import curstate; print(curstate().uuid_to_server['\" + server_id + \"'].get_sessions()[0].document.roots[0]._id)\";\n",
              "      cell.notebook.kernel.execute(cmd_clean, {\n",
              "        iopub: {\n",
              "          output: function(msg) {\n",
              "            const id = msg.content.text.trim()\n",
              "            drop(id)\n",
              "          }\n",
              "        }\n",
              "      });\n",
              "      // Destroy server and session\n",
              "      const cmd_destroy = \"import bokeh.io.notebook as ion; ion.destroy_server('\" + server_id + \"')\";\n",
              "      cell.notebook.kernel.execute(cmd_destroy);\n",
              "    }\n",
              "  }\n",
              "\n",
              "  /**\n",
              "   * Handle when a new output is added\n",
              "   */\n",
              "  function handleAddOutput(event, handle) {\n",
              "    const output_area = handle.output_area;\n",
              "    const output = handle.output;\n",
              "\n",
              "    // limit handleAddOutput to display_data with EXEC_MIME_TYPE content only\n",
              "    if ((output.output_type != \"display_data\") || (!Object.prototype.hasOwnProperty.call(output.data, EXEC_MIME_TYPE))) {\n",
              "      return\n",
              "    }\n",
              "\n",
              "    const toinsert = output_area.element.find(\".\" + CLASS_NAME.split(' ')[0]);\n",
              "\n",
              "    if (output.metadata[EXEC_MIME_TYPE][\"id\"] !== undefined) {\n",
              "      toinsert[toinsert.length - 1].firstChild.textContent = output.data[JS_MIME_TYPE];\n",
              "      // store reference to embed id on output_area\n",
              "      output_area._bokeh_element_id = output.metadata[EXEC_MIME_TYPE][\"id\"];\n",
              "    }\n",
              "    if (output.metadata[EXEC_MIME_TYPE][\"server_id\"] !== undefined) {\n",
              "      const bk_div = document.createElement(\"div\");\n",
              "      bk_div.innerHTML = output.data[HTML_MIME_TYPE];\n",
              "      const script_attrs = bk_div.children[0].attributes;\n",
              "      for (let i = 0; i < script_attrs.length; i++) {\n",
              "        toinsert[toinsert.length - 1].firstChild.setAttribute(script_attrs[i].name, script_attrs[i].value);\n",
              "        toinsert[toinsert.length - 1].firstChild.textContent = bk_div.children[0].textContent\n",
              "      }\n",
              "      // store reference to server id on output_area\n",
              "      output_area._bokeh_server_id = output.metadata[EXEC_MIME_TYPE][\"server_id\"];\n",
              "    }\n",
              "  }\n",
              "\n",
              "  function register_renderer(events, OutputArea) {\n",
              "\n",
              "    function append_mime(data, metadata, element) {\n",
              "      // create a DOM node to render to\n",
              "      const toinsert = this.create_output_subarea(\n",
              "        metadata,\n",
              "        CLASS_NAME,\n",
              "        EXEC_MIME_TYPE\n",
              "      );\n",
              "      this.keyboard_manager.register_events(toinsert);\n",
              "      // Render to node\n",
              "      const props = {data: data, metadata: metadata[EXEC_MIME_TYPE]};\n",
              "      render(props, toinsert[toinsert.length - 1]);\n",
              "      element.append(toinsert);\n",
              "      return toinsert\n",
              "    }\n",
              "\n",
              "    /* Handle when an output is cleared or removed */\n",
              "    events.on('clear_output.CodeCell', handleClearOutput);\n",
              "    events.on('delete.Cell', handleClearOutput);\n",
              "\n",
              "    /* Handle when a new output is added */\n",
              "    events.on('output_added.OutputArea', handleAddOutput);\n",
              "\n",
              "    /**\n",
              "     * Register the mime type and append_mime function with output_area\n",
              "     */\n",
              "    OutputArea.prototype.register_mime_type(EXEC_MIME_TYPE, append_mime, {\n",
              "      /* Is output safe? */\n",
              "      safe: true,\n",
              "      /* Index of renderer in `output_area.display_order` */\n",
              "      index: 0\n",
              "    });\n",
              "  }\n",
              "\n",
              "  // register the mime type if in Jupyter Notebook environment and previously unregistered\n",
              "  if (root.Jupyter !== undefined) {\n",
              "    const events = require('base/js/events');\n",
              "    const OutputArea = require('notebook/js/outputarea').OutputArea;\n",
              "\n",
              "    if (OutputArea.prototype.mime_types().indexOf(EXEC_MIME_TYPE) == -1) {\n",
              "      register_renderer(events, OutputArea);\n",
              "    }\n",
              "  }\n",
              "  if (typeof (root._bokeh_timeout) === \"undefined\" || force === true) {\n",
              "    root._bokeh_timeout = Date.now() + 5000;\n",
              "    root._bokeh_failed_load = false;\n",
              "  }\n",
              "\n",
              "  const NB_LOAD_WARNING = {'data': {'text/html':\n",
              "     \"<div style='background-color: #fdd'>\\n\"+\n",
              "     \"<p>\\n\"+\n",
              "     \"BokehJS does not appear to have successfully loaded. If loading BokehJS from CDN, this \\n\"+\n",
              "     \"may be due to a slow or bad network connection. Possible fixes:\\n\"+\n",
              "     \"</p>\\n\"+\n",
              "     \"<ul>\\n\"+\n",
              "     \"<li>re-rerun `output_notebook()` to attempt to load from CDN again, or</li>\\n\"+\n",
              "     \"<li>use INLINE resources instead, as so:</li>\\n\"+\n",
              "     \"</ul>\\n\"+\n",
              "     \"<code>\\n\"+\n",
              "     \"from bokeh.resources import INLINE\\n\"+\n",
              "     \"output_notebook(resources=INLINE)\\n\"+\n",
              "     \"</code>\\n\"+\n",
              "     \"</div>\"}};\n",
              "\n",
              "  function display_loaded(error = null) {\n",
              "    const el = document.getElementById(null);\n",
              "    if (el != null) {\n",
              "      const html = (() => {\n",
              "        if (typeof root.Bokeh === \"undefined\") {\n",
              "          if (error == null) {\n",
              "            return \"BokehJS is loading ...\";\n",
              "          } else {\n",
              "            return \"BokehJS failed to load.\";\n",
              "          }\n",
              "        } else {\n",
              "          const prefix = `BokehJS ${root.Bokeh.version}`;\n",
              "          if (error == null) {\n",
              "            return `${prefix} successfully loaded.`;\n",
              "          } else {\n",
              "            return `${prefix} <b>encountered errors</b> while loading and may not function as expected.`;\n",
              "          }\n",
              "        }\n",
              "      })();\n",
              "      el.innerHTML = html;\n",
              "\n",
              "      if (error != null) {\n",
              "        const wrapper = document.createElement(\"div\");\n",
              "        wrapper.style.overflow = \"auto\";\n",
              "        wrapper.style.height = \"5em\";\n",
              "        wrapper.style.resize = \"vertical\";\n",
              "        const content = document.createElement(\"div\");\n",
              "        content.style.fontFamily = \"monospace\";\n",
              "        content.style.whiteSpace = \"pre-wrap\";\n",
              "        content.style.backgroundColor = \"rgb(255, 221, 221)\";\n",
              "        content.textContent = error.stack ?? error.toString();\n",
              "        wrapper.append(content);\n",
              "        el.append(wrapper);\n",
              "      }\n",
              "    } else if (Date.now() < root._bokeh_timeout) {\n",
              "      setTimeout(() => display_loaded(error), 100);\n",
              "    }\n",
              "  }\n",
              "\n",
              "  function run_callbacks() {\n",
              "    try {\n",
              "      root._bokeh_onload_callbacks.forEach(function(callback) {\n",
              "        if (callback != null)\n",
              "          callback();\n",
              "      });\n",
              "    } finally {\n",
              "      delete root._bokeh_onload_callbacks\n",
              "    }\n",
              "    console.debug(\"Bokeh: all callbacks have finished\");\n",
              "  }\n",
              "\n",
              "  function load_libs(css_urls, js_urls, callback) {\n",
              "    if (css_urls == null) css_urls = [];\n",
              "    if (js_urls == null) js_urls = [];\n",
              "\n",
              "    root._bokeh_onload_callbacks.push(callback);\n",
              "    if (root._bokeh_is_loading > 0) {\n",
              "      console.debug(\"Bokeh: BokehJS is being loaded, scheduling callback at\", now());\n",
              "      return null;\n",
              "    }\n",
              "    if (js_urls == null || js_urls.length === 0) {\n",
              "      run_callbacks();\n",
              "      return null;\n",
              "    }\n",
              "    console.debug(\"Bokeh: BokehJS not loaded, scheduling load and callback at\", now());\n",
              "    root._bokeh_is_loading = css_urls.length + js_urls.length;\n",
              "\n",
              "    function on_load() {\n",
              "      root._bokeh_is_loading--;\n",
              "      if (root._bokeh_is_loading === 0) {\n",
              "        console.debug(\"Bokeh: all BokehJS libraries/stylesheets loaded\");\n",
              "        run_callbacks()\n",
              "      }\n",
              "    }\n",
              "\n",
              "    function on_error(url) {\n",
              "      console.error(\"failed to load \" + url);\n",
              "    }\n",
              "\n",
              "    for (let i = 0; i < css_urls.length; i++) {\n",
              "      const url = css_urls[i];\n",
              "      const element = document.createElement(\"link\");\n",
              "      element.onload = on_load;\n",
              "      element.onerror = on_error.bind(null, url);\n",
              "      element.rel = \"stylesheet\";\n",
              "      element.type = \"text/css\";\n",
              "      element.href = url;\n",
              "      console.debug(\"Bokeh: injecting link tag for BokehJS stylesheet: \", url);\n",
              "      document.body.appendChild(element);\n",
              "    }\n",
              "\n",
              "    for (let i = 0; i < js_urls.length; i++) {\n",
              "      const url = js_urls[i];\n",
              "      const element = document.createElement('script');\n",
              "      element.onload = on_load;\n",
              "      element.onerror = on_error.bind(null, url);\n",
              "      element.async = false;\n",
              "      element.src = url;\n",
              "      console.debug(\"Bokeh: injecting script tag for BokehJS library: \", url);\n",
              "      document.head.appendChild(element);\n",
              "    }\n",
              "  };\n",
              "\n",
              "  function inject_raw_css(css) {\n",
              "    const element = document.createElement(\"style\");\n",
              "    element.appendChild(document.createTextNode(css));\n",
              "    document.body.appendChild(element);\n",
              "  }\n",
              "\n",
              "  const js_urls = [\"https://cdn.bokeh.org/bokeh/release/bokeh-3.6.2.min.js\", \"https://cdn.bokeh.org/bokeh/release/bokeh-gl-3.6.2.min.js\", \"https://cdn.bokeh.org/bokeh/release/bokeh-widgets-3.6.2.min.js\", \"https://cdn.bokeh.org/bokeh/release/bokeh-tables-3.6.2.min.js\", \"https://cdn.bokeh.org/bokeh/release/bokeh-mathjax-3.6.2.min.js\"];\n",
              "  const css_urls = [];\n",
              "\n",
              "  const inline_js = [    function(Bokeh) {\n",
              "      Bokeh.set_log_level(\"info\");\n",
              "    },\n",
              "function(Bokeh) {\n",
              "    }\n",
              "  ];\n",
              "\n",
              "  function run_inline_js() {\n",
              "    if (root.Bokeh !== undefined || force === true) {\n",
              "      try {\n",
              "            for (let i = 0; i < inline_js.length; i++) {\n",
              "      inline_js[i].call(root, root.Bokeh);\n",
              "    }\n",
              "\n",
              "      } catch (error) {throw error;\n",
              "      }} else if (Date.now() < root._bokeh_timeout) {\n",
              "      setTimeout(run_inline_js, 100);\n",
              "    } else if (!root._bokeh_failed_load) {\n",
              "      console.log(\"Bokeh: BokehJS failed to load within specified timeout.\");\n",
              "      root._bokeh_failed_load = true;\n",
              "    } else if (force !== true) {\n",
              "      const cell = $(document.getElementById(null)).parents('.cell').data().cell;\n",
              "      cell.output_area.append_execute_result(NB_LOAD_WARNING)\n",
              "    }\n",
              "  }\n",
              "\n",
              "  if (root._bokeh_is_loading === 0) {\n",
              "    console.debug(\"Bokeh: BokehJS loaded, going straight to plotting\");\n",
              "    run_inline_js();\n",
              "  } else {\n",
              "    load_libs(css_urls, js_urls, function() {\n",
              "      console.debug(\"Bokeh: BokehJS plotting callback run at\", now());\n",
              "      run_inline_js();\n",
              "    });\n",
              "  }\n",
              "}(window));"
            ],
            "application/vnd.bokehjs_load.v0+json": "'use strict';\n(function(root) {\n  function now() {\n    return new Date();\n  }\n\n  const force = true;\n\n  if (typeof root._bokeh_onload_callbacks === \"undefined\" || force === true) {\n    root._bokeh_onload_callbacks = [];\n    root._bokeh_is_loading = undefined;\n  }\n\n\n  if (typeof (root._bokeh_timeout) === \"undefined\" || force === true) {\n    root._bokeh_timeout = Date.now() + 5000;\n    root._bokeh_failed_load = false;\n  }\n\n  const NB_LOAD_WARNING = {'data': {'text/html':\n     \"<div style='background-color: #fdd'>\\n\"+\n     \"<p>\\n\"+\n     \"BokehJS does not appear to have successfully loaded. If loading BokehJS from CDN, this \\n\"+\n     \"may be due to a slow or bad network connection. Possible fixes:\\n\"+\n     \"</p>\\n\"+\n     \"<ul>\\n\"+\n     \"<li>re-rerun `output_notebook()` to attempt to load from CDN again, or</li>\\n\"+\n     \"<li>use INLINE resources instead, as so:</li>\\n\"+\n     \"</ul>\\n\"+\n     \"<code>\\n\"+\n     \"from bokeh.resources import INLINE\\n\"+\n     \"output_notebook(resources=INLINE)\\n\"+\n     \"</code>\\n\"+\n     \"</div>\"}};\n\n  function display_loaded(error = null) {\n    const el = document.getElementById(null);\n    if (el != null) {\n      const html = (() => {\n        if (typeof root.Bokeh === \"undefined\") {\n          if (error == null) {\n            return \"BokehJS is loading ...\";\n          } else {\n            return \"BokehJS failed to load.\";\n          }\n        } else {\n          const prefix = `BokehJS ${root.Bokeh.version}`;\n          if (error == null) {\n            return `${prefix} successfully loaded.`;\n          } else {\n            return `${prefix} <b>encountered errors</b> while loading and may not function as expected.`;\n          }\n        }\n      })();\n      el.innerHTML = html;\n\n      if (error != null) {\n        const wrapper = document.createElement(\"div\");\n        wrapper.style.overflow = \"auto\";\n        wrapper.style.height = \"5em\";\n        wrapper.style.resize = \"vertical\";\n        const content = document.createElement(\"div\");\n        content.style.fontFamily = \"monospace\";\n        content.style.whiteSpace = \"pre-wrap\";\n        content.style.backgroundColor = \"rgb(255, 221, 221)\";\n        content.textContent = error.stack ?? error.toString();\n        wrapper.append(content);\n        el.append(wrapper);\n      }\n    } else if (Date.now() < root._bokeh_timeout) {\n      setTimeout(() => display_loaded(error), 100);\n    }\n  }\n\n  function run_callbacks() {\n    try {\n      root._bokeh_onload_callbacks.forEach(function(callback) {\n        if (callback != null)\n          callback();\n      });\n    } finally {\n      delete root._bokeh_onload_callbacks\n    }\n    console.debug(\"Bokeh: all callbacks have finished\");\n  }\n\n  function load_libs(css_urls, js_urls, callback) {\n    if (css_urls == null) css_urls = [];\n    if (js_urls == null) js_urls = [];\n\n    root._bokeh_onload_callbacks.push(callback);\n    if (root._bokeh_is_loading > 0) {\n      console.debug(\"Bokeh: BokehJS is being loaded, scheduling callback at\", now());\n      return null;\n    }\n    if (js_urls == null || js_urls.length === 0) {\n      run_callbacks();\n      return null;\n    }\n    console.debug(\"Bokeh: BokehJS not loaded, scheduling load and callback at\", now());\n    root._bokeh_is_loading = css_urls.length + js_urls.length;\n\n    function on_load() {\n      root._bokeh_is_loading--;\n      if (root._bokeh_is_loading === 0) {\n        console.debug(\"Bokeh: all BokehJS libraries/stylesheets loaded\");\n        run_callbacks()\n      }\n    }\n\n    function on_error(url) {\n      console.error(\"failed to load \" + url);\n    }\n\n    for (let i = 0; i < css_urls.length; i++) {\n      const url = css_urls[i];\n      const element = document.createElement(\"link\");\n      element.onload = on_load;\n      element.onerror = on_error.bind(null, url);\n      element.rel = \"stylesheet\";\n      element.type = \"text/css\";\n      element.href = url;\n      console.debug(\"Bokeh: injecting link tag for BokehJS stylesheet: \", url);\n      document.body.appendChild(element);\n    }\n\n    for (let i = 0; i < js_urls.length; i++) {\n      const url = js_urls[i];\n      const element = document.createElement('script');\n      element.onload = on_load;\n      element.onerror = on_error.bind(null, url);\n      element.async = false;\n      element.src = url;\n      console.debug(\"Bokeh: injecting script tag for BokehJS library: \", url);\n      document.head.appendChild(element);\n    }\n  };\n\n  function inject_raw_css(css) {\n    const element = document.createElement(\"style\");\n    element.appendChild(document.createTextNode(css));\n    document.body.appendChild(element);\n  }\n\n  const js_urls = [\"https://cdn.bokeh.org/bokeh/release/bokeh-3.6.2.min.js\", \"https://cdn.bokeh.org/bokeh/release/bokeh-gl-3.6.2.min.js\", \"https://cdn.bokeh.org/bokeh/release/bokeh-widgets-3.6.2.min.js\", \"https://cdn.bokeh.org/bokeh/release/bokeh-tables-3.6.2.min.js\", \"https://cdn.bokeh.org/bokeh/release/bokeh-mathjax-3.6.2.min.js\"];\n  const css_urls = [];\n\n  const inline_js = [    function(Bokeh) {\n      Bokeh.set_log_level(\"info\");\n    },\nfunction(Bokeh) {\n    }\n  ];\n\n  function run_inline_js() {\n    if (root.Bokeh !== undefined || force === true) {\n      try {\n            for (let i = 0; i < inline_js.length; i++) {\n      inline_js[i].call(root, root.Bokeh);\n    }\n\n      } catch (error) {throw error;\n      }} else if (Date.now() < root._bokeh_timeout) {\n      setTimeout(run_inline_js, 100);\n    } else if (!root._bokeh_failed_load) {\n      console.log(\"Bokeh: BokehJS failed to load within specified timeout.\");\n      root._bokeh_failed_load = true;\n    } else if (force !== true) {\n      const cell = $(document.getElementById(null)).parents('.cell').data().cell;\n      cell.output_area.append_execute_result(NB_LOAD_WARNING)\n    }\n  }\n\n  if (root._bokeh_is_loading === 0) {\n    console.debug(\"Bokeh: BokehJS loaded, going straight to plotting\");\n    run_inline_js();\n  } else {\n    load_libs(css_urls, js_urls, function() {\n      console.debug(\"Bokeh: BokehJS plotting callback run at\", now());\n      run_inline_js();\n    });\n  }\n}(window));"
          },
          "metadata": {}
        },
        {
          "output_type": "display_data",
          "data": {
            "text/html": [
              "\n",
              "  <div id=\"ef7c992d-2f7b-4c3c-8201-31af3f9470bc\" data-root-id=\"p1004\" style=\"display: contents;\"></div>\n"
            ]
          },
          "metadata": {}
        },
        {
          "output_type": "display_data",
          "data": {
            "application/javascript": [
              "(function(root) {\n",
              "  function embed_document(root) {\n",
              "  const docs_json = {\"352c178f-e3d4-4106-b666-310f7a5b6b6a\":{\"version\":\"3.6.2\",\"title\":\"Bokeh Application\",\"roots\":[{\"type\":\"object\",\"name\":\"Figure\",\"id\":\"p1004\",\"attributes\":{\"height\":400,\"x_range\":{\"type\":\"object\",\"name\":\"DataRange1d\",\"id\":\"p1005\"},\"y_range\":{\"type\":\"object\",\"name\":\"DataRange1d\",\"id\":\"p1006\"},\"x_scale\":{\"type\":\"object\",\"name\":\"LinearScale\",\"id\":\"p1013\"},\"y_scale\":{\"type\":\"object\",\"name\":\"LinearScale\",\"id\":\"p1014\"},\"title\":{\"type\":\"object\",\"name\":\"Title\",\"id\":\"p1011\"},\"renderers\":[{\"type\":\"object\",\"name\":\"GlyphRenderer\",\"id\":\"p1044\",\"attributes\":{\"data_source\":{\"type\":\"object\",\"name\":\"ColumnDataSource\",\"id\":\"p1001\",\"attributes\":{\"selected\":{\"type\":\"object\",\"name\":\"Selection\",\"id\":\"p1002\",\"attributes\":{\"indices\":[],\"line_indices\":[]}},\"selection_policy\":{\"type\":\"object\",\"name\":\"UnionRenderers\",\"id\":\"p1003\"},\"data\":{\"type\":\"map\",\"entries\":[[\"x\",{\"type\":\"ndarray\",\"array\":{\"type\":\"bytes\",\"data\":\"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\"},\"shape\":[5000],\"dtype\":\"float32\",\"order\":\"little\"}],[\"y\",{\"type\":\"ndarray\",\"array\":{\"type\":\"bytes\",\"data\":\"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\"},\"shape\":[5000],\"dtype\":\"float32\",\"order\":\"little\"}],[\"color\",[\"blue\",\"blue\",\"blue\",\"blue\",\"blue\",\"blue\",\"blue\",\"blue\",\"blue\",\"blue\",\"blue\",\"blue\",\"blue\",\"blue\",\"blue\",\"blue\",\"blue\",\"blue\",\"blue\",\"blue\",\"blue\",\"blue\",\"blue\",\"blue\",\"blue\",\"blue\",\"blue\",\"blue\",\"blue\",\"blue\",\"blue\",\"blue\",\"blue\",\"blue\",\"blue\",\"blue\",\"blue\",\"blue\",\"blue\",\"blue\",\"blue\",\"blue\",\"blue\",\"blue\",\"blue\",\"blue\",\"blue\",\"blue\",\"blue\",\"blue\",\"blue\",\"blue\",\"blue\",\"blue\",\"blue\",\"blue\",\"blue\",\"blue\",\"blue\",\"blue\",\"blue\",\"blue\",\"blue\",\"blue\",\"blue\",\"blue\",\"blue\",\"blue\",\"blue\",\"blue\",\"blue\",\"blue\",\"blue\",\"blue\",\"blue\",\"blue\",\"blue\",\"blue\",\"blue\",\"blue\",\"blue\",\"blue\",\"blue\",\"blue\",\"blue\",\"blue\",\"blue\",\"blue\",\"blue\",\"blue\",\"blue\",\"blue\",\"blue\",\"blue\",\"blue\",\"blue\",\"blue\",\"blue\",\"blue\",\"blue\",\"blue\",\"blue\",\"blue\",\"blue\",\"blue\",\"blue\",\"blue\",\"blue\",\"blue\",\"blue\",\"blue\",\"blue\",\"blue\",\"blue\",\"blue\",\"blue\",\"blue\",\"blue\",\"blue\",\"blue\",\"blue\",\"blue\",\"blue\",\"blue\",\"blue\",\"blue\",\"blue\",\"blue\",\"blue\",\"blue\",\"blue\",\"blue\",\"blue\",\"blue\",\"blue\",\"blue\",\"blue\",\"blue\",\"blue\",\"blue\",\"blue\",\"blue\",\"blue\",\"blue\",\"blue\",\"blue\",\"blue\",\"blue\",\"blue\",\"blue\",\"blue\",\"blue\",\"blue\",\"blue\",\"blue\",\"blue\",\"blue\",\"blue\",\"blue\",\"blue\",\"blue\",\"blue\",\"blue\",\"blue\",\"blue\",\"blue\",\"blue\",\"blue\",\"blue\",\"blue\",\"blue\",\"blue\",\"blue\",\"blue\",\"blue\",\"blue\",\"blue\",\"blue\",\"blue\",\"blue\",\"blue\",\"blue\",\"blue\",\"blue\",\"blue\",\"blue\",\"blue\",\"blue\",\"blue\",\"blue\",\"blue\",\"blue\",\"blue\",\"blue\",\"blue\",\"blue\",\"blue\",\"blue\",\"blue\",\"blue\",\"blue\",\"blue\",\"blue\",\"blue\",\"blue\",\"blue\",\"blue\",\"blue\",\"blue\",\"blue\",\"blue\",\"blue\",\"blue\",\"blue\",\"blue\",\"blue\",\"blue\",\"blue\",\"blue\",\"blue\",\"blue\",\"blue\",\"blue\",\"blue\",\"blue\",\"blue\",\"blue\",\"blue\",\"blue\",\"blue\",\"blue\",\"blue\",\"blue\",\"blue\",\"blue\",\"blue\",\"blue\",\"blue\",\"blue\",\"blue\",\"blue\",\"blue\",\"blue\",\"blue\",\"blue\",\"blue\",\"blue\",\"blue\",\"blue\",\"blue\",\"blue\",\"blue\",\"blue\",\"blue\",\"blue\",\"blue\",\"blue\",\"blue\",\"blue\",\"blue\",\"blue\",\"blue\",\"blue\",\"blue\",\"blue\",\"blue\",\"blue\",\"blue\",\"blue\",\"blue\",\"blue\",\"blue\",\"blue\",\"blue\",\"blue\",\"blue\",\"blue\",\"blue\",\"blue\",\"blue\",\"blue\",\"blue\",\"blue\",\"blue\",\"blue\",\"blue\",\"blue\",\"blue\",\"blue\",\"blue\",\"blue\",\"blue\",\"blue\",\"blue\",\"blue\",\"blue\",\"blue\",\"blue\",\"blue\",\"blue\",\"blue\",\"blue\",\"blue\",\"blue\",\"blue\",\"blue\",\"blue\",\"blue\",\"blue\",\"blue\",\"blue\",\"blue\",\"blue\",\"blue\",\"blue\",\"blue\",\"blue\",\"blue\",\"blue\",\"blue\",\"blue\",\"blue\",\"blue\",\"blue\",\"blue\",\"blue\",\"blue\",\"blue\",\"blue\",\"blue\",\"blue\",\"blue\",\"blue\",\"blue\",\"blue\",\"blue\",\"blue\",\"blue\",\"blue\",\"blue\",\"blue\",\"blue\",\"blue\",\"blue\",\"blue\",\"blue\",\"blue\",\"blue\",\"blue\",\"blue\",\"blue\",\"blue\",\"blue\",\"blue\",\"blue\",\"blue\",\"blue\",\"blue\",\"blue\",\"blue\",\"blue\",\"blue\",\"blue\",\"blue\",\"blue\",\"blue\",\"blue\",\"blue\",\"blue\",\"blue\",\"blue\",\"blue\",\"blue\",\"blue\",\"blue\",\"blue\",\"blue\",\"blue\",\"blue\",\"blue\",\"blue\",\"blue\",\"blue\",\"blue\",\"blue\",\"blue\",\"blue\",\"blue\",\"blue\",\"blue\",\"blue\",\"blue\",\"blue\",\"blue\",\"blue\",\"blue\",\"blue\",\"blue\",\"blue\",\"blue\",\"blue\",\"blue\",\"blue\",\"blue\",\"blue\",\"blue\",\"blue\",\"blue\",\"blue\",\"blue\",\"blue\",\"blue\",\"blue\",\"blue\",\"blue\",\"blue\",\"blue\",\"blue\",\"blue\",\"blue\",\"blue\",\"blue\",\"blue\",\"blue\",\"blue\",\"blue\",\"blue\",\"blue\",\"blue\",\"blue\",\"blue\",\"blue\",\"blue\",\"blue\",\"blue\",\"blue\",\"blue\",\"blue\",\"blue\",\"blue\",\"blue\",\"blue\",\"blue\",\"blue\",\"blue\",\"blue\",\"blue\",\"blue\",\"blue\",\"blue\",\"blue\",\"blue\",\"blue\",\"blue\",\"blue\",\"blue\",\"blue\",\"blue\",\"blue\",\"blue\",\"blue\",\"blue\",\"blue\",\"blue\",\"blue\",\"blue\",\"blue\",\"blue\",\"blue\",\"blue\",\"blue\",\"blue\",\"blue\",\"blue\",\"blue\",\"blue\",\"blue\",\"blue\",\"blue\",\"blue\",\"blue\",\"blue\",\"blue\",\"blue\",\"blue\",\"blue\",\"blue\",\"blue\",\"blue\",\"blue\",\"blue\",\"blue\",\"blue\",\"blue\",\"blue\",\"blue\",\"blue\",\"blue\",\"blue\",\"blue\",\"blue\",\"blue\",\"blue\",\"blue\",\"blue\",\"blue\",\"blue\",\"blue\",\"blue\",\"blue\",\"blue\",\"blue\",\"blue\",\"blue\",\"blue\",\"blue\",\"blue\",\"blue\",\"blue\",\"blue\",\"blue\",\"blue\",\"blue\",\"blue\",\"blue\",\"blue\",\"blue\",\"blue\",\"blue\",\"blue\",\"blue\",\"blue\",\"blue\",\"blue\",\"blue\",\"blue\",\"blue\",\"blue\",\"blue\",\"blue\",\"blue\",\"blue\",\"blue\",\"blue\",\"blue\",\"blue\",\"blue\",\"blue\",\"blue\",\"blue\",\"blue\",\"blue\",\"blue\",\"blue\",\"blue\",\"blue\",\"blue\",\"blue\",\"blue\",\"blue\",\"blue\",\"blue\",\"blue\",\"blue\",\"blue\",\"blue\",\"blue\",\"blue\",\"blue\",\"blue\",\"blue\",\"blue\",\"blue\",\"blue\",\"blue\",\"blue\",\"blue\",\"blue\",\"blue\",\"blue\",\"blue\",\"blue\",\"blue\",\"blue\",\"blue\",\"blue\",\"blue\",\"blue\",\"blue\",\"blue\",\"blue\",\"blue\",\"blue\",\"blue\",\"blue\",\"blue\",\"blue\",\"blue\",\"blue\",\"blue\",\"blue\",\"blue\",\"blue\",\"blue\",\"blue\",\"blue\",\"blue\",\"blue\",\"blue\",\"blue\",\"blue\",\"blue\",\"blue\",\"blue\",\"blue\",\"blue\",\"blue\",\"blue\",\"blue\",\"blue\",\"blue\",\"blue\",\"blue\",\"blue\",\"blue\",\"blue\",\"blue\",\"blue\",\"blue\",\"blue\",\"blue\",\"blue\",\"blue\",\"blue\",\"blue\",\"blue\",\"blue\",\"blue\",\"blue\",\"blue\",\"blue\",\"blue\",\"blue\",\"blue\",\"blue\",\"blue\",\"blue\",\"blue\",\"blue\",\"blue\",\"blue\",\"blue\",\"blue\",\"blue\",\"blue\",\"blue\",\"blue\",\"blue\",\"blue\",\"blue\",\"blue\",\"blue\",\"blue\",\"blue\",\"blue\",\"blue\",\"blue\",\"blue\",\"blue\",\"blue\",\"blue\",\"blue\",\"blue\",\"blue\",\"blue\",\"blue\",\"blue\",\"blue\",\"blue\",\"blue\",\"blue\",\"blue\",\"blue\",\"blue\",\"blue\",\"blue\",\"blue\",\"blue\",\"blue\",\"blue\",\"blue\",\"blue\",\"blue\",\"blue\",\"blue\",\"blue\",\"blue\",\"blue\",\"blue\",\"blue\",\"blue\",\"blue\",\"blue\",\"blue\",\"blue\",\"blue\",\"blue\",\"blue\",\"blue\",\"blue\",\"blue\",\"blue\",\"blue\",\"blue\",\"blue\",\"blue\",\"blue\",\"blue\",\"blue\",\"blue\",\"blue\",\"blue\",\"blue\",\"blue\",\"blue\",\"blue\",\"blue\",\"blue\",\"blue\",\"blue\",\"blue\",\"blue\",\"blue\",\"blue\",\"blue\",\"blue\",\"blue\",\"blue\",\"blue\",\"blue\",\"blue\",\"blue\",\"blue\",\"blue\",\"blue\",\"blue\",\"blue\",\"blue\",\"blue\",\"blue\",\"blue\",\"blue\",\"blue\",\"blue\",\"blue\",\"blue\",\"blue\",\"blue\",\"blue\",\"blue\",\"blue\",\"blue\",\"blue\",\"blue\",\"blue\",\"blue\",\"blue\",\"blue\",\"blue\",\"blue\",\"blue\",\"blue\",\"blue\",\"blue\",\"blue\",\"blue\",\"blue\",\"blue\",\"blue\",\"blue\",\"blue\",\"blue\",\"blue\",\"blue\",\"blue\",\"blue\",\"blue\",\"blue\",\"blue\",\"blue\",\"blue\",\"blue\",\"blue\",\"blue\",\"blue\",\"blue\",\"blue\",\"blue\",\"blue\",\"blue\",\"blue\",\"blue\",\"blue\",\"blue\",\"blue\",\"blue\",\"blue\",\"blue\",\"blue\",\"blue\",\"blue\",\"blue\",\"blue\",\"blue\",\"blue\",\"blue\",\"blue\",\"blue\",\"blue\",\"blue\",\"blue\",\"blue\",\"blue\",\"blue\",\"blue\",\"blue\",\"blue\",\"blue\",\"blue\",\"blue\",\"blue\",\"blue\",\"blue\",\"blue\",\"blue\",\"blue\",\"blue\",\"blue\",\"blue\",\"blue\",\"blue\",\"blue\",\"blue\",\"blue\",\"blue\",\"blue\",\"blue\",\"blue\",\"blue\",\"blue\",\"blue\",\"blue\",\"blue\",\"blue\",\"blue\",\"blue\",\"blue\",\"blue\",\"blue\",\"blue\",\"blue\",\"blue\",\"blue\",\"blue\",\"blue\",\"blue\",\"blue\",\"blue\",\"blue\",\"blue\",\"blue\",\"blue\",\"blue\",\"blue\",\"blue\",\"blue\",\"blue\",\"blue\",\"blue\",\"blue\",\"blue\",\"blue\",\"blue\",\"blue\",\"blue\",\"blue\",\"blue\",\"blue\",\"blue\",\"blue\",\"blue\",\"blue\",\"blue\",\"blue\",\"blue\",\"blue\",\"blue\",\"blue\",\"blue\",\"blue\",\"blue\",\"blue\",\"blue\",\"blue\",\"blue\",\"blue\",\"blue\",\"blue\",\"blue\",\"blue\",\"blue\",\"blue\",\"blue\",\"blue\",\"blue\",\"blue\",\"blue\",\"blue\",\"blue\",\"blue\",\"blue\",\"blue\",\"blue\",\"blue\",\"blue\",\"blue\",\"blue\",\"blue\",\"blue\",\"blue\",\"blue\",\"blue\",\"blue\",\"blue\",\"blue\",\"blue\",\"blue\",\"blue\",\"blue\",\"blue\",\"blue\",\"blue\",\"blue\",\"blue\",\"blue\",\"blue\",\"blue\",\"blue\",\"blue\",\"blue\",\"blue\",\"blue\",\"blue\",\"blue\",\"blue\",\"blue\",\"blue\",\"blue\",\"blue\",\"blue\",\"blue\",\"blue\",\"blue\",\"blue\",\"blue\",\"blue\",\"blue\",\"blue\",\"blue\",\"blue\",\"blue\",\"blue\",\"blue\",\"blue\",\"blue\",\"blue\",\"blue\",\"blue\",\"blue\",\"blue\",\"blue\",\"blue\",\"blue\",\"blue\",\"blue\",\"blue\",\"blue\",\"blue\",\"blue\",\"blue\",\"blue\",\"blue\",\"blue\",\"blue\",\"blue\",\"blue\",\"blue\",\"blue\",\"blue\",\"blue\",\"blue\",\"blue\",\"blue\",\"blue\",\"blue\",\"blue\",\"blue\",\"blue\",\"blue\",\"blue\",\"blue\",\"blue\",\"blue\",\"blue\",\"blue\",\"blue\",\"blue\",\"blue\",\"blue\",\"blue\",\"blue\",\"blue\",\"blue\",\"blue\",\"blue\",\"blue\",\"blue\",\"blue\",\"blue\",\"blue\",\"blue\",\"blue\",\"blue\",\"blue\",\"blue\",\"blue\",\"blue\",\"blue\",\"blue\",\"blue\",\"blue\",\"blue\",\"blue\",\"blue\",\"blue\",\"blue\",\"blue\",\"blue\",\"blue\",\"blue\",\"blue\",\"blue\",\"blue\",\"blue\",\"blue\",\"blue\",\"blue\",\"blue\",\"blue\",\"blue\",\"blue\",\"blue\",\"blue\",\"blue\",\"blue\",\"blue\",\"blue\",\"blue\",\"blue\",\"blue\",\"blue\",\"blue\",\"blue\",\"blue\",\"blue\",\"blue\",\"blue\",\"blue\",\"blue\",\"blue\",\"blue\",\"blue\",\"blue\",\"blue\",\"blue\",\"blue\",\"blue\",\"blue\",\"blue\",\"blue\",\"blue\",\"blue\",\"blue\",\"blue\",\"blue\",\"blue\",\"blue\",\"blue\",\"blue\",\"blue\",\"blue\",\"blue\",\"blue\",\"blue\",\"blue\",\"blue\",\"blue\",\"blue\",\"blue\",\"blue\",\"blue\",\"blue\",\"blue\",\"blue\",\"blue\",\"blue\",\"blue\",\"blue\",\"blue\",\"blue\",\"blue\",\"blue\",\"blue\",\"blue\",\"blue\",\"blue\",\"blue\",\"blue\",\"blue\",\"blue\",\"blue\",\"blue\",\"blue\",\"blue\",\"blue\",\"blue\",\"blue\",\"blue\",\"blue\",\"blue\",\"blue\",\"blue\",\"blue\",\"blue\",\"blue\",\"blue\",\"blue\",\"blue\",\"blue\",\"blue\",\"blue\",\"blue\",\"blue\",\"blue\",\"blue\",\"blue\",\"blue\",\"blue\",\"blue\",\"blue\",\"blue\",\"blue\",\"blue\",\"blue\",\"blue\",\"blue\",\"blue\",\"blue\",\"blue\",\"blue\",\"blue\",\"blue\",\"blue\",\"blue\",\"blue\",\"blue\",\"blue\",\"blue\",\"blue\",\"blue\",\"blue\",\"blue\",\"blue\",\"blue\",\"blue\",\"blue\",\"blue\",\"blue\",\"blue\",\"blue\",\"blue\",\"blue\",\"blue\",\"blue\",\"blue\",\"blue\",\"blue\",\"blue\",\"blue\",\"blue\",\"blue\",\"blue\",\"blue\",\"blue\",\"blue\",\"blue\",\"blue\",\"blue\",\"blue\",\"blue\",\"blue\",\"blue\",\"blue\",\"blue\",\"blue\",\"blue\",\"blue\",\"blue\",\"blue\",\"blue\",\"blue\",\"blue\",\"blue\",\"blue\",\"blue\",\"blue\",\"blue\",\"blue\",\"blue\",\"blue\",\"blue\",\"blue\",\"blue\",\"blue\",\"blue\",\"blue\",\"blue\",\"blue\",\"blue\",\"blue\",\"blue\",\"blue\",\"blue\",\"blue\",\"blue\",\"blue\",\"blue\",\"blue\",\"blue\",\"blue\",\"blue\",\"blue\",\"blue\",\"blue\",\"blue\",\"blue\",\"blue\",\"blue\",\"blue\",\"blue\",\"blue\",\"blue\",\"blue\",\"blue\",\"blue\",\"blue\",\"blue\",\"blue\",\"blue\",\"blue\",\"blue\",\"blue\",\"blue\",\"blue\",\"blue\",\"blue\",\"blue\",\"blue\",\"blue\",\"blue\",\"blue\",\"blue\",\"blue\",\"blue\",\"blue\",\"blue\",\"blue\",\"blue\",\"blue\",\"blue\",\"blue\",\"blue\",\"blue\",\"blue\",\"blue\",\"blue\",\"blue\",\"blue\",\"blue\",\"blue\",\"blue\",\"blue\",\"blue\",\"blue\",\"blue\",\"blue\",\"blue\",\"blue\",\"blue\",\"blue\",\"blue\",\"blue\",\"blue\",\"blue\",\"blue\",\"blue\",\"blue\",\"blue\",\"blue\",\"blue\",\"blue\",\"blue\",\"blue\",\"blue\",\"blue\",\"blue\",\"blue\",\"blue\",\"blue\",\"blue\",\"blue\",\"blue\",\"blue\",\"blue\",\"blue\",\"blue\",\"blue\",\"blue\",\"blue\",\"blue\",\"blue\",\"blue\",\"blue\",\"blue\",\"blue\",\"blue\",\"blue\",\"blue\",\"blue\",\"blue\",\"blue\",\"blue\",\"blue\",\"blue\",\"blue\",\"blue\",\"blue\",\"blue\",\"blue\",\"blue\",\"blue\",\"blue\",\"blue\",\"blue\",\"blue\",\"blue\",\"blue\",\"blue\",\"blue\",\"blue\",\"blue\",\"blue\",\"blue\",\"blue\",\"blue\",\"blue\",\"blue\",\"blue\",\"blue\",\"blue\",\"blue\",\"blue\",\"blue\",\"blue\",\"blue\",\"blue\",\"blue\",\"blue\",\"blue\",\"blue\",\"blue\",\"blue\",\"blue\",\"blue\",\"blue\",\"blue\",\"blue\",\"blue\",\"blue\",\"blue\",\"blue\",\"blue\",\"blue\",\"blue\",\"blue\",\"blue\",\"blue\",\"blue\",\"blue\",\"blue\",\"blue\",\"blue\",\"blue\",\"blue\",\"blue\",\"blue\",\"blue\",\"blue\",\"blue\",\"blue\",\"blue\",\"blue\",\"blue\",\"blue\",\"blue\",\"blue\",\"blue\",\"blue\",\"blue\",\"blue\",\"blue\",\"blue\",\"blue\",\"blue\",\"blue\",\"blue\",\"blue\",\"blue\",\"blue\",\"blue\",\"blue\",\"blue\",\"blue\",\"blue\",\"blue\",\"blue\",\"blue\",\"blue\",\"blue\",\"blue\",\"blue\",\"blue\",\"blue\",\"blue\",\"blue\",\"blue\",\"blue\",\"blue\",\"blue\",\"blue\",\"blue\",\"blue\",\"blue\",\"blue\",\"blue\",\"blue\",\"blue\",\"blue\",\"blue\",\"blue\",\"blue\",\"blue\",\"blue\",\"blue\",\"blue\",\"blue\",\"blue\",\"blue\",\"blue\",\"blue\",\"blue\",\"blue\",\"blue\",\"blue\",\"blue\",\"blue\",\"blue\",\"blue\",\"blue\",\"blue\",\"blue\",\"blue\",\"blue\",\"blue\",\"blue\",\"blue\",\"blue\",\"blue\",\"blue\",\"blue\",\"blue\",\"blue\",\"blue\",\"blue\",\"blue\",\"blue\",\"blue\",\"blue\",\"blue\",\"blue\",\"blue\",\"blue\",\"blue\",\"blue\",\"blue\",\"blue\",\"blue\",\"blue\",\"blue\",\"blue\",\"blue\",\"blue\",\"blue\",\"blue\",\"blue\",\"blue\",\"blue\",\"blue\",\"blue\",\"blue\",\"blue\",\"blue\",\"blue\",\"blue\",\"blue\",\"blue\",\"blue\",\"blue\",\"blue\",\"blue\",\"blue\",\"blue\",\"blue\",\"blue\",\"blue\",\"blue\",\"blue\",\"blue\",\"blue\",\"blue\",\"blue\",\"blue\",\"blue\",\"blue\",\"blue\",\"blue\",\"blue\",\"blue\",\"blue\",\"blue\",\"blue\",\"blue\",\"blue\",\"blue\",\"blue\",\"blue\",\"blue\",\"blue\",\"blue\",\"blue\",\"blue\",\"blue\",\"blue\",\"blue\",\"blue\",\"blue\",\"blue\",\"blue\",\"blue\",\"blue\",\"blue\",\"blue\",\"blue\",\"blue\",\"blue\",\"blue\",\"blue\",\"blue\",\"blue\",\"blue\",\"blue\",\"blue\",\"blue\",\"blue\",\"blue\",\"blue\",\"blue\",\"blue\",\"blue\",\"blue\",\"blue\",\"blue\",\"blue\",\"blue\",\"blue\",\"blue\",\"blue\",\"blue\",\"blue\",\"blue\",\"blue\",\"blue\",\"blue\",\"blue\",\"blue\",\"blue\",\"blue\",\"blue\",\"blue\",\"blue\",\"blue\",\"blue\",\"blue\",\"blue\",\"blue\",\"blue\",\"blue\",\"blue\",\"blue\",\"blue\",\"blue\",\"blue\",\"blue\",\"blue\",\"blue\",\"blue\",\"blue\",\"blue\",\"blue\",\"blue\",\"blue\",\"blue\",\"blue\",\"blue\",\"blue\",\"blue\",\"blue\",\"blue\",\"blue\",\"blue\",\"blue\",\"blue\",\"blue\",\"blue\",\"blue\",\"blue\",\"blue\",\"blue\",\"blue\",\"blue\",\"blue\",\"blue\",\"blue\",\"blue\",\"blue\",\"blue\",\"blue\",\"blue\",\"blue\",\"blue\",\"blue\",\"blue\",\"blue\",\"blue\",\"blue\",\"blue\",\"blue\",\"blue\",\"blue\",\"blue\",\"blue\",\"blue\",\"blue\",\"blue\",\"blue\",\"blue\",\"blue\",\"blue\",\"blue\",\"blue\",\"blue\",\"blue\",\"blue\",\"blue\",\"blue\",\"blue\",\"blue\",\"blue\",\"blue\",\"blue\",\"blue\",\"blue\",\"blue\",\"blue\",\"blue\",\"blue\",\"blue\",\"blue\",\"blue\",\"blue\",\"blue\",\"blue\",\"blue\",\"blue\",\"blue\",\"blue\",\"blue\",\"blue\",\"blue\",\"blue\",\"blue\",\"blue\",\"blue\",\"blue\",\"blue\",\"blue\",\"blue\",\"blue\",\"blue\",\"blue\",\"blue\",\"blue\",\"blue\",\"blue\",\"blue\",\"blue\",\"blue\",\"blue\",\"blue\",\"blue\",\"blue\",\"blue\",\"blue\",\"blue\",\"blue\",\"blue\",\"blue\",\"blue\",\"blue\",\"blue\",\"blue\",\"blue\",\"blue\",\"blue\",\"blue\",\"blue\",\"blue\",\"blue\",\"blue\",\"blue\",\"blue\",\"blue\",\"blue\",\"blue\",\"blue\",\"blue\",\"blue\",\"blue\",\"blue\",\"blue\",\"blue\",\"blue\",\"blue\",\"blue\",\"blue\",\"blue\",\"blue\",\"blue\",\"blue\",\"blue\",\"blue\",\"blue\",\"blue\",\"blue\",\"blue\",\"blue\",\"blue\",\"blue\",\"blue\",\"blue\",\"blue\",\"blue\",\"blue\",\"blue\",\"blue\",\"blue\",\"blue\",\"blue\",\"blue\",\"blue\",\"blue\",\"blue\",\"blue\",\"blue\",\"blue\",\"blue\",\"blue\",\"blue\",\"blue\",\"blue\",\"blue\",\"blue\",\"blue\",\"blue\",\"blue\",\"blue\",\"blue\",\"blue\",\"blue\",\"blue\",\"blue\",\"blue\",\"blue\",\"blue\",\"blue\",\"blue\",\"blue\",\"blue\",\"blue\",\"blue\",\"blue\",\"blue\",\"blue\",\"blue\",\"blue\",\"blue\",\"blue\",\"blue\",\"blue\",\"blue\",\"blue\",\"blue\",\"blue\",\"blue\",\"blue\",\"blue\",\"blue\",\"blue\",\"blue\",\"blue\",\"blue\",\"blue\",\"blue\",\"blue\",\"blue\",\"blue\",\"blue\",\"blue\",\"blue\",\"blue\",\"blue\",\"blue\",\"blue\",\"blue\",\"blue\",\"blue\",\"blue\",\"blue\",\"blue\",\"blue\",\"blue\",\"blue\",\"blue\",\"blue\",\"blue\",\"blue\",\"blue\",\"blue\",\"blue\",\"blue\",\"blue\",\"blue\",\"blue\",\"blue\",\"blue\",\"blue\",\"blue\",\"blue\",\"blue\",\"blue\",\"blue\",\"blue\",\"blue\",\"blue\",\"blue\",\"blue\",\"blue\",\"blue\",\"blue\",\"blue\",\"blue\",\"blue\",\"blue\",\"blue\",\"blue\",\"blue\",\"blue\",\"blue\",\"blue\",\"blue\",\"blue\",\"blue\",\"blue\",\"blue\",\"blue\",\"blue\",\"blue\",\"blue\",\"blue\",\"blue\",\"blue\",\"blue\",\"blue\",\"blue\",\"blue\",\"blue\",\"blue\",\"blue\",\"blue\",\"blue\",\"blue\",\"blue\",\"blue\",\"blue\",\"blue\",\"blue\",\"blue\",\"blue\",\"blue\",\"blue\",\"blue\",\"blue\",\"blue\",\"blue\",\"blue\",\"blue\",\"blue\",\"blue\",\"blue\",\"blue\",\"blue\",\"blue\",\"blue\",\"blue\",\"blue\",\"blue\",\"blue\",\"blue\",\"blue\",\"blue\",\"blue\",\"blue\",\"blue\",\"blue\",\"blue\",\"blue\",\"blue\",\"blue\",\"blue\",\"blue\",\"blue\",\"blue\",\"blue\",\"blue\",\"blue\",\"blue\",\"blue\",\"blue\",\"blue\",\"blue\",\"blue\",\"blue\",\"blue\",\"blue\",\"blue\",\"blue\",\"blue\",\"blue\",\"blue\",\"blue\",\"blue\",\"blue\",\"blue\",\"blue\",\"blue\",\"blue\",\"blue\",\"blue\",\"blue\",\"blue\",\"blue\",\"blue\",\"blue\",\"blue\",\"blue\",\"blue\",\"blue\",\"blue\",\"blue\",\"blue\",\"blue\",\"blue\",\"blue\",\"blue\",\"blue\",\"blue\",\"blue\",\"blue\",\"blue\",\"blue\",\"blue\",\"blue\",\"blue\",\"blue\",\"blue\",\"blue\",\"blue\",\"blue\",\"blue\",\"blue\",\"blue\",\"blue\",\"blue\",\"blue\",\"blue\",\"blue\",\"blue\",\"blue\",\"blue\",\"blue\",\"blue\",\"blue\",\"blue\",\"blue\",\"blue\",\"blue\",\"blue\",\"blue\",\"blue\",\"blue\",\"blue\",\"blue\",\"blue\",\"blue\",\"blue\",\"blue\",\"blue\",\"blue\",\"blue\",\"blue\",\"blue\",\"blue\",\"blue\",\"blue\",\"blue\",\"blue\",\"blue\",\"blue\",\"blue\",\"blue\",\"blue\",\"blue\",\"blue\",\"blue\",\"blue\",\"blue\",\"blue\",\"blue\",\"blue\",\"blue\",\"blue\",\"blue\",\"blue\",\"blue\",\"blue\",\"blue\",\"blue\",\"blue\",\"blue\",\"blue\",\"blue\",\"blue\",\"blue\",\"blue\",\"blue\",\"blue\",\"blue\",\"blue\",\"blue\",\"blue\",\"blue\",\"blue\",\"blue\",\"blue\",\"blue\",\"blue\",\"blue\",\"blue\",\"blue\",\"blue\",\"blue\",\"blue\",\"blue\",\"blue\",\"blue\",\"blue\",\"blue\",\"blue\",\"blue\",\"blue\",\"blue\",\"blue\",\"blue\",\"blue\",\"blue\",\"blue\",\"blue\",\"blue\",\"blue\",\"blue\",\"blue\",\"blue\",\"blue\",\"blue\",\"blue\",\"blue\",\"blue\",\"blue\",\"blue\",\"blue\",\"blue\",\"blue\",\"blue\",\"blue\",\"blue\",\"blue\",\"blue\",\"blue\",\"blue\",\"blue\",\"blue\",\"blue\",\"blue\",\"blue\",\"blue\",\"blue\",\"blue\",\"blue\",\"blue\",\"blue\",\"blue\",\"blue\",\"blue\",\"blue\",\"blue\",\"blue\",\"blue\",\"blue\",\"blue\",\"blue\",\"blue\",\"blue\",\"blue\",\"blue\",\"blue\",\"blue\",\"blue\",\"blue\",\"blue\",\"blue\",\"blue\",\"blue\",\"blue\",\"blue\",\"blue\",\"blue\",\"blue\",\"blue\",\"blue\",\"blue\",\"blue\",\"blue\",\"blue\",\"blue\",\"blue\",\"blue\",\"blue\",\"blue\",\"blue\",\"blue\",\"blue\",\"blue\",\"blue\",\"blue\",\"blue\",\"blue\",\"blue\",\"blue\",\"blue\",\"blue\",\"blue\",\"blue\",\"blue\",\"blue\",\"blue\",\"blue\",\"blue\",\"blue\",\"blue\",\"blue\",\"blue\",\"blue\",\"blue\",\"blue\",\"blue\",\"blue\",\"blue\",\"blue\",\"blue\",\"blue\",\"blue\",\"blue\",\"blue\",\"blue\",\"blue\",\"blue\",\"blue\",\"blue\",\"blue\",\"blue\",\"blue\",\"blue\",\"blue\",\"blue\",\"blue\",\"blue\",\"blue\",\"blue\",\"blue\",\"blue\",\"blue\",\"blue\",\"blue\",\"blue\",\"blue\",\"blue\",\"blue\",\"blue\",\"blue\",\"blue\",\"blue\",\"blue\",\"blue\",\"blue\",\"blue\",\"blue\",\"blue\",\"blue\",\"blue\",\"blue\",\"blue\",\"blue\",\"blue\",\"blue\",\"blue\",\"blue\",\"blue\",\"blue\",\"blue\",\"blue\",\"blue\",\"blue\",\"blue\",\"blue\",\"blue\",\"blue\",\"blue\",\"blue\",\"blue\",\"blue\",\"blue\",\"blue\",\"blue\",\"blue\",\"blue\",\"blue\",\"blue\",\"blue\",\"blue\",\"blue\",\"blue\",\"blue\",\"blue\",\"blue\",\"blue\",\"blue\",\"blue\",\"blue\",\"blue\",\"blue\",\"blue\",\"blue\",\"blue\",\"blue\",\"blue\",\"blue\",\"blue\",\"blue\",\"blue\",\"blue\",\"blue\",\"blue\",\"blue\",\"blue\",\"blue\",\"blue\",\"blue\",\"blue\",\"blue\",\"blue\",\"blue\",\"blue\",\"blue\",\"blue\",\"blue\",\"blue\",\"blue\",\"blue\",\"blue\",\"blue\",\"blue\",\"blue\",\"blue\",\"blue\",\"blue\",\"blue\",\"blue\",\"blue\",\"blue\",\"blue\",\"blue\",\"blue\",\"blue\",\"blue\",\"blue\",\"blue\",\"blue\",\"blue\",\"blue\",\"blue\",\"blue\",\"blue\",\"blue\",\"blue\",\"blue\",\"blue\",\"blue\",\"blue\",\"blue\",\"blue\",\"blue\",\"blue\",\"blue\",\"blue\",\"blue\",\"blue\",\"blue\",\"blue\",\"blue\",\"blue\",\"blue\",\"blue\",\"blue\",\"blue\",\"blue\",\"blue\",\"blue\",\"blue\",\"blue\",\"blue\",\"blue\",\"blue\",\"blue\",\"blue\",\"blue\",\"blue\",\"blue\",\"blue\",\"blue\",\"blue\",\"blue\",\"blue\",\"blue\",\"blue\",\"blue\",\"blue\",\"blue\",\"blue\",\"blue\",\"blue\",\"blue\",\"blue\",\"blue\",\"blue\",\"blue\",\"blue\",\"blue\",\"blue\",\"blue\",\"blue\",\"blue\",\"blue\",\"blue\",\"blue\",\"blue\",\"blue\",\"blue\",\"blue\",\"blue\",\"blue\",\"blue\",\"blue\",\"blue\",\"blue\",\"blue\",\"blue\",\"blue\",\"blue\",\"blue\",\"blue\",\"blue\",\"blue\",\"blue\",\"blue\",\"blue\",\"blue\",\"blue\",\"blue\",\"blue\",\"blue\",\"blue\",\"blue\",\"blue\",\"blue\",\"blue\",\"blue\",\"blue\",\"blue\",\"blue\",\"blue\",\"blue\",\"blue\",\"blue\",\"blue\",\"blue\",\"blue\",\"blue\",\"blue\",\"blue\",\"blue\",\"blue\",\"blue\",\"blue\",\"blue\",\"blue\",\"blue\",\"blue\",\"blue\",\"blue\",\"blue\",\"blue\",\"blue\",\"blue\",\"blue\",\"blue\",\"blue\",\"blue\",\"blue\",\"blue\",\"blue\",\"blue\",\"blue\",\"blue\",\"blue\",\"blue\",\"blue\",\"blue\",\"blue\",\"blue\",\"blue\",\"blue\",\"blue\",\"blue\",\"blue\",\"blue\",\"blue\",\"blue\",\"blue\",\"blue\",\"blue\",\"blue\",\"blue\",\"blue\",\"blue\",\"blue\",\"blue\",\"blue\",\"blue\",\"blue\",\"blue\",\"blue\",\"blue\",\"blue\",\"blue\",\"blue\",\"blue\",\"blue\",\"blue\",\"blue\",\"blue\",\"blue\",\"blue\",\"blue\",\"blue\",\"blue\",\"blue\",\"blue\",\"blue\",\"blue\",\"blue\",\"blue\",\"blue\",\"blue\",\"blue\",\"blue\",\"blue\",\"blue\",\"blue\",\"blue\",\"blue\",\"blue\",\"blue\",\"blue\",\"blue\",\"blue\",\"blue\",\"blue\",\"blue\",\"blue\",\"blue\",\"blue\",\"blue\",\"blue\",\"blue\",\"blue\",\"blue\",\"blue\",\"blue\",\"blue\",\"blue\",\"blue\",\"blue\",\"blue\",\"blue\",\"blue\",\"blue\",\"blue\",\"blue\",\"blue\",\"blue\",\"blue\",\"blue\",\"blue\",\"blue\",\"blue\",\"blue\",\"blue\",\"blue\",\"blue\",\"blue\",\"blue\",\"blue\",\"blue\",\"blue\",\"blue\",\"blue\",\"blue\",\"blue\",\"blue\",\"blue\",\"blue\",\"blue\",\"blue\",\"blue\",\"blue\",\"blue\",\"blue\",\"blue\",\"blue\",\"blue\",\"blue\",\"blue\",\"blue\",\"blue\",\"blue\",\"blue\",\"blue\",\"blue\",\"blue\",\"blue\",\"blue\",\"blue\",\"blue\",\"blue\",\"blue\",\"blue\",\"blue\",\"blue\",\"blue\",\"blue\",\"blue\",\"blue\",\"blue\",\"blue\",\"blue\",\"blue\",\"blue\",\"blue\",\"blue\",\"blue\",\"blue\",\"blue\",\"blue\",\"blue\",\"blue\",\"blue\",\"blue\",\"blue\",\"blue\",\"blue\",\"blue\",\"blue\",\"blue\",\"blue\",\"blue\",\"blue\",\"blue\",\"blue\",\"blue\",\"blue\",\"blue\",\"blue\",\"blue\",\"blue\",\"blue\",\"blue\",\"blue\",\"blue\",\"blue\",\"blue\",\"blue\",\"blue\",\"blue\",\"blue\",\"blue\",\"blue\",\"blue\",\"blue\",\"blue\",\"blue\",\"blue\",\"blue\",\"blue\",\"blue\",\"blue\",\"blue\",\"blue\",\"blue\",\"blue\",\"blue\",\"blue\",\"blue\",\"blue\",\"blue\",\"blue\",\"blue\",\"blue\",\"blue\",\"blue\",\"blue\",\"blue\",\"blue\",\"blue\",\"blue\",\"blue\",\"blue\",\"blue\",\"blue\",\"blue\",\"blue\",\"blue\",\"blue\",\"blue\",\"blue\",\"blue\",\"blue\",\"blue\",\"blue\",\"blue\",\"blue\",\"blue\",\"blue\",\"blue\",\"blue\",\"blue\",\"blue\",\"blue\",\"blue\",\"blue\",\"blue\",\"blue\",\"blue\",\"blue\",\"blue\",\"blue\",\"blue\",\"blue\",\"blue\",\"blue\",\"blue\",\"blue\",\"blue\",\"blue\",\"blue\",\"blue\",\"blue\",\"blue\",\"blue\",\"blue\",\"blue\",\"blue\",\"blue\",\"blue\",\"blue\",\"blue\",\"blue\",\"blue\",\"blue\",\"blue\",\"blue\",\"blue\",\"blue\",\"blue\",\"blue\",\"blue\",\"blue\",\"blue\",\"blue\",\"blue\",\"blue\",\"blue\",\"blue\",\"blue\",\"blue\",\"blue\",\"blue\",\"blue\",\"blue\",\"blue\",\"blue\",\"blue\",\"blue\",\"blue\",\"blue\",\"blue\",\"blue\",\"blue\",\"blue\",\"blue\",\"blue\",\"blue\",\"blue\",\"blue\",\"blue\",\"blue\",\"blue\",\"blue\",\"blue\",\"blue\",\"blue\",\"blue\",\"blue\",\"blue\",\"blue\",\"blue\",\"blue\",\"blue\",\"blue\",\"blue\",\"blue\",\"blue\",\"blue\",\"blue\",\"blue\",\"blue\",\"blue\",\"blue\",\"blue\",\"blue\",\"blue\",\"blue\",\"blue\",\"blue\",\"blue\",\"blue\",\"blue\",\"blue\",\"blue\",\"blue\",\"blue\",\"blue\",\"blue\",\"blue\",\"blue\",\"blue\",\"blue\",\"blue\",\"blue\",\"blue\",\"blue\",\"blue\",\"blue\",\"blue\",\"blue\",\"blue\",\"blue\",\"blue\",\"blue\",\"blue\",\"blue\",\"blue\",\"blue\",\"blue\",\"blue\",\"blue\",\"blue\",\"blue\",\"blue\",\"blue\",\"blue\",\"blue\",\"blue\",\"blue\",\"blue\",\"blue\",\"blue\",\"blue\",\"blue\",\"blue\",\"blue\",\"blue\",\"blue\",\"blue\",\"blue\",\"blue\",\"blue\",\"blue\",\"blue\",\"blue\",\"blue\",\"blue\",\"blue\",\"blue\",\"blue\",\"blue\",\"blue\",\"blue\",\"blue\",\"blue\",\"blue\",\"blue\",\"blue\",\"blue\",\"blue\",\"blue\",\"blue\",\"blue\",\"blue\",\"blue\",\"blue\",\"blue\",\"blue\",\"blue\",\"blue\",\"blue\",\"blue\",\"blue\",\"blue\",\"blue\",\"blue\",\"blue\",\"blue\",\"blue\",\"blue\",\"blue\",\"blue\",\"blue\",\"blue\",\"blue\",\"blue\",\"blue\",\"blue\",\"blue\",\"blue\",\"blue\",\"blue\",\"blue\",\"blue\",\"blue\",\"blue\",\"blue\",\"blue\",\"blue\",\"blue\",\"blue\",\"blue\",\"blue\",\"blue\",\"blue\",\"blue\",\"blue\",\"blue\",\"blue\",\"blue\",\"blue\",\"blue\",\"blue\",\"blue\",\"blue\",\"blue\",\"blue\",\"blue\",\"blue\",\"blue\",\"blue\",\"blue\",\"blue\",\"blue\",\"blue\",\"blue\",\"blue\",\"blue\",\"blue\",\"blue\",\"blue\",\"blue\",\"blue\",\"blue\",\"blue\",\"blue\",\"blue\",\"blue\",\"blue\",\"blue\",\"blue\",\"blue\",\"blue\",\"blue\",\"blue\",\"blue\",\"blue\",\"blue\",\"blue\",\"blue\",\"blue\",\"blue\",\"blue\",\"blue\",\"blue\",\"blue\",\"blue\",\"blue\",\"blue\",\"blue\",\"blue\",\"blue\",\"blue\",\"blue\",\"blue\",\"blue\",\"blue\",\"blue\",\"blue\",\"blue\",\"blue\",\"blue\",\"blue\",\"blue\",\"blue\",\"blue\",\"blue\",\"blue\",\"blue\",\"blue\",\"blue\",\"blue\",\"blue\",\"blue\",\"blue\",\"blue\",\"blue\",\"blue\",\"blue\",\"blue\",\"blue\",\"blue\",\"blue\",\"blue\",\"blue\",\"blue\",\"blue\",\"blue\",\"blue\",\"blue\",\"blue\",\"blue\",\"blue\",\"blue\",\"blue\",\"blue\",\"blue\",\"blue\",\"blue\",\"blue\",\"blue\",\"blue\",\"blue\",\"blue\",\"blue\",\"blue\",\"blue\",\"blue\",\"blue\",\"blue\",\"blue\",\"blue\",\"blue\",\"blue\",\"blue\",\"blue\",\"blue\",\"blue\",\"blue\",\"blue\",\"blue\",\"blue\",\"blue\",\"blue\",\"blue\",\"blue\",\"blue\",\"blue\",\"blue\",\"blue\",\"blue\",\"blue\",\"blue\",\"blue\",\"blue\",\"blue\",\"blue\",\"blue\",\"blue\",\"blue\",\"blue\",\"blue\",\"blue\",\"blue\",\"blue\",\"blue\",\"blue\",\"blue\",\"blue\",\"blue\",\"blue\",\"blue\",\"blue\",\"blue\",\"blue\",\"blue\",\"blue\",\"blue\",\"blue\",\"blue\",\"blue\",\"blue\",\"blue\",\"blue\",\"blue\",\"blue\",\"blue\",\"blue\",\"blue\",\"blue\",\"blue\",\"blue\",\"blue\",\"blue\",\"blue\",\"blue\",\"blue\",\"blue\",\"blue\",\"blue\",\"blue\",\"blue\",\"blue\",\"blue\",\"blue\",\"blue\",\"blue\",\"blue\",\"blue\",\"blue\",\"blue\",\"blue\",\"blue\",\"blue\",\"blue\",\"blue\",\"blue\",\"blue\",\"blue\",\"blue\",\"blue\",\"blue\",\"blue\",\"blue\",\"blue\",\"blue\",\"blue\",\"blue\",\"blue\",\"blue\",\"blue\",\"blue\",\"blue\",\"blue\",\"blue\",\"blue\",\"blue\",\"blue\",\"blue\",\"blue\",\"blue\",\"blue\",\"blue\",\"blue\",\"blue\",\"blue\",\"blue\",\"blue\",\"blue\",\"blue\",\"blue\",\"blue\",\"blue\",\"blue\",\"blue\",\"blue\",\"blue\",\"blue\",\"blue\",\"blue\",\"blue\",\"blue\",\"blue\",\"blue\",\"blue\",\"blue\",\"blue\",\"blue\",\"blue\",\"blue\",\"blue\",\"blue\",\"blue\",\"blue\",\"blue\",\"blue\",\"blue\",\"blue\",\"blue\",\"blue\",\"blue\",\"blue\",\"blue\",\"blue\",\"blue\",\"blue\",\"blue\",\"blue\",\"blue\",\"blue\",\"blue\",\"blue\",\"blue\",\"blue\",\"blue\",\"blue\",\"blue\",\"blue\",\"blue\",\"blue\",\"blue\",\"blue\",\"blue\",\"blue\",\"blue\",\"blue\",\"blue\",\"blue\",\"blue\",\"blue\",\"blue\",\"blue\",\"blue\",\"blue\",\"blue\",\"blue\",\"blue\",\"blue\",\"blue\",\"blue\",\"blue\",\"blue\",\"blue\",\"blue\",\"blue\",\"blue\",\"blue\",\"blue\",\"blue\",\"blue\",\"blue\",\"blue\",\"blue\",\"blue\",\"blue\",\"blue\",\"blue\",\"blue\",\"blue\",\"blue\",\"blue\",\"blue\",\"blue\",\"blue\",\"blue\",\"blue\",\"blue\",\"blue\",\"blue\",\"blue\",\"blue\",\"blue\",\"blue\",\"blue\",\"blue\",\"blue\",\"blue\",\"blue\",\"blue\",\"blue\",\"blue\",\"blue\",\"blue\",\"blue\",\"blue\",\"blue\",\"blue\",\"blue\",\"blue\",\"blue\",\"blue\",\"blue\",\"blue\",\"blue\",\"blue\",\"blue\",\"blue\",\"blue\",\"blue\",\"blue\",\"blue\",\"blue\",\"blue\",\"blue\",\"blue\",\"blue\",\"blue\",\"blue\",\"blue\",\"blue\",\"blue\",\"blue\",\"blue\",\"blue\",\"blue\",\"blue\",\"blue\",\"blue\",\"blue\",\"blue\",\"blue\",\"blue\",\"blue\",\"blue\",\"blue\",\"blue\",\"blue\",\"blue\",\"blue\",\"blue\",\"blue\",\"blue\",\"blue\",\"blue\",\"blue\",\"blue\",\"blue\",\"blue\",\"blue\",\"blue\",\"blue\",\"blue\",\"blue\",\"blue\",\"blue\",\"blue\",\"blue\",\"blue\",\"blue\",\"blue\",\"blue\",\"blue\",\"blue\",\"blue\",\"blue\",\"blue\",\"blue\",\"blue\",\"blue\",\"blue\",\"blue\",\"blue\",\"blue\",\"blue\",\"blue\",\"blue\",\"blue\",\"blue\",\"blue\",\"blue\",\"blue\",\"blue\",\"blue\",\"blue\",\"blue\",\"blue\",\"blue\",\"blue\",\"blue\",\"blue\",\"blue\",\"blue\",\"blue\",\"blue\",\"blue\",\"blue\",\"blue\",\"blue\",\"blue\",\"blue\",\"blue\",\"blue\",\"blue\",\"blue\",\"blue\",\"blue\",\"blue\",\"blue\",\"blue\",\"blue\",\"blue\",\"blue\",\"blue\",\"blue\",\"blue\",\"blue\",\"blue\",\"blue\",\"blue\",\"blue\",\"blue\",\"blue\",\"blue\",\"blue\",\"blue\",\"blue\",\"blue\",\"blue\",\"blue\",\"blue\",\"blue\",\"blue\",\"blue\",\"blue\",\"blue\",\"blue\",\"blue\",\"blue\",\"blue\",\"blue\",\"blue\",\"blue\",\"blue\",\"blue\",\"blue\",\"blue\",\"blue\",\"blue\",\"blue\",\"blue\",\"blue\",\"blue\",\"blue\",\"blue\",\"blue\",\"blue\",\"blue\",\"blue\",\"blue\",\"blue\",\"blue\",\"blue\",\"blue\",\"blue\",\"blue\",\"blue\",\"blue\",\"blue\",\"blue\",\"blue\",\"blue\",\"blue\",\"blue\",\"blue\",\"blue\",\"blue\",\"blue\",\"blue\",\"blue\",\"blue\",\"blue\",\"blue\",\"blue\",\"blue\",\"blue\",\"blue\",\"blue\",\"blue\",\"blue\",\"blue\",\"blue\",\"blue\",\"blue\",\"blue\",\"blue\",\"blue\",\"blue\",\"blue\",\"blue\",\"blue\",\"blue\",\"blue\",\"blue\",\"blue\",\"blue\",\"blue\",\"blue\",\"blue\",\"blue\",\"blue\",\"blue\",\"blue\",\"blue\",\"blue\",\"blue\",\"blue\",\"blue\",\"blue\",\"blue\",\"blue\",\"blue\",\"blue\",\"blue\",\"blue\",\"blue\",\"blue\",\"blue\",\"blue\",\"blue\",\"blue\",\"blue\",\"blue\",\"blue\",\"blue\",\"blue\",\"blue\",\"blue\",\"blue\",\"blue\",\"blue\",\"blue\",\"blue\",\"blue\",\"blue\",\"blue\",\"blue\",\"blue\",\"blue\",\"blue\",\"blue\",\"blue\",\"blue\",\"blue\",\"blue\",\"blue\",\"blue\",\"blue\",\"blue\",\"blue\",\"blue\",\"blue\",\"blue\",\"blue\",\"blue\",\"blue\",\"blue\",\"blue\",\"blue\",\"blue\",\"blue\",\"blue\",\"blue\",\"blue\",\"blue\",\"blue\",\"blue\",\"blue\",\"blue\",\"blue\",\"blue\",\"blue\",\"blue\",\"blue\",\"blue\",\"blue\",\"blue\",\"blue\",\"blue\",\"blue\",\"blue\",\"blue\",\"blue\",\"blue\",\"blue\",\"blue\",\"blue\",\"blue\",\"blue\",\"blue\",\"blue\",\"blue\",\"blue\",\"blue\",\"blue\",\"blue\",\"blue\",\"blue\",\"blue\",\"blue\",\"blue\",\"blue\",\"blue\",\"blue\",\"blue\",\"blue\",\"blue\",\"blue\",\"blue\",\"blue\",\"blue\",\"blue\",\"blue\",\"blue\",\"blue\",\"blue\",\"blue\",\"blue\",\"blue\",\"blue\",\"blue\",\"blue\",\"blue\",\"blue\",\"blue\",\"blue\",\"blue\",\"blue\",\"blue\",\"blue\",\"blue\",\"blue\",\"blue\",\"blue\",\"blue\",\"blue\",\"blue\",\"blue\",\"blue\",\"blue\",\"blue\",\"blue\",\"blue\",\"blue\",\"blue\",\"blue\",\"blue\",\"blue\",\"blue\",\"blue\",\"blue\",\"blue\",\"blue\",\"blue\",\"blue\",\"blue\",\"blue\",\"blue\",\"blue\",\"blue\",\"blue\",\"blue\",\"blue\",\"blue\",\"blue\",\"blue\",\"blue\",\"blue\",\"blue\",\"blue\",\"blue\",\"blue\",\"blue\",\"blue\",\"blue\",\"blue\",\"blue\",\"blue\",\"blue\",\"blue\",\"blue\",\"blue\",\"blue\",\"blue\",\"blue\",\"blue\",\"blue\",\"blue\",\"blue\",\"blue\",\"blue\",\"blue\",\"blue\",\"blue\",\"blue\",\"blue\",\"blue\",\"blue\",\"blue\",\"blue\",\"blue\",\"blue\",\"blue\",\"blue\",\"blue\",\"blue\",\"blue\",\"blue\",\"blue\",\"blue\",\"blue\",\"blue\",\"blue\",\"blue\",\"blue\",\"blue\",\"blue\",\"blue\",\"blue\",\"blue\",\"blue\",\"blue\",\"blue\",\"blue\",\"blue\",\"blue\",\"blue\",\"blue\",\"blue\",\"blue\",\"blue\",\"blue\",\"blue\",\"blue\",\"blue\",\"blue\",\"blue\",\"blue\",\"blue\",\"blue\",\"blue\",\"blue\",\"blue\",\"blue\",\"blue\",\"blue\",\"blue\",\"blue\",\"blue\",\"blue\",\"blue\",\"blue\",\"blue\",\"blue\",\"blue\",\"blue\",\"blue\",\"blue\",\"blue\",\"blue\",\"blue\",\"blue\",\"blue\",\"blue\",\"blue\",\"blue\",\"blue\",\"blue\",\"blue\",\"blue\",\"blue\",\"blue\",\"blue\",\"blue\",\"blue\",\"blue\",\"blue\",\"blue\",\"blue\",\"blue\",\"blue\",\"blue\",\"blue\",\"blue\",\"blue\",\"blue\",\"blue\",\"blue\",\"blue\",\"blue\",\"blue\",\"blue\",\"blue\",\"blue\",\"blue\",\"blue\",\"blue\",\"blue\",\"blue\",\"blue\",\"blue\",\"blue\",\"blue\",\"blue\",\"blue\",\"blue\",\"blue\",\"blue\",\"blue\",\"blue\",\"blue\",\"blue\",\"blue\",\"blue\",\"blue\",\"blue\",\"blue\",\"blue\",\"blue\",\"blue\",\"blue\",\"blue\",\"blue\",\"blue\",\"blue\",\"blue\",\"blue\",\"blue\",\"blue\",\"blue\",\"blue\",\"blue\",\"blue\",\"blue\",\"blue\",\"blue\",\"blue\",\"blue\",\"blue\",\"blue\",\"blue\",\"blue\",\"blue\",\"blue\",\"blue\",\"blue\",\"blue\",\"blue\",\"blue\",\"blue\",\"blue\",\"blue\",\"blue\",\"blue\",\"blue\",\"blue\",\"blue\",\"blue\",\"blue\",\"blue\",\"blue\",\"blue\",\"blue\",\"blue\",\"blue\",\"blue\",\"blue\",\"blue\",\"blue\",\"blue\",\"blue\",\"blue\",\"blue\",\"blue\",\"blue\",\"blue\",\"blue\",\"blue\",\"blue\",\"blue\",\"blue\",\"blue\",\"blue\",\"blue\",\"blue\",\"blue\",\"blue\",\"blue\",\"blue\",\"blue\",\"blue\",\"blue\",\"blue\",\"blue\",\"blue\",\"blue\",\"blue\",\"blue\",\"blue\",\"blue\",\"blue\",\"blue\",\"blue\",\"blue\",\"blue\",\"blue\",\"blue\",\"blue\",\"blue\",\"blue\",\"blue\",\"blue\",\"blue\",\"blue\",\"blue\",\"blue\",\"blue\",\"blue\",\"blue\",\"blue\",\"blue\",\"blue\",\"blue\",\"blue\",\"blue\",\"blue\",\"blue\",\"blue\",\"blue\",\"blue\",\"blue\",\"blue\",\"blue\",\"blue\",\"blue\",\"blue\",\"blue\",\"blue\",\"blue\",\"blue\",\"blue\",\"blue\",\"blue\",\"blue\",\"blue\",\"blue\",\"blue\",\"blue\",\"blue\",\"blue\",\"blue\",\"blue\",\"blue\",\"blue\",\"blue\",\"blue\",\"blue\",\"blue\",\"blue\",\"blue\",\"blue\",\"blue\",\"blue\",\"blue\",\"blue\",\"blue\",\"blue\",\"blue\",\"blue\",\"blue\",\"blue\",\"blue\",\"blue\",\"blue\",\"blue\",\"blue\",\"blue\",\"blue\",\"blue\",\"blue\",\"blue\",\"blue\",\"blue\",\"blue\",\"blue\",\"blue\",\"blue\",\"blue\",\"blue\",\"blue\",\"blue\",\"blue\",\"blue\",\"blue\",\"blue\",\"blue\",\"blue\",\"blue\",\"blue\",\"blue\",\"blue\",\"blue\",\"blue\",\"blue\",\"blue\",\"blue\",\"blue\",\"blue\",\"blue\",\"blue\",\"blue\",\"blue\",\"blue\",\"blue\",\"blue\",\"blue\",\"blue\",\"blue\",\"blue\",\"blue\",\"blue\",\"blue\",\"blue\",\"blue\",\"blue\",\"blue\",\"blue\",\"blue\",\"blue\",\"blue\",\"blue\",\"blue\",\"blue\",\"blue\",\"blue\",\"blue\",\"blue\",\"blue\",\"blue\",\"blue\",\"blue\",\"blue\",\"blue\",\"blue\",\"blue\",\"blue\",\"blue\",\"blue\",\"blue\",\"blue\",\"blue\",\"blue\",\"blue\",\"blue\",\"blue\",\"blue\",\"blue\",\"blue\",\"blue\",\"blue\",\"blue\",\"blue\",\"blue\",\"blue\",\"blue\",\"blue\",\"blue\",\"blue\",\"blue\",\"blue\",\"blue\",\"blue\",\"blue\",\"blue\",\"blue\",\"blue\",\"blue\",\"blue\",\"blue\",\"blue\",\"blue\",\"blue\",\"blue\",\"blue\",\"blue\",\"blue\",\"blue\",\"blue\",\"blue\",\"blue\",\"blue\",\"blue\",\"blue\",\"blue\",\"blue\",\"blue\",\"blue\",\"blue\",\"blue\",\"blue\",\"blue\",\"blue\",\"blue\",\"blue\",\"blue\",\"blue\",\"blue\",\"blue\",\"blue\",\"blue\",\"blue\",\"blue\",\"blue\",\"blue\",\"blue\",\"blue\",\"blue\",\"blue\",\"blue\",\"blue\",\"blue\",\"blue\",\"blue\",\"blue\",\"blue\",\"blue\",\"blue\",\"blue\",\"blue\",\"blue\",\"blue\",\"blue\",\"blue\",\"blue\",\"blue\",\"blue\",\"blue\",\"blue\",\"blue\",\"blue\",\"blue\",\"blue\",\"blue\",\"blue\",\"blue\",\"blue\",\"blue\",\"blue\",\"blue\",\"blue\",\"blue\",\"blue\",\"blue\",\"blue\",\"blue\",\"blue\",\"blue\",\"blue\",\"blue\",\"blue\",\"blue\",\"blue\",\"blue\",\"blue\",\"blue\",\"blue\",\"blue\",\"blue\",\"blue\",\"blue\",\"blue\",\"blue\",\"blue\",\"blue\",\"blue\",\"blue\",\"blue\",\"blue\",\"blue\",\"blue\",\"blue\",\"blue\",\"blue\",\"blue\",\"blue\",\"blue\",\"blue\",\"blue\",\"blue\",\"blue\",\"blue\",\"blue\",\"blue\",\"blue\",\"blue\",\"blue\",\"blue\",\"blue\",\"blue\",\"blue\",\"blue\",\"blue\",\"blue\",\"blue\",\"blue\",\"blue\",\"blue\",\"blue\",\"blue\",\"blue\",\"blue\",\"blue\",\"blue\",\"blue\",\"blue\",\"blue\",\"blue\",\"blue\",\"blue\",\"blue\",\"blue\",\"blue\",\"blue\",\"blue\",\"blue\",\"blue\",\"blue\",\"blue\",\"blue\",\"blue\",\"blue\",\"blue\",\"blue\",\"blue\",\"blue\",\"blue\",\"blue\",\"blue\",\"blue\",\"blue\",\"blue\",\"blue\",\"blue\",\"blue\",\"blue\",\"blue\",\"blue\",\"blue\",\"blue\",\"blue\",\"blue\",\"blue\",\"blue\",\"blue\",\"blue\",\"blue\",\"blue\",\"blue\",\"blue\",\"blue\",\"blue\",\"blue\",\"blue\",\"blue\",\"blue\",\"blue\",\"blue\",\"blue\",\"blue\",\"blue\",\"blue\",\"blue\",\"blue\",\"blue\",\"blue\",\"blue\",\"blue\",\"blue\",\"blue\",\"blue\",\"blue\",\"blue\",\"blue\",\"blue\",\"blue\",\"blue\",\"blue\",\"blue\",\"blue\",\"blue\",\"blue\",\"blue\",\"blue\",\"blue\",\"blue\",\"blue\",\"blue\",\"blue\",\"blue\",\"blue\",\"blue\",\"blue\",\"blue\",\"blue\",\"blue\",\"blue\",\"blue\",\"blue\",\"blue\",\"blue\",\"blue\",\"blue\",\"blue\",\"blue\",\"blue\",\"blue\",\"blue\",\"blue\",\"blue\",\"blue\",\"blue\",\"blue\",\"blue\",\"blue\",\"blue\",\"blue\",\"blue\",\"blue\",\"blue\",\"blue\",\"blue\",\"blue\",\"blue\",\"blue\",\"blue\",\"blue\",\"blue\",\"blue\",\"blue\",\"blue\",\"blue\",\"blue\",\"blue\",\"blue\",\"blue\",\"blue\",\"blue\",\"blue\",\"blue\",\"blue\",\"blue\",\"blue\",\"blue\",\"blue\",\"blue\",\"blue\",\"blue\",\"blue\",\"blue\",\"blue\",\"blue\",\"blue\",\"blue\",\"blue\",\"blue\",\"blue\",\"blue\",\"blue\",\"blue\",\"blue\",\"blue\",\"blue\",\"blue\",\"blue\",\"blue\",\"blue\",\"blue\",\"blue\",\"blue\",\"blue\",\"blue\",\"blue\",\"blue\",\"blue\",\"blue\",\"blue\",\"blue\",\"blue\",\"blue\",\"blue\",\"blue\",\"blue\",\"blue\",\"blue\",\"blue\",\"blue\",\"blue\",\"blue\",\"blue\",\"blue\",\"blue\",\"blue\",\"blue\",\"blue\",\"blue\",\"blue\",\"blue\",\"blue\",\"blue\",\"blue\",\"blue\",\"blue\",\"blue\",\"blue\",\"blue\",\"blue\",\"blue\",\"blue\",\"blue\",\"blue\",\"blue\",\"blue\",\"blue\",\"blue\",\"blue\",\"blue\",\"blue\",\"blue\",\"blue\",\"blue\",\"blue\",\"blue\",\"blue\",\"blue\",\"blue\",\"blue\",\"blue\",\"blue\",\"blue\",\"blue\",\"blue\",\"blue\",\"blue\",\"blue\",\"blue\",\"blue\",\"blue\",\"blue\",\"blue\",\"blue\",\"blue\",\"blue\",\"blue\",\"blue\",\"blue\",\"blue\",\"blue\",\"blue\",\"blue\",\"blue\",\"blue\",\"blue\",\"blue\",\"blue\",\"blue\",\"blue\",\"blue\",\"blue\",\"blue\",\"blue\",\"blue\",\"blue\",\"blue\",\"blue\",\"blue\",\"blue\",\"blue\",\"blue\",\"blue\",\"blue\",\"blue\",\"blue\",\"blue\",\"blue\",\"blue\",\"blue\",\"blue\",\"blue\",\"blue\",\"blue\",\"blue\",\"blue\",\"blue\",\"blue\",\"blue\",\"blue\",\"blue\",\"blue\",\"blue\",\"blue\",\"blue\",\"blue\",\"blue\",\"blue\",\"blue\",\"blue\",\"blue\",\"blue\",\"blue\",\"blue\",\"blue\",\"blue\",\"blue\",\"blue\",\"blue\",\"blue\",\"blue\",\"blue\",\"blue\",\"blue\",\"blue\",\"blue\",\"blue\",\"blue\",\"blue\",\"blue\",\"blue\",\"blue\",\"blue\",\"blue\",\"blue\",\"blue\",\"blue\",\"blue\",\"blue\",\"blue\",\"blue\",\"blue\",\"blue\",\"blue\",\"blue\",\"blue\",\"blue\",\"blue\",\"blue\",\"blue\",\"blue\",\"blue\",\"blue\",\"blue\",\"blue\",\"blue\",\"blue\",\"blue\",\"blue\",\"blue\",\"blue\",\"blue\",\"blue\",\"blue\",\"blue\",\"blue\",\"blue\",\"blue\",\"blue\",\"blue\",\"blue\",\"blue\",\"blue\",\"blue\",\"blue\",\"blue\",\"blue\",\"blue\",\"blue\",\"blue\",\"blue\",\"blue\",\"blue\",\"blue\",\"blue\",\"blue\",\"blue\",\"blue\",\"blue\",\"blue\",\"blue\",\"blue\",\"blue\",\"blue\",\"blue\",\"blue\",\"blue\",\"blue\",\"blue\",\"blue\",\"blue\",\"blue\",\"blue\",\"blue\",\"blue\",\"blue\",\"blue\",\"blue\",\"blue\",\"blue\",\"blue\",\"blue\",\"blue\",\"blue\",\"blue\",\"blue\",\"blue\",\"blue\",\"blue\",\"blue\",\"blue\",\"blue\",\"blue\",\"blue\",\"blue\",\"blue\",\"blue\",\"blue\",\"blue\",\"blue\",\"blue\",\"blue\",\"blue\",\"blue\",\"blue\",\"blue\",\"blue\",\"blue\",\"blue\",\"blue\",\"blue\",\"blue\",\"blue\",\"blue\",\"blue\",\"blue\",\"blue\",\"blue\",\"blue\",\"blue\",\"blue\",\"blue\",\"blue\",\"blue\",\"blue\",\"blue\",\"blue\",\"blue\",\"blue\",\"blue\",\"blue\",\"blue\",\"blue\",\"blue\",\"blue\",\"blue\",\"blue\",\"blue\",\"blue\",\"blue\",\"blue\",\"blue\",\"blue\",\"blue\",\"blue\",\"blue\",\"blue\",\"blue\",\"blue\",\"blue\",\"blue\",\"blue\",\"blue\",\"blue\",\"blue\",\"blue\",\"blue\",\"blue\",\"blue\",\"blue\",\"blue\",\"blue\",\"blue\",\"blue\",\"blue\",\"blue\",\"blue\",\"blue\",\"blue\",\"blue\",\"blue\",\"blue\",\"blue\",\"blue\",\"blue\",\"blue\",\"blue\",\"blue\",\"blue\",\"blue\",\"blue\",\"blue\",\"blue\",\"blue\",\"blue\",\"blue\",\"blue\",\"blue\",\"blue\",\"blue\",\"blue\",\"blue\",\"blue\",\"blue\",\"blue\",\"blue\",\"blue\",\"blue\",\"blue\",\"blue\",\"blue\",\"blue\",\"blue\",\"blue\",\"blue\",\"blue\",\"blue\",\"blue\",\"blue\",\"blue\",\"blue\",\"blue\",\"blue\",\"blue\",\"blue\",\"blue\",\"blue\",\"blue\",\"blue\",\"blue\",\"blue\",\"blue\",\"blue\",\"blue\",\"blue\",\"blue\",\"blue\",\"blue\",\"blue\",\"blue\",\"blue\",\"blue\",\"blue\",\"blue\",\"blue\",\"blue\",\"blue\",\"blue\",\"blue\",\"blue\",\"blue\",\"blue\",\"blue\",\"blue\",\"blue\",\"blue\",\"blue\",\"blue\",\"blue\",\"blue\",\"blue\",\"blue\",\"blue\",\"blue\",\"blue\",\"blue\",\"blue\",\"blue\",\"blue\",\"blue\",\"blue\",\"blue\",\"blue\",\"blue\",\"blue\",\"blue\",\"blue\",\"blue\",\"blue\",\"blue\",\"blue\",\"blue\",\"blue\",\"blue\",\"blue\",\"blue\",\"blue\",\"blue\",\"blue\",\"blue\",\"blue\",\"blue\",\"blue\",\"blue\",\"blue\",\"blue\",\"blue\",\"blue\",\"blue\",\"blue\",\"blue\",\"blue\",\"blue\",\"blue\",\"blue\",\"blue\",\"blue\",\"blue\",\"blue\",\"blue\",\"blue\",\"blue\",\"blue\",\"blue\",\"blue\",\"blue\",\"blue\",\"blue\",\"blue\",\"blue\",\"blue\",\"blue\",\"blue\",\"blue\",\"blue\",\"blue\",\"blue\",\"blue\",\"blue\",\"blue\",\"blue\",\"blue\",\"blue\",\"blue\",\"blue\",\"blue\",\"blue\",\"blue\",\"blue\",\"blue\",\"blue\",\"blue\",\"blue\",\"blue\",\"blue\",\"blue\",\"blue\",\"blue\",\"blue\",\"blue\",\"blue\",\"blue\",\"blue\",\"blue\",\"blue\",\"blue\",\"blue\",\"blue\",\"blue\",\"blue\",\"blue\",\"blue\",\"blue\",\"blue\",\"blue\",\"blue\",\"blue\",\"blue\",\"blue\",\"blue\",\"blue\",\"blue\",\"blue\",\"blue\",\"blue\",\"blue\",\"blue\",\"blue\",\"blue\",\"blue\",\"blue\",\"blue\",\"blue\",\"blue\",\"blue\",\"blue\",\"blue\",\"blue\",\"blue\",\"blue\",\"blue\",\"blue\",\"blue\",\"blue\",\"blue\",\"blue\",\"blue\",\"blue\",\"blue\",\"blue\",\"blue\",\"blue\",\"blue\",\"blue\",\"blue\",\"blue\",\"blue\",\"blue\",\"blue\",\"blue\",\"blue\",\"blue\",\"blue\",\"blue\",\"blue\",\"blue\",\"blue\",\"blue\",\"blue\",\"blue\",\"blue\",\"blue\",\"blue\",\"blue\",\"blue\",\"blue\",\"blue\",\"blue\",\"blue\",\"blue\",\"blue\",\"blue\",\"blue\",\"blue\",\"blue\",\"blue\",\"blue\",\"blue\",\"blue\",\"blue\",\"blue\",\"blue\",\"blue\",\"blue\",\"blue\",\"blue\",\"blue\",\"blue\",\"blue\",\"blue\",\"blue\",\"blue\",\"blue\",\"blue\",\"blue\",\"blue\",\"blue\",\"blue\",\"blue\",\"blue\",\"blue\",\"blue\",\"blue\",\"blue\",\"blue\",\"blue\",\"blue\",\"blue\",\"blue\",\"blue\",\"blue\",\"blue\",\"blue\",\"blue\",\"blue\",\"blue\",\"blue\",\"blue\",\"blue\",\"blue\",\"blue\"]],[\"token\",[\"verified\",\"2gb\",\"illinois\",\"jazz\",\"checking\",\"telescope\",\"seasons\",\"astrologer\",\"contribution\",\"homemade\",\"heroes\",\"warcraft\",\"kumar\",\"tester\",\"politically\",\"conquer\",\"columbia\",\"quiet\",\"repeat\",\"kapil\",\"involve\",\"mckinsey\",\"switched\",\"att\",\"instance\",\"innocent\",\"portuguese\",\"subscribers\",\"cabinet\",\"terror\",\"85\",\"rotation\",\"shirts\",\"drawn\",\"bi\",\"aspergers\",\"inspiration\",\"beats\",\"\\u00a3\",\"approximately\",\"asset\",\"empathy\",\"rooting\",\"ia\",\"dandruff\",\"slab\",\"operator\",\"horrible\",\"dominant\",\"ocd\",\"spacetime\",\"blow\",\"installing\",\"learnt\",\"separation\",\"institution\",\"temples\",\"hons\",\"pound\",\"removing\",\"unemployment\",\"greenlit\",\"audit\",\"supplement\",\"roller\",\"dota\",\"tiny\",\"equally\",\"braces\",\"aggressive\",\"corn\",\"camps\",\"additional\",\"consent\",\"granted\",\"welfare\",\"myths\",\"stations\",\"timeline\",\"psychologist\",\"nagpur\",\"herself\",\"cooper\",\"exgirlfriend\",\"intercourse\",\"flip\",\"hurts\",\"lpa\",\"nerve\",\"tvs\",\"halloween\",\"screenshot\",\"biomedical\",\"covered\",\"milky\",\"onsite\",\"aside\",\"meaningful\",\"stretch\",\"joker\",\"encounter\",\"tone\",\"founders\",\"talked\",\"respectively\",\"downloads\",\"cocaine\",\"toxic\",\"sword\",\"fuck\",\"trainer\",\"partition\",\"boxing\",\"grid\",\"practicing\",\"menu\",\"cms\",\"indore\",\"ate\",\"volunteer\",\"misconceptions\",\"pics\",\"flies\",\"instantly\",\"trans\",\"friday\",\"sociopaths\",\"ctc\",\"hoax\",\"detailed\",\"sizes\",\"rejection\",\"limitations\",\"bharat\",\"kissing\",\"renewable\",\"oriented\",\"countrys\",\"dumps\",\"spiders\",\"technological\",\"advertisement\",\"headache\",\"zodiac\",\"accommodation\",\"venus\",\"calcium\",\"passenger\",\"falls\",\"overnight\",\"pickup\",\"gary\",\"transportation\",\"odds\",\"jupiter\",\"purchasing\",\"fluently\",\"flu\",\"photons\",\"conductor\",\"ohio\",\"balaji\",\"mcdonalds\",\"betting\",\"irrational\",\"sachin\",\"deactivate\",\"estimate\",\"hairs\",\"fluent\",\"errors\",\"remaining\",\"marriages\",\"medieval\",\"charles\",\"spider\",\"oxford\",\"gita\",\"races\",\"liquor\",\"poland\",\"lease\",\"co2\",\"selenium\",\"attempts\",\"crystal\",\"manaphy\",\"knight\",\"collapsed\",\"wheels\",\"behaviour\",\"bitcoins\",\"parliament\",\"himher\",\"handsome\",\"thousands\",\"caring\",\"kings\",\"lucky\",\"workplace\",\"condom\",\"intuitive\",\"chronic\",\"eyesight\",\"simulation\",\"prank\",\"quickest\",\"concert\",\"popularity\",\"connections\",\"disorders\",\"scripting\",\"appearance\",\"js\",\"depth\",\"cheque\",\"longterm\",\"documentaries\",\"dioxide\",\"bright\",\"info\",\"diseases\",\"appeal\",\"snap\",\"smoked\",\"singers\",\"boil\",\"probably\",\"temperatures\",\"appearing\",\"olive\",\"ntse\",\"telecom\",\"brief\",\"discrimination\",\"ethnic\",\"cache\",\"passionate\",\"shoulder\",\"assault\",\"marshmallow\",\"momentum\",\"yr\",\"migrate\",\"retire\",\"cet\",\"canvas\",\"vietnamese\",\"institutions\",\"meter\",\"roots\",\"integer\",\"imported\",\"ants\",\"lyft\",\"piercing\",\"il\",\"poop\",\"organisms\",\"ve\",\"entropy\",\"calm\",\"saddest\",\"toward\",\"myth\",\"sight\",\"filling\",\"hdmi\",\"satisfied\",\"transactions\",\"pharmacy\",\"nursing\",\"correlation\",\"regression\",\"awake\",\"md\",\"nri\",\"recommendations\",\"bin\",\"finland\",\"multi\",\"voted\",\"discovery\",\"edward\",\"touching\",\"immigrant\",\"geometry\",\"indicate\",\"ourselves\",\"texting\",\"seek\",\"expecting\",\"dj\",\"brake\",\"helicopter\",\"blonde\",\"triple\",\"ladies\",\"vivekananda\",\"switching\",\"prostitution\",\"banana\",\"magazines\",\"shippuden\",\"lucknow\",\"2019\",\"failing\",\"elizabeth\",\"irish\",\"ebook\",\"temporary\",\"governor\",\"wasting\",\"weekends\",\"cpt\",\"wax\",\"labor\",\"instruments\",\"instrumentation\",\"hates\",\"hip\",\"arnab\",\"bubble\",\"employers\",\"aadhaar\",\"boyfriends\",\"jake\",\"explained\",\"yesterday\",\"beta\",\"extrovert\",\"andhra\",\"micromax\",\"vertical\",\"lay\",\"nonprofit\",\"dubbed\",\"typing\",\"automotive\",\"thomas\",\"procedures\",\"priority\",\"funded\",\"arabs\",\"siblings\",\"guinea\",\"missile\",\"luck\",\"strategic\",\"defend\",\"module\",\"tuition\",\"acids\",\"controller\",\"committee\",\"housing\",\"integral\",\"peaceful\",\"refugees\",\"prescription\",\"interns\",\"supported\",\"womans\",\"dentist\",\"wives\",\"village\",\"affecting\",\"lte\",\"beaches\",\"austin\",\"substance\",\"engagement\",\"trainee\",\"measures\",\"trailer\",\"purchased\",\"15000\",\"uttar\",\"glue\",\"dtu\",\"medal\",\"photon\",\"engg\",\"violin\",\"column\",\"somehow\",\"rotate\",\"3000\",\"virat\",\"forgotten\",\"fingers\",\"slim\",\"arrest\",\"covalent\",\"ncert\",\"kernel\",\"da\",\"alarm\",\"ngo\",\"4gb\",\"productivity\",\"planned\",\"district\",\"berlin\",\"lists\",\"leads\",\"slang\",\"defence\",\"aspiring\",\"56\",\"enemy\",\"farming\",\"muller\",\"pays\",\"liver\",\"membrane\",\"secretly\",\"plug\",\"gum\",\"eclipse\",\"chewing\",\"labs\",\"zombie\",\"authority\",\"males\",\"argentina\",\"tasks\",\"fell\",\"nails\",\"palestine\",\"tanks\",\"identical\",\"deck\",\"qualification\",\"leadership\",\"kohli\",\"pronunciation\",\"hello\",\"violent\",\"sabha\",\"respiration\",\"transform\",\"warranty\",\"faculty\",\"adolf\",\"expenses\",\"jersey\",\"mercury\",\"whiskey\",\"tackle\",\"tweet\",\"blame\",\"cruise\",\"mahindra\",\"discharge\",\"reduced\",\"vodka\",\"mahatma\",\"bass\",\"compete\",\"stains\",\"pill\",\"swim\",\"ali\",\"gf\",\"ford\",\"prince\",\"sweat\",\"performing\",\"limits\",\"leonardo\",\"cow\",\"resolve\",\"matters\",\"pharmaceutical\",\"ray\",\"remotely\",\"pf\",\"clinical\",\"bpo\",\"homeless\",\"husbands\",\"rising\",\"newtons\",\"outcome\",\"derivative\",\"alpha\",\"grown\",\"capitalism\",\"astronaut\",\"hybrid\",\"palm\",\"teens\",\"hits\",\"airplanes\",\"none\",\"admin\",\"applicable\",\"amcat\",\"spam\",\"neutrality\",\"pixel\",\"festival\",\"faces\",\"molar\",\"snakes\",\"sip\",\"kik\",\"farm\",\"ltd\",\"votes\",\"publishing\",\"comfort\",\"frontend\",\"spin\",\"diagnosed\",\"buildings\",\"\\u00b0\",\"cashless\",\"addictive\",\"extinct\",\"ugc\",\"coke\",\"llb\",\"phrases\",\"struggle\",\"drives\",\"fiber\",\"grocery\",\"achieved\",\"penny\",\"bath\",\"allies\",\"uninstall\",\"ny\",\"appears\",\"effort\",\"satellites\",\"confirmed\",\"loneliness\",\"illuminati\",\"uri\",\"lucid\",\"preferably\",\"neither\",\"\\u221a\",\"pacific\",\"americas\",\"bs\",\"graduated\",\"bills\",\"tube\",\"germans\",\"assume\",\"cleared\",\"mate\",\"divide\",\"versions\",\"fallen\",\"journey\",\"anthem\",\"certificates\",\"looked\",\"sponsor\",\"useless\",\"dependent\",\"invite\",\"guru\",\"keyword\",\"aipmt\",\"clone\",\"kgs\",\"chip\",\"origins\",\"wide\",\"motivational\",\"elite\",\"wanna\",\"unity\",\"cough\",\"connecting\",\"mystery\",\"kim\",\"syrian\",\"voldemort\",\"responsibilities\",\"molecules\",\"boobs\",\"holidays\",\"tutorial\",\"circumstances\",\"fiitjee\",\"islands\",\"bypass\",\"slowly\",\"mixture\",\"aluminum\",\"salesforce\",\"twin\",\"iot\",\"remedy\",\"sheets\",\"pole\",\"hated\",\"females\",\"protected\",\"irs\",\"insecure\",\"entering\",\"neuroscience\",\"offices\",\"delta\",\"suggestion\",\"snapdeal\",\"backstory\",\"periodic\",\"cancelled\",\"mans\",\"complicated\",\"bitsat\",\"pleasure\",\"loop\",\"dropbox\",\"selfish\",\"nude\",\"20000\",\"voter\",\"variables\",\"victory\",\"closest\",\"compensation\",\"extended\",\"locations\",\"cracked\",\"perks\",\"ended\",\"exit\",\"awareness\",\"pakistanis\",\"ebooks\",\"bull\",\"unblock\",\"100000\",\"entrepreneurship\",\"infrastructure\",\"scotland\",\"guest\",\"attacked\",\"hurting\",\"lion\",\"reject\",\"purposes\",\"knife\",\"thai\",\"ipl\",\"knee\",\"accepting\",\"spent\",\"punjabi\",\"tab\",\"quoras\",\"caffeine\",\"athletes\",\"ink\",\"cooked\",\"improving\",\"invaded\",\"allah\",\"thermodynamics\",\"mortgage\",\"firsttime\",\"achievements\",\"issued\",\"breath\",\"award\",\"llc\",\"legends\",\"mood\",\"influenced\",\"proteins\",\"holy\",\"performed\",\"pee\",\"blocks\",\"molecule\",\"interests\",\"imei\",\"requires\",\"cisco\",\"moves\",\"marrying\",\"mca\",\"perfectly\",\"iisc\",\"corporation\",\"shiva\",\"viruses\",\"difficulty\",\"50000\",\"volte\",\"shampoo\",\"secular\",\"transplant\",\"ghz\",\"ahead\",\"crew\",\"interact\",\"depend\",\"hawaii\",\"hiv\",\"evening\",\"vegetable\",\"revenge\",\"suppose\",\"busy\",\"label\",\"rogue\",\"rational\",\"hillstation\",\"brains\",\"urdu\",\"imagine\",\"salaries\",\"survey\",\"g4\",\"butt\",\"manufacturers\",\"saas\",\"residency\",\"recommendation\",\"purple\",\"fault\",\"aadhar\",\"aging\",\"bhopal\",\"conducted\",\"loses\",\"infection\",\"forest\",\"impacts\",\"collection\",\"fridge\",\"diamond\",\"mis\",\"recorded\",\"march\",\"conditioner\",\"signature\",\"listed\",\"branches\",\"manchester\",\"wanting\",\"perception\",\"absolutely\",\"servers\",\"soluble\",\"swami\",\"lumia\",\"directors\",\"52\",\"2008\",\"gaining\",\"stereotypes\",\"homes\",\"vegas\",\"jam\",\"behave\",\"relatively\",\"forum\",\"ib\",\"earphones\",\"facilities\",\"april\",\"finally\",\"tail\",\"capacitor\",\"tiger\",\"deaf\",\"deliver\",\"django\",\"expand\",\"skip\",\"nearly\",\"maybe\",\"task\",\"gateway\",\"strangest\",\"abstract\",\"adding\",\"suck\",\"tim\",\"printed\",\"sigma\",\"immigrate\",\"decline\",\"arrested\",\"95\",\"narcissistic\",\"freelancing\",\"patterns\",\"expired\",\"casual\",\"tablets\",\"patients\",\"lean\",\"pieces\",\"laymans\",\"whatever\",\"polish\",\"lemon\",\"abortion\",\"i3\",\"theorem\",\"h\",\"compulsory\",\"helped\",\"sons\",\"feminism\",\"compiler\",\"tested\",\"enhance\",\"adhd\",\"manhattan\",\"iii\",\"nail\",\"eee\",\"deals\",\"excellent\",\"ipo\",\"folder\",\"sand\",\"continuous\",\"capable\",\"libraries\",\"aggregate\",\"64\",\"bsnl\",\"profiles\",\"spirit\",\"pulled\",\"owns\",\"deloitte\",\"therapist\",\"acts\",\"millions\",\"authors\",\"marathi\",\"dvd\",\"coconut\",\"swiss\",\"interaction\",\"ncr\",\"kannada\",\"smallest\",\"advisable\",\"smartest\",\"sorry\",\"normally\",\"ends\",\"rome\",\"spectrum\",\"cousin\",\"75\",\"suzuki\",\"nights\",\"cap\",\"enable\",\"counselling\",\"proxy\",\"margin\",\"shops\",\"hackers\",\"tatkal\",\"opened\",\"cinema\",\"consumption\",\"coal\",\"silent\",\"choosing\",\"introduction\",\"electromagnetic\",\"hcl\",\"complaint\",\"puppies\",\"vc\",\"symbols\",\"lenses\",\"username\",\"arrow\",\"adopted\",\"affects\",\"sudden\",\"pcm\",\"gel\",\"affair\",\"pinterest\",\"statements\",\"supplements\",\"justified\",\"turns\",\"santa\",\"shoe\",\"trek\",\"headphone\",\"girlfriends\",\"verizon\",\"rocket\",\"conference\",\"ego\",\"srm\",\"afghanistan\",\"nucleus\",\"generated\",\"chinas\",\"ww1\",\"consultancy\",\"socially\",\"allen\",\"berkeley\",\"missed\",\"crying\",\"introduced\",\"ps3\",\"flour\",\"brought\",\"elder\",\"minecraft\",\"9th\",\"freelancer\",\"circles\",\"scars\",\"entertainment\",\"turbine\",\"deeply\",\"rom\",\"evolved\",\"nato\",\"strengths\",\"ide\",\"tweets\",\"scholarships\",\"mentor\",\"collect\",\"hdfc\",\"mandarin\",\"solo\",\"terrible\",\"influential\",\"professionals\",\"65\",\"recognition\",\"nvidia\",\"cia\",\"designs\",\"10k\",\"creation\",\"tom\",\"rated\",\"introverts\",\"boiling\",\"communism\",\"treaty\",\"whereas\",\"thanks\",\"cigarette\",\"bengaluru\",\"oneplus\",\"reserve\",\"advertise\",\"nits\",\"helping\",\"bruce\",\"mp3\",\"severe\",\"proposal\",\"cultures\",\"tap\",\"animated\",\"planes\",\"hall\",\"cognitive\",\"supports\",\"keys\",\"gotten\",\"feedback\",\"recording\",\"proceed\",\"membership\",\"console\",\"overseas\",\"hows\",\"william\",\"billionaires\",\"updated\",\"pre\",\"organizations\",\"messi\",\"unexpected\",\"nitrogen\",\"hungry\",\"nigeria\",\"sync\",\"arduino\",\"gross\",\"outer\",\"searching\",\"workers\",\"outlook\",\"europeans\",\"founder\",\"lectures\",\"legitimate\",\"camp\",\"ordinary\",\"investments\",\"bone\",\"raising\",\"quite\",\"ages\",\"joint\",\"johnson\",\"destination\",\"concerned\",\"belief\",\"refrigerator\",\"implications\",\"manga\",\"mandatory\",\"obamas\",\"lawyers\",\"bedroom\",\"icon\",\"qualifications\",\"qa\",\"bikes\",\"boston\",\"holding\",\"session\",\"appointment\",\"weaknesses\",\"iphones\",\"motorcycle\",\"schizophrenia\",\"5th\",\"intellectual\",\"eaten\",\"attending\",\"medals\",\"adsense\",\"nda\",\"6th\",\"kali\",\"georgia\",\"wechat\",\"earlier\",\"drone\",\"truck\",\"horse\",\"merchant\",\"torque\",\"seed\",\"backend\",\"holmes\",\"graduating\",\"400\",\"bones\",\"sufficient\",\"participate\",\"rifle\",\"shock\",\"downloaded\",\"earthquake\",\"breasts\",\"secretary\",\"insert\",\"damaged\",\"massive\",\"standing\",\"remainder\",\"programme\",\"holocaust\",\"totally\",\"belt\",\"affairs\",\"nokia\",\"mechanism\",\"pin\",\"scan\",\"fought\",\"superpower\",\"poetry\",\"signals\",\"educated\",\"scariest\",\"trains\",\"closer\",\"weapon\",\"icici\",\"serial\",\"bicycle\",\"terminal\",\"finished\",\"stolen\",\"inspiring\",\"cuisine\",\"spark\",\"sounds\",\"pricing\",\"click\",\"underwear\",\"kidney\",\"bengal\",\"invention\",\"discount\",\"chase\",\"evaluate\",\"distributed\",\"themes\",\"amd\",\"stem\",\"st\",\"genre\",\"vegetables\",\"council\",\"bihar\",\"thick\",\"mouse\",\"worry\",\"newly\",\"updates\",\"candy\",\"prepaid\",\"wet\",\"rap\",\"motors\",\"implemented\",\"theoretical\",\"fabric\",\"mexican\",\"portfolio\",\"technique\",\"icse\",\"expansion\",\"evolutionary\",\"justify\",\"trick\",\"attached\",\"lightning\",\"pitch\",\"armed\",\"einstein\",\"conversion\",\"iitjee\",\"declared\",\"admit\",\"acquisition\",\"innovation\",\"runs\",\"wwe\",\"trial\",\"memories\",\"refuse\",\"netherlands\",\"committed\",\"fraud\",\"jailbreak\",\"settle\",\"badly\",\"approved\",\"eligibility\",\"trend\",\"increases\",\"comic\",\"quorans\",\"cellular\",\"matches\",\"receiving\",\"bmw\",\"vlsi\",\"signed\",\"lakes\",\"350\",\"communications\",\"pork\",\"joined\",\"anyway\",\"differentiate\",\"actresses\",\"29\",\"ethics\",\"premier\",\"hearing\",\"vehicles\",\"drama\",\"instant\",\"lips\",\"dates\",\"july\",\"holiday\",\"coach\",\"malayalam\",\"superior\",\"soviet\",\"plate\",\"throw\",\"worship\",\"bars\",\"sharma\",\"mothers\",\"integrated\",\"clubs\",\"bug\",\"melbourne\",\"co\",\"bisexual\",\"regions\",\"lesson\",\"heads\",\"reader\",\"snake\",\"qualify\",\"paul\",\"causing\",\"disappear\",\"era\",\"lets\",\"qualified\",\"spiritual\",\"wolf\",\"requirement\",\"journalism\",\"studied\",\"lowest\",\"vader\",\"coursera\",\"stark\",\"configuration\",\"verbal\",\"undergrad\",\"dimensions\",\"transition\",\"efficiently\",\"interstellar\",\"locked\",\"summary\",\"chandigarh\",\"ghosts\",\"included\",\"operate\",\"dimension\",\"mount\",\"noticed\",\"rating\",\"somewhere\",\"martin\",\"bra\",\"bird\",\"zuckerberg\",\"sensor\",\"audience\",\"dirty\",\"starbucks\",\"permission\",\"residential\",\"wholesale\",\"assets\",\"clearly\",\"km\",\"invade\",\"ipcc\",\"fb\",\"shell\",\"shave\",\"loud\",\"tip\",\"seeds\",\"sets\",\"polar\",\"although\",\"june\",\"judaism\",\"anti\",\"instrument\",\"seven\",\"shooting\",\"j\",\"portal\",\"tower\",\"github\",\"linked\",\"admitted\",\"punishment\",\"mid\",\"micro\",\"cured\",\"lifestyle\",\"nor\",\"upset\",\"challenge\",\"soap\",\"standards\",\"integration\",\"lottery\",\"lab\",\"williams\",\"odd\",\"soil\",\"sensitive\",\"route\",\"tattoos\",\"coin\",\"declare\",\"frame\",\"differential\",\"bowl\",\"softwares\",\"notifications\",\"maintenance\",\"inner\",\"apples\",\"converted\",\"recruiter\",\"bombay\",\"command\",\"posting\",\"controlled\",\"balls\",\"personally\",\"poker\",\"extract\",\"hired\",\"bugs\",\"providers\",\"loans\",\"calculator\",\"attractions\",\"torrents\",\"keywords\",\"profession\",\"blogging\",\"transport\",\"sue\",\"anonymously\",\"compounds\",\"robot\",\"buddhism\",\"sweet\",\"defense\",\"nobody\",\"uc\",\"defined\",\"division\",\"bags\",\"epic\",\"unhealthy\",\"craziest\",\"urban\",\"combination\",\"pair\",\"laugh\",\"cv\",\"usd\",\"launched\",\"usps\",\"visited\",\"nexus\",\"regularly\",\"brothers\",\"broker\",\"concentrate\",\"agreement\",\"nervous\",\"frozen\",\"detail\",\"sir\",\"situations\",\"borderline\",\"angularjs\",\"abusive\",\"tourism\",\"relate\",\"august\",\"communist\",\"accountant\",\"dumb\",\"arab\",\"b2b\",\"du\",\"thermal\",\"asians\",\"threat\",\"karma\",\"passive\",\"homosexuality\",\"putting\",\"quantitative\",\"relativity\",\"sanskrit\",\"opinions\",\"verify\",\"bear\",\"roll\",\"expanding\",\"teenage\",\"jeans\",\"providing\",\"shared\",\"extreme\",\"mi\",\"vr\",\"progress\",\"greece\",\"cpu\",\"ips\",\"merge\",\"reputation\",\"loving\",\"salman\",\"iss\",\"warm\",\"dental\",\"extension\",\"attraction\",\"fictional\",\"journal\",\"login\",\"secondary\",\"recognize\",\"southern\",\"ph\",\"lunch\",\"wallet\",\"ronaldo\",\"larger\",\"actions\",\"fathers\",\"adopt\",\"claims\",\"bottom\",\"therapy\",\"patient\",\"described\",\"virginity\",\"functional\",\"ionic\",\"chartered\",\"discover\",\"55\",\"21st\",\"biased\",\"mad\",\"northern\",\"onto\",\"liberals\",\"premium\",\"neutral\",\"detect\",\"diagram\",\"sperm\",\"ga\",\"bleach\",\"spread\",\"contributions\",\"activate\",\"prior\",\"safest\",\"holder\",\"360\",\"aim\",\"rental\",\"families\",\"everybody\",\"shut\",\"payments\",\"150\",\"cube\",\"vegan\",\"newspaper\",\"beef\",\"houses\",\"preferred\",\"simultaneously\",\"marked\",\"reactions\",\"emergency\",\"protection\",\"cab\",\"forex\",\"norway\",\"immigrants\",\"googles\",\"ssb\",\"wing\",\"yrs\",\"ensure\",\"spy\",\"reasoning\",\"strange\",\"forgive\",\"turkish\",\"tag\",\"ranking\",\"platforms\",\"fox\",\"existed\",\"walmart\",\"lazy\",\"ears\",\"clock\",\"beam\",\"rare\",\"bush\",\"2011\",\"stops\",\"batteries\",\"certified\",\"naked\",\"worldwide\",\"staying\",\"lifetime\",\"ted\",\"lake\",\"wealthy\",\"transit\",\"stephen\",\"rural\",\"versa\",\"pets\",\"commonly\",\"adults\",\"ultimate\",\"genius\",\"vinegar\",\"allows\",\"aid\",\"retirement\",\"airtel\",\"sciences\",\"mountain\",\"drinks\",\"tour\",\"wind\",\"seattle\",\"disabled\",\"bodies\",\"lesbian\",\"governments\",\"kinetic\",\"tumblr\",\"absolute\",\"author\",\"toilet\",\"whey\",\"sleepy\",\"molecular\",\"watches\",\"inventions\",\"rain\",\"34\",\"angular\",\"o\",\"dish\",\"however\",\"agents\",\"abs\",\"switzerland\",\"transformer\",\"clearing\",\"consciousness\",\"broadband\",\"uae\",\"automatic\",\"opposed\",\"geography\",\"astronauts\",\"decisions\",\"cement\",\"induction\",\"luxury\",\"upvotes\",\"politicians\",\"posted\",\"toefl\",\"kitchen\",\"noise\",\"radius\",\"dye\",\"miles\",\"risks\",\"scientifically\",\"mnc\",\"propose\",\"prepared\",\"iiit\",\"mention\",\"equipment\",\"darth\",\"january\",\"surname\",\"raised\",\"attitude\",\"gta\",\"david\",\"hike\",\"awkward\",\"proven\",\"productive\",\"lg\",\"filled\",\"atmosphere\",\"lee\",\"irctc\",\"addicted\",\"dynamic\",\"employment\",\"weekend\",\"replacement\",\"singing\",\"owners\",\"bipolar\",\"tomorrow\",\"poems\",\"default\",\"kvpy\",\"sauce\",\"competitors\",\"russians\",\"sample\",\"crimes\",\"hang\",\"inspired\",\"furniture\",\"throughout\",\"presence\",\"efficiency\",\"leg\",\"biological\",\"pilani\",\"conversations\",\"inspirational\",\"bachelor\",\"centers\",\"withdraw\",\"fundamental\",\"comparison\",\"november\",\"fifa\",\"penalty\",\"algebra\",\"joke\",\"htc\",\"pilots\",\"collapse\",\"texts\",\"vocabulary\",\"moved\",\"sc\",\"smile\",\"october\",\"dot\",\"genetic\",\"architect\",\"url\",\"51\",\"sore\",\"uniform\",\"re\",\"rails\",\"smaller\",\"marine\",\"terrorists\",\"nazi\",\"breast\",\"politician\",\"subtitles\",\"chosen\",\"egypt\",\"thin\",\"packages\",\"editor\",\"bands\",\"mythology\",\"reasonable\",\"permit\",\"acceptable\",\"seriously\",\"iraq\",\"fever\",\"visitor\",\"honest\",\"friction\",\"offering\",\"smarter\",\"ahmedabad\",\"replaced\",\"resolution\",\"burning\",\"bridge\",\"catholic\",\"calendar\",\"resident\",\"policies\",\"forced\",\"leading\",\"arm\",\"deserve\",\"context\",\"coolest\",\"arranged\",\"arizona\",\"comics\",\"harm\",\"democrats\",\"jail\",\"breed\",\"anywhere\",\"psu\",\"christ\",\"violence\",\"agriculture\",\"objective\",\"moments\",\"infinity\",\"supporting\",\"critical\",\"trees\",\"beyond\",\"bag\",\"vitamin\",\"assembly\",\"solved\",\"array\",\"perspective\",\"pas\",\"wwii\",\"skinny\",\"contains\",\"lift\",\"cleaning\",\"peter\",\"aap\",\"pimples\",\"initial\",\"lesserknown\",\"sights\",\"principles\",\"realize\",\"millionaire\",\"faux\",\"orbit\",\"desire\",\"hi\",\"prophet\",\"suits\",\"careers\",\"thinks\",\"quantity\",\"spots\",\"wage\",\"asleep\",\"sociology\",\"guard\",\"units\",\"structural\",\"operation\",\"pants\",\"w\",\"bulk\",\"possibly\",\"drunk\",\"fired\",\"accident\",\"inch\",\"bottle\",\"aerospace\",\"narcissist\",\"ux\",\"angeles\",\"wood\",\"index\",\"safely\",\"robotics\",\"edition\",\"metals\",\"practices\",\"scheme\",\"interior\",\"diabetes\",\"nobel\",\"youth\",\"lived\",\"september\",\"chief\",\"proposed\",\"assuming\",\"sin\",\"counter\",\"disable\",\"introduce\",\"restore\",\"swimming\",\"intern\",\"answering\",\"mentioned\",\"crash\",\"laser\",\"teenagers\",\"presentation\",\"quran\",\"classified\",\"demonetisation\",\"communicate\",\"cotton\",\"autism\",\"anger\",\"environmental\",\"stable\",\"7th\",\"bread\",\"invited\",\"wisdom\",\"wrote\",\"widely\",\"minor\",\"formal\",\"dreaming\",\"managers\",\"escape\",\"pollution\",\"taiwan\",\"verification\",\"los\",\"figures\",\"26\",\"illness\",\"sides\",\"compatible\",\"pack\",\"conspiracy\",\"hedge\",\"flights\",\"dropped\",\"former\",\"suffer\",\"aware\",\"designers\",\"mahabharata\",\"evolve\",\"weigh\",\"dies\",\"fruits\",\"cc\",\"butter\",\"sharing\",\"atoms\",\"tongue\",\"transaction\",\"poverty\",\"suffering\",\"presidents\",\"resistance\",\"adam\",\"civilization\",\"mining\",\"toronto\",\"stick\",\"increased\",\"wild\",\"freelance\",\"removal\",\"aws\",\"rio\",\"principle\",\"asus\",\"cute\",\"consumer\",\"pool\",\"variable\",\"tutorials\",\"advance\",\"keeping\",\"visible\",\"cognizant\",\"equations\",\"rooms\",\"krishna\",\"printer\",\"tooth\",\"mentally\",\"realistic\",\"automobile\",\"cake\",\"tie\",\"beach\",\"ghost\",\"comfortable\",\"mysql\",\"oral\",\"closed\",\"helps\",\"maharashtra\",\"admissions\",\"i5\",\"partners\",\"axis\",\"beliefs\",\"neck\",\"clans\",\"hidden\",\"cyber\",\"voting\",\"bacteria\",\"layer\",\"chhattisgarh\",\"5000\",\"sitting\",\"murder\",\"argument\",\"f\",\"privacy\",\"syndrome\",\"2010\",\"bite\",\"vacation\",\"isro\",\"trouble\",\"records\",\"answered\",\"digit\",\"defeat\",\"childhood\",\"5s\",\"gates\",\"f1\",\"town\",\"anal\",\"copper\",\"talks\",\"affiliate\",\"sociopath\",\"installed\",\"static\",\"copyright\",\"animation\",\"donate\",\"stranger\",\"bcom\",\"destroyed\",\"gujarat\",\"foundation\",\"prize\",\"components\",\"foreigner\",\"arms\",\"unlimited\",\"needing\",\"settings\",\"item\",\"eve\",\"competition\",\"landing\",\"beard\",\"patent\",\"ending\",\"2020\",\"incident\",\"petroleum\",\"florida\",\"particularly\",\"ups\",\"generator\",\"leather\",\"heal\",\"experiment\",\"28\",\"passing\",\"talent\",\"remote\",\"300\",\"published\",\"impossible\",\"steam\",\"80\",\"washing\",\"guilty\",\"punjab\",\"70\",\"album\",\"bullet\",\"paris\",\"interface\",\"agencies\",\"mission\",\"digits\",\"modis\",\"recruitment\",\"manipal\",\"telling\",\"meal\",\"orange\",\"stone\",\"links\",\"ab\",\"upper\",\"cameras\",\"p\",\"combat\",\"passion\",\"shower\",\"thailand\",\"beings\",\"grad\",\"27\",\"finger\",\"jump\",\"lights\",\"ui\",\"bba\",\"sweden\",\"arrive\",\"4th\",\"amendment\",\"window\",\"satellite\",\"al\",\"matlab\",\"jokes\",\"muhammad\",\"expression\",\"booking\",\"dinner\",\"skype\",\"lots\",\"2018\",\"teen\",\"finish\",\"dslr\",\"mens\",\"proud\",\"entrepreneurs\",\"ukraine\",\"coins\",\"scenario\",\"transmission\",\"ignore\",\"pride\",\"contribute\",\"grand\",\"curve\",\"false\",\"operations\",\"breakup\",\"eventually\",\"acquire\",\"commission\",\"lies\",\"spoken\",\"pills\",\"masturbating\",\"jackson\",\"airbnb\",\"delivered\",\"disk\",\"radiation\",\"plays\",\"marvel\",\"particle\",\"breakfast\",\"smartphones\",\"relevant\",\"quota\",\"refund\",\"inches\",\"telugu\",\"angel\",\"eastern\",\"inflation\",\"predict\",\"annoying\",\"obc\",\"tough\",\"conduct\",\"originate\",\"notification\",\"backup\",\"harder\",\"richest\",\"pronounce\",\"sri\",\"wheel\",\"wasnt\",\"oldest\",\"sheet\",\"soda\",\"20s\",\"wipro\",\"awesome\",\"facial\",\"z\",\"noida\",\"confident\",\"fbi\",\"corrupt\",\"succeed\",\"reddit\",\"associate\",\"input\",\"guns\",\"rahul\",\"baking\",\"description\",\"musical\",\"apache\",\"nowadays\",\"fluid\",\"capacity\",\"loose\",\"freshman\",\"cfa\",\"optional\",\"theres\",\"ps4\",\"trends\",\"jon\",\"richard\",\"legit\",\"nodejs\",\"document\",\"sexually\",\"particles\",\"singer\",\"printing\",\"captain\",\"valuable\",\"several\",\"aiims\",\"boot\",\"sit\",\"zone\",\"billionaire\",\"floor\",\"gravitational\",\"export\",\"motivation\",\"golden\",\"transgender\",\"healthcare\",\"heaven\",\"81\",\"leaves\",\"listening\",\"overall\",\"press\",\"dishes\",\"railways\",\"warming\",\"enfield\",\"extent\",\"acceleration\",\"afford\",\"bonds\",\"border\",\"registration\",\"cast\",\"hope\",\"shipping\",\"karnataka\",\"specifically\",\"opportunity\",\"arabia\",\"pump\",\"pg\",\"carrier\",\"plot\",\"kingdom\",\"contract\",\"painful\",\"kindle\",\"boring\",\"essential\",\"disney\",\"charger\",\"seconds\",\"measured\",\"honda\",\"ba\",\"makeup\",\"\\u2013\",\"mini\",\"annual\",\"traits\",\"retrieve\",\"willing\",\"swift\",\"consume\",\"hindus\",\"psychopath\",\"tells\",\"solving\",\"conditions\",\"artists\",\"spotify\",\"bomb\",\"integrate\",\"stuck\",\"nikon\",\"gadgets\",\"womens\",\"judge\",\"republicans\",\"vacuum\",\"felt\",\"putin\",\"tennis\",\"concentration\",\"fans\",\"constantly\",\"matrix\",\"secrets\",\"spot\",\"soft\",\"stored\",\"neural\",\"submit\",\"scores\",\"ola\",\"wire\",\"gdp\",\"jaipur\",\"typically\",\"airline\",\"roles\",\"cheaper\",\"machines\",\"shift\",\"impress\",\"basics\",\"32\",\"conservative\",\"birds\",\"tend\",\"duty\",\"setup\",\"rude\",\"pink\",\"church\",\"mine\",\"jack\",\"sending\",\"cooking\",\"versus\",\"expert\",\"olympic\",\"biotechnology\",\"gurgaon\",\"worked\",\"codes\",\"successfully\",\"hardware\",\"faith\",\"pr\",\"television\",\"compound\",\"vit\",\"universal\",\"thank\",\"grammatically\",\"chicago\",\"ivy\",\"worried\",\"enterprise\",\"sodium\",\"railway\",\"remedies\",\"racism\",\"tracking\",\"psychological\",\"apartment\",\"magazine\",\"martial\",\"beauty\",\"waiting\",\"attacks\",\"horror\",\"fantasy\",\"ma\",\"select\",\"increasing\",\"metro\",\"opt\",\"map\",\"watched\",\"gear\",\"icloud\",\"james\",\"comedy\",\"lollipop\",\"ireland\",\"upcoming\",\"italian\",\"oven\",\"emotionally\",\"decided\",\"lakh\",\"grey\",\"kept\",\"produced\",\"mouth\",\"manual\",\"dhoni\",\"fill\",\"throat\",\"shoot\",\"liked\",\"innovative\",\"immediately\",\"lonely\",\"fighting\",\"max\",\"accidentally\",\"schedule\",\"orgasm\",\"rape\",\"ride\",\"muscles\",\"graduates\",\"taller\",\"boost\",\"lakhs\",\"microwave\",\"electrons\",\"upon\",\"attract\",\"ap\",\"abuse\",\"earths\",\"forever\",\"underrated\",\"facing\",\"terrorist\",\"alien\",\"celebrity\",\"frequently\",\"vpn\",\"wales\",\"powder\",\"superman\",\"mixed\",\"caught\",\"goods\",\"beginning\",\"starts\",\"atomic\",\"associated\",\"triangle\",\"parties\",\"banning\",\"k\",\"honey\",\"monitor\",\"graph\",\"leaders\",\"embedded\",\"juice\",\"split\",\"lady\",\"sequence\",\"911\",\"harassment\",\"nepal\",\"pop\",\"habit\",\"setting\",\"edge\",\"ww2\",\"gps\",\"federal\",\"charged\",\"lying\",\"empty\",\"whenever\",\"airplane\",\"jet\",\"destroy\",\"ies\",\"wouldnt\",\"quick\",\"decrease\",\"robert\",\"pradesh\",\"professors\",\"massage\",\"held\",\"spending\",\"markets\",\"objects\",\"chart\",\"mechanics\",\"silver\",\"usage\",\"basketball\",\"gen\",\"periods\",\"identity\",\"individuals\",\"css\",\"soul\",\"ipod\",\"chest\",\"understanding\",\"coast\",\"classic\",\"spain\",\"babies\",\"sd\",\"hostel\",\"shirt\",\"further\",\"logical\",\"franchise\",\"obtain\",\"foreigners\",\"fully\",\"region\",\"designed\",\"cheated\",\"beneficial\",\"shes\",\"accent\",\"couldnt\",\"queen\",\"sick\",\"blowing\",\"properly\",\"stronger\",\"returns\",\"condition\",\"musk\",\"ugly\",\"teams\",\"filter\",\"snow\",\"glasses\",\"employer\",\"solid\",\"followed\",\"embarrassing\",\"auto\",\"meeting\",\"belong\",\"strike\",\"internships\",\"bachelors\",\"administration\",\"temple\",\"wealth\",\"retail\",\"speakers\",\"electoral\",\"headphones\",\"streaming\",\"mirror\",\"diesel\",\"republic\",\"antivirus\",\"customers\",\"atm\",\"vagina\",\"cigarettes\",\"aptitude\",\"lewis\",\"saudi\",\"puppy\",\"recovery\",\"jimmy\",\"obsessed\",\"domestic\",\"pen\",\"batch\",\"de\",\"drawing\",\"ai\",\"medium\",\"simply\",\"photoshop\",\"sms\",\"turning\",\"nadu\",\"appropriate\",\"adobe\",\"substitute\",\"fruit\",\"recipes\",\"fighter\",\"saving\",\"greater\",\"cheat\",\"routine\",\"push\",\"sherlock\",\"arguments\",\"sony\",\"import\",\"soldiers\",\"charges\",\"emotions\",\"ibm\",\"un\",\"innovations\",\"itunes\",\"consultant\",\"iims\",\"relations\",\"psychopaths\",\"existing\",\"angle\",\"clash\",\"bus\",\"australian\",\"crazy\",\"pull\",\"theories\",\"savings\",\"suit\",\"contrast\",\"calculus\",\"pi\",\"credits\",\"bluetooth\",\"himself\",\"traveling\",\"criminal\",\"xiaomi\",\"zealand\",\"seats\",\"electron\",\"script\",\"11th\",\"lessons\",\"programmers\",\"december\",\"flag\",\"singh\",\"arabic\",\"sale\",\"nfl\",\"grammar\",\"killing\",\"virgin\",\"differently\",\"poem\",\"provided\",\"automation\",\"shy\",\"translation\",\"mathematical\",\"45\",\"celebrities\",\"spring\",\"downloading\",\"dr\",\"organization\",\"majority\",\"clients\",\"hd\",\"motivate\",\"thats\",\"thesis\",\"door\",\"weakest\",\"saw\",\"canon\",\"younger\",\"costs\",\"river\",\"rings\",\"factory\",\"decent\",\"clintons\",\"holes\",\"desert\",\"divorce\",\"sold\",\"cheese\",\"atom\",\"taught\",\"minute\",\"ocean\",\"crisis\",\"represent\",\"surgical\",\"parent\",\"brexit\",\"possibility\",\"longest\",\"edit\",\"scholarship\",\"motivated\",\"chocolate\",\"faced\",\"90\",\"parallel\",\"foot\",\"examination\",\"friendly\",\"kinds\",\"wins\",\"islamic\",\"degrees\",\"registered\",\"distribution\",\"junior\",\"gave\",\"sing\",\"articles\",\"hadoop\",\"saved\",\"hero\",\"ear\",\"asks\",\"improved\",\"teenager\",\"forms\",\"wash\",\"provides\",\"washington\",\"strikes\",\"binary\",\"syria\",\"indonesia\",\"powers\",\"highly\",\"heshe\",\"happiness\",\"director\",\"citizenship\",\"knew\",\"humanity\",\"translate\",\"nba\",\"permanently\",\"soccer\",\"todays\",\"challenges\",\"barack\",\"title\",\"latin\",\"fitness\",\"genuine\",\"investor\",\"dislike\",\"scenes\",\"hacker\",\"bangladesh\",\"ebay\",\"earning\",\"dell\",\"paytm\",\"spouse\",\"bored\",\"roman\",\"official\",\"dragon\",\"park\",\"except\",\"habits\",\"quote\",\"astrology\",\"congress\",\"automatically\",\"island\",\"religions\",\"christianity\",\"supreme\",\"owner\",\"hell\",\"wikipedia\",\"cancel\",\"industries\",\"actress\",\"client\",\"visual\",\"michael\",\"remain\",\"ability\",\"concrete\",\"conflict\",\"string\",\"linear\",\"supposed\",\"engines\",\"2012\",\"\\u2018\",\"lesser\",\"traditional\",\"episodes\",\"goals\",\"tata\",\"opening\",\"target\",\"weak\",\"anonymous\",\"bjp\",\"resource\",\"concepts\",\"ruby\",\"friendship\",\"nyc\",\"pretty\",\"implement\",\"painting\",\"ill\",\"agency\",\"reverse\",\"confused\",\"italy\",\"response\",\"yellow\",\"dance\",\"contain\",\"vice\",\"editing\",\"acting\",\"weirdest\",\"feels\",\"govt\",\"accounting\",\"rise\",\"wise\",\"leaving\",\"lens\",\"artist\",\"arvind\",\"pattern\",\"scared\",\"attention\",\"airlines\",\"sky\",\"malaysia\",\"port\",\"attempt\",\"element\",\"classical\",\"shown\",\"safety\",\"including\",\"tablet\",\"la\",\"terrorism\",\"commit\",\"maps\",\"african\",\"viewed\",\"calling\",\"6s\",\"agent\",\"output\",\"justice\",\"don\",\"addiction\",\"lock\",\"vegetarian\",\"britain\",\"percent\",\"meditation\",\"ibps\",\"monthly\",\"writers\",\"forward\",\"stuff\",\"mr\",\"ready\",\"forgot\",\"flying\",\"recommended\",\"fields\",\"blind\",\"l\",\"hinduism\",\"desktop\",\"host\",\"tattoo\",\"maintain\",\"boards\",\"helpful\",\"semester\",\"load\",\"tier\",\"agree\",\"factor\",\"elon\",\"freshers\",\"sql\",\"cases\",\"exact\",\"confidence\",\"behavior\",\"hacked\",\"quotes\",\"hydrogen\",\"pakistani\",\"masturbate\",\"divided\",\"skill\",\"fine\",\"falling\",\"chess\",\"charging\",\"pages\",\"vector\",\"supporters\",\"waste\",\"sanders\",\"affordable\",\"unlock\",\"techniques\",\"wine\",\"keyboard\",\"cm\",\"wireless\",\"lawyer\",\"egg\",\"cope\",\"mindblowing\",\"recipe\",\"corruption\",\"scored\",\"secure\",\"teaching\",\"opposite\",\"educational\",\"bernie\",\"y\",\"library\",\"models\",\"kid\",\"stack\",\"separate\",\"19\",\"extremely\",\"properties\",\"cable\",\"magic\",\"removed\",\"computing\",\"hospital\",\"beer\",\"christians\",\"twice\",\"kg\",\"consulting\",\"whose\",\"serious\",\"petrol\",\"travelling\",\"revolution\",\"custom\",\"structures\",\"guide\",\"celebrate\",\"lenovo\",\"turned\",\"ielts\",\"grades\",\"fuel\",\"relative\",\"oracle\",\"academy\",\"lack\",\"passed\",\"relation\",\"values\",\"movement\",\"strategies\",\"eu\",\"emotional\",\"legs\",\"pokemon\",\"3g\",\"iran\",\"mostly\",\"jewish\",\"offered\",\"log\",\"hasnt\",\"explanation\",\"signal\",\"stores\",\"syllabus\",\"bits\",\"yoga\",\"weapons\",\"gods\",\"10000\",\"delivery\",\"gb\",\"sum\",\"letters\",\"venture\",\"selection\",\"winning\",\"35\",\"comment\",\"consequences\",\"sport\",\"items\",\"seems\",\"ring\",\"jealous\",\"laptops\",\"criteria\",\"fresh\",\"reference\",\"bitcoin\",\"infinite\",\"perform\",\"brazil\",\"density\",\"plans\",\"hosting\",\"clothing\",\"hong\",\"dying\",\"heavy\",\"steve\",\"gone\",\"damage\",\"missing\",\"ethical\",\"republican\",\"contacts\",\"activity\",\"electronic\",\"qualities\",\"piano\",\"hisher\",\"repair\",\"posts\",\"disease\",\"winter\",\"ten\",\"publish\",\"paint\",\"physically\",\"executive\",\"deposit\",\"elements\",\"xbox\",\"ceo\",\"visitors\",\"discovered\",\"tickets\",\"literature\",\"primary\",\"naturally\",\"senior\",\"u\",\"hardest\",\"debate\",\"frequency\",\"vietnam\",\"cry\",\"assistant\",\"gifts\",\"practical\",\"funny\",\"valid\",\"liberal\",\"refer\",\"beat\",\"shape\",\"institutes\",\"msc\",\"internal\",\"located\",\"significant\",\"scientists\",\"g\",\"ship\",\"proper\",\"independence\",\"added\",\"hes\",\"catch\",\"urine\",\"effectively\",\"named\",\"responsible\",\"strength\",\"whos\",\"immigration\",\"vehicle\",\"tesla\",\"kong\",\"meth\",\"england\",\"huge\",\"pizza\",\"rejected\",\"george\",\"fan\",\"salt\",\"browser\",\"sat\",\"loved\",\"fees\",\"walking\",\"symbol\",\"equity\",\"ubuntu\",\"alternatives\",\"theme\",\"virus\",\"manufacturing\",\"cutoff\",\"pure\",\"22\",\"introvert\",\"unable\",\"greek\",\"rice\",\"gst\",\"happening\",\"centre\",\"kiss\",\"prison\",\"bigger\",\"font\",\"construction\",\"exercises\",\"keeps\",\"gmat\",\"offers\",\"cross\",\"nasa\",\"unit\",\"advertising\",\"cup\",\"fixed\",\"limited\",\"billion\",\"subjects\",\"arts\",\"worlds\",\"stupid\",\"breaking\",\"funding\",\"tank\",\"generate\",\"efficient\",\"exists\",\"atheist\",\"entrepreneur\",\"direction\",\"broken\",\"offline\",\"firms\",\"station\",\"magnetic\",\"include\",\"aliens\",\"tinder\",\"logo\",\"photography\",\"worse\",\"besides\",\"path\",\"somebody\",\"interviews\",\"persons\",\"figure\",\"placed\",\"nation\",\"knows\",\"unmarried\",\"hp\",\"profitable\",\"tricks\",\"boss\",\"reply\",\"scam\",\"circle\",\"processor\",\"debt\",\"growing\",\"royal\",\"fiction\",\"department\",\"mistake\",\"weird\",\"graphics\",\"external\",\"article\",\"volume\",\"scratch\",\"chain\",\"protect\",\"storage\",\"texas\",\"liquid\",\"circuit\",\"graphic\",\"tired\",\"weather\",\"oxygen\",\"velocity\",\"dad\",\"band\",\"teachers\",\"drugs\",\"complex\",\"studio\",\"accenture\",\"leader\",\"levels\",\"goal\",\"logic\",\"acne\",\"plastic\",\"motion\",\"button\",\"peoples\",\"vision\",\"gap\",\"dollar\",\"computers\",\"stomach\",\"sources\",\"constant\",\"draw\",\"dress\",\"calculated\",\"sort\",\"3rd\",\"club\",\"channels\",\"creating\",\"candidates\",\"kejriwal\",\"broke\",\"sentences\",\"format\",\"emails\",\"raw\",\"stanford\",\"completed\",\"documents\",\"pan\",\"showing\",\"enter\",\"unknown\",\"bought\",\"router\",\"claim\",\"six\",\"technologies\",\"\\u20b9\",\"flipkart\",\"infosys\",\"mutual\",\"angry\",\"iits\",\"affected\",\"prices\",\"shares\",\"naruto\",\"processing\",\"finding\",\"democratic\",\"evolution\",\"harmful\",\"dual\",\"virtual\",\"member\",\"wave\",\"actual\",\"extra\",\"radio\",\"citizens\",\"e\",\"hr\",\"previous\",\"stopped\",\"walk\",\"redmi\",\"speaker\",\"torrent\",\"smoke\",\"mistakes\",\"flash\",\"iron\",\"entire\",\"individual\",\"express\",\"flow\",\"mode\",\"aircraft\",\"section\",\"planets\",\"10th\",\"respond\",\"easier\",\"evil\",\"percentile\",\"seeing\",\"calories\",\"upgrade\",\"professor\",\"v\",\"launch\",\"staff\",\"till\",\"silicon\",\"entry\",\"constitution\",\"century\",\"notice\",\"ie\",\"atheists\",\"tests\",\"21\",\"became\",\"kerala\",\"truly\",\"count\",\"essay\",\"papers\",\"accurate\",\"colors\",\"respect\",\"ideal\",\"rock\",\"reliance\",\"peace\",\"masturbation\",\"audio\",\"random\",\"independent\",\"colour\",\"hotels\",\"presidency\",\"generation\",\"paypal\",\"shot\",\"central\",\"released\",\"occur\",\"display\",\"industrial\",\"particular\",\"risk\",\"eg\",\"belly\",\"pet\",\"similarities\",\"organic\",\"marijuana\",\"networks\",\"aspects\",\"flat\",\"d\",\"comments\",\"nose\",\"identify\",\"rbi\",\"improvement\",\"directly\",\"framework\",\"suggestions\",\"designing\",\"brands\",\"religious\",\"influence\",\"novels\",\"statistics\",\"historical\",\"ground\",\"commerce\",\"pregnancy\",\"romantic\",\"failure\",\"wearing\",\"john\",\"apart\",\"bay\",\"symptoms\",\"200\",\"couple\",\"60\",\"canadian\",\"lie\",\"print\",\"carry\",\"gender\",\"experienced\",\"pounds\",\"reservation\",\"either\",\"stage\",\"artificial\",\"fit\",\"blogs\",\"developing\",\"environment\",\"learned\",\"copy\",\"phase\",\"bond\",\"democracy\",\"cgpa\",\"operating\",\"surface\",\"officers\",\"h1b\",\"ip\",\"workout\",\"fee\",\"elected\",\"hands\",\"largest\",\"sad\",\"shouldnt\",\"seat\",\"sister\",\"developers\",\"despite\",\"scene\",\"po\",\"diploma\",\"request\",\"empire\",\"ratio\",\"considering\",\"academic\",\"tree\",\"register\",\"advantage\",\"eligible\",\"nit\",\"shop\",\"intel\",\"funniest\",\"alternative\",\"fail\",\"ads\",\"nature\",\"miss\",\"involved\",\"overrated\",\"attend\",\"freedom\",\"dna\",\"beginners\",\"raise\",\"dry\",\"failed\",\"legally\",\"batman\",\"upload\",\"carbon\",\"regret\",\"applied\",\"points\",\"investors\",\"pick\",\"equivalent\",\"connected\",\"christmas\",\"lyrics\",\"nations\",\"caused\",\"bsc\",\"1st\",\"action\",\"activities\",\"biology\",\"hide\",\"asia\",\"takes\",\"require\",\"alive\",\"mom\",\"cycle\",\"generally\",\"campaign\",\"fair\",\"wake\",\"bit\",\"rules\",\"olympics\",\"racist\",\"areas\",\"eggs\",\"feature\",\"sap\",\"taxes\",\"ad\",\"shall\",\"theyre\",\"species\",\"pilot\",\"firm\",\"fish\",\"define\",\"doctors\",\"piece\",\"itself\",\"bang\",\"solutions\",\"iim\",\"2013\",\"wanted\",\"length\",\"burn\",\"waves\",\"bar\",\"gives\",\"forces\",\"christian\",\"anybody\",\"relationships\",\"nice\",\"wedding\",\"various\",\"brother\",\"films\",\"cream\",\"suddenly\",\"philippines\",\"fashion\",\"truth\",\"gpa\",\"cgl\",\"tall\",\"goa\",\"hacking\",\"statement\",\"reset\",\"materials\",\"played\",\"match\",\"usb\",\"novel\",\"unusual\",\"knowing\",\"selected\",\"valley\",\"chrome\",\"couples\",\"becomes\",\"died\",\"cheating\",\"community\",\"groups\",\"category\",\"pursuing\",\"writer\",\"mexico\",\"anymore\",\"sugar\",\"climate\",\"brown\",\"players\",\"ii\",\"reviews\",\"took\",\"led\",\"connection\",\"begin\",\"html\",\"changing\",\"received\",\"plants\",\"debit\",\"record\",\"revenue\",\"mars\",\"strongest\",\"members\",\"formed\",\"union\",\"thought\",\"existence\",\"kashmir\",\"gandhi\",\"pdf\",\"banned\",\"0\",\"plane\",\"treated\",\"electricity\",\"scale\",\"basis\",\"moral\",\"images\",\"methods\",\"certification\",\"voltage\",\"style\",\"base\",\"excel\",\"amazing\",\"regarding\",\"result\",\"rates\",\"hold\",\"indias\",\"airport\",\"businesses\",\"feet\",\"built\",\"linkedin\",\"signs\",\"above\",\"networking\",\"r\",\"shopping\",\"looks\",\"went\",\"placements\",\"bed\",\"experiences\",\"daughter\",\"tourist\",\"employee\",\"caste\",\"wait\",\"direct\",\"especially\",\"feed\",\"continue\",\"expected\",\"algorithm\",\"depressed\",\"shoes\",\"soon\",\"supply\",\"stress\",\"24\",\"inr\",\"foods\",\"rent\",\"architecture\",\"ban\",\"entrance\",\"actors\",\"messenger\",\"unique\",\"kolkata\",\"funds\",\"rupee\",\"promote\",\"rupees\",\"jews\",\"23\",\"cook\",\"cultural\",\"accepted\",\"hear\",\"glass\",\"road\",\"joining\",\"measure\",\"havent\",\"metal\",\"resume\",\"afraid\",\"turkey\",\"meat\",\"goes\",\"installation\",\"netflix\",\"benefit\",\"demand\",\"release\",\"produce\",\"report\",\"cover\",\"changes\",\"double\",\"2nd\",\"reaction\",\"killed\",\"steel\",\"requirements\",\"france\",\"exchange\",\"ac\",\"quantum\",\"reliable\",\"box\",\"results\",\"lives\",\"treatment\",\"4g\",\"ece\",\"probability\",\"sleeping\",\"philosophy\",\"handle\",\"forget\",\"driver\",\"demonetization\",\"algorithms\",\"trade\",\"rule\",\"muscle\",\"calls\",\"tried\",\"mental\",\"sure\",\"quit\",\"navy\",\"achieve\",\"francisco\",\"location\",\"until\",\"sense\",\"anxiety\",\"wordpress\",\"focus\",\"fact\",\"production\",\"conversation\",\"motor\",\"five\",\"attracted\",\"hit\",\"analyst\",\"moto\",\"isis\",\"chicken\",\"sector\",\"permanent\",\"along\",\"king\",\"slow\",\"candidate\",\"minutes\",\"purchase\",\"gun\",\"selling\",\"usually\",\"\\u2026\",\"fly\",\"round\",\"panel\",\"error\",\"stocks\",\"api\",\"remember\",\"africa\",\"paying\",\"hitler\",\"3d\",\"regular\",\"losing\",\"mail\",\"yahoo\",\"cheapest\",\"older\",\"concept\",\"characters\",\"definition\",\"lines\",\"pm\",\"cloud\",\"cats\",\"russian\",\"ipad\",\"korean\",\"proof\",\"battle\",\"stars\",\"stream\",\"recent\",\"typical\",\"performance\",\"harvard\",\"restaurant\",\"origin\",\"listen\",\"smell\",\"decide\",\"serve\",\"undergraduate\",\"profit\",\"situation\",\"surgery\",\"asking\",\"plant\",\"link\",\"square\",\"completing\",\"four\",\"trust\",\"payment\",\"gym\",\"andor\",\"worklife\",\"guitar\",\"elections\",\"half\",\"investing\",\"scientist\",\"street\",\"needs\",\"native\",\"thoughts\",\"reality\",\"40\",\"medicine\",\"race\",\"choice\",\"longer\",\"came\",\"applying\",\"hiring\",\"west\",\"weed\",\"hacks\",\"step\",\"sea\",\"crime\",\"devices\",\"event\",\"citizen\",\"14\",\"17\",\"ticket\",\"fund\",\"equation\",\"suicide\",\"whom\",\"met\",\"almost\",\"designer\",\"local\",\"departments\",\"khan\",\"customer\",\"banking\",\"javascript\",\"trip\",\"issue\",\"react\",\"cannot\",\"dubai\",\"wall\",\"touch\",\"parts\",\"loves\",\"clothes\",\"straight\",\"sexual\",\"active\",\"inpatient\",\"dreams\",\"protein\",\"table\",\"exercise\",\"lord\",\"mtech\",\"creative\",\"ball\",\"speaking\",\"son\",\"receive\",\"dollars\",\"domain\",\"prospects\",\"hour\",\"graduation\",\"commercial\",\"themselves\",\"factors\",\"jesus\",\"programmer\",\"recommend\",\"replace\",\"chat\",\"placement\",\"episode\",\"fastest\",\"restaurants\",\"object\",\"drivers\",\"gaming\",\"mark\",\"taste\",\"seem\",\"perfect\",\"potential\",\"trumps\",\"appear\",\"rights\",\"equal\",\"rest\",\"package\",\"meant\",\"drop\",\"cool\",\"material\",\"potter\",\"events\",\"convince\",\"completely\",\"n\",\"zero\",\"significance\",\"lower\",\"feelings\",\"followers\",\"evidence\",\"certain\",\"later\",\"original\",\"bible\",\"disorder\",\"testing\",\"via\",\"stand\",\"actor\",\"characteristics\",\"cities\",\"reach\",\"ago\",\"mbbs\",\"speech\",\"electric\",\"approach\",\"scientific\",\"root\",\"analytics\",\"below\",\"grade\",\"mains\",\"topic\",\"fun\",\"ancient\",\"adult\",\"standard\",\"ice\",\"everyday\",\"population\",\"invented\",\"european\",\"intelligent\",\"11\",\"subject\",\"rehab\",\"background\",\"giving\",\"platform\",\"flight\",\"thrones\",\"maths\",\"dc\",\"teeth\",\"mit\",\"weeks\",\"east\",\"means\",\"programs\",\"beginner\",\"heat\",\"third\",\"tea\",\"range\",\"london\",\"maximum\",\"enjoy\",\"2000\",\"cells\",\"quickly\",\"here\",\"expensive\",\"phrase\",\"partner\",\"league\",\"anime\",\"latest\",\"specific\",\"whether\",\"functions\",\"os\",\"fire\",\"saying\",\"secret\",\"13\",\"planet\",\"hole\",\"super\",\"teacher\",\"strong\",\"accounts\",\"minister\",\"database\",\"economic\",\"channel\",\"estate\",\"ram\",\"switch\",\"asian\",\"smoking\",\"branch\",\"israel\",\"18\",\"features\",\"success\",\"lead\",\"total\",\"key\",\"master\",\"ok\",\"favourite\",\"psychology\",\"pok\\u00e9mon\",\"nothing\",\"clean\",\"25\",\"politics\",\"drinking\",\"sometimes\",\"recently\",\"korea\",\"sent\",\"poor\",\"hindu\",\"hollywood\",\"survive\",\"cure\",\"property\",\"return\",\"narendra\",\"budget\",\"sports\",\"limit\",\"arent\",\"boys\",\"driving\",\"whole\",\"cash\",\"smartphone\",\"php\",\"developed\",\"ssc\",\"hot\",\"attractive\",\"tool\",\"physical\",\"ecommerce\",\"sbi\",\"morning\",\"animal\",\"multiple\",\"loan\",\"acid\",\"fresher\",\"spanish\",\"moving\",\"decision\",\"county\",\"determined\",\"becoming\",\"seo\",\"summer\",\"manage\",\"server\",\"competitive\",\"milk\",\"importance\",\"banks\",\"cheap\",\"powerful\",\"issues\",\"penis\",\"according\",\"analysis\",\"bike\",\"position\",\"western\",\"advanced\",\"campus\",\"highest\",\"front\",\"court\",\"status\",\"gravity\",\"positions\",\"comes\",\"steps\",\"complete\",\"electronics\",\"won\",\"hurt\",\"certificate\",\"temperature\",\"player\",\"someones\",\"communication\",\"million\",\"talking\",\"preparing\",\"finance\",\"cancer\",\"9\",\"harry\",\"accept\",\"2014\",\"plus\",\"born\",\"tcs\",\"license\",\"bring\",\"teach\",\"practice\",\"trading\",\"m\",\"might\",\"opportunities\",\"global\",\"wish\",\"outside\",\"attack\",\"procedure\",\"needed\",\"update\",\"coffee\",\"provider\",\"rather\",\"16\",\"allow\",\"tamil\",\"mix\",\"connect\",\"room\",\"watching\",\"deep\",\"york\",\"image\",\"birth\",\"sign\",\"birthday\",\"playing\",\"wars\",\"grads\",\"hire\",\"phones\",\"cbse\",\"details\",\"clear\",\"cricket\",\"dangerous\",\"track\",\"corporate\",\"voice\",\"upsc\",\"content\",\"okay\",\"san\",\"heart\",\"far\",\"heard\",\"prove\",\"positive\",\"moment\",\"sales\",\"opinion\",\"engineers\",\"block\",\"diet\",\"coding\",\"core\",\"baby\",\"father\",\"little\",\"large\",\"blocked\",\"distance\",\"land\",\"simple\",\"husband\",\"told\",\"traffic\",\"prevent\",\"pictures\",\"planning\",\"fear\",\"classes\",\"towards\",\"technical\",\"building\",\"trying\",\"photo\",\"early\",\"uses\",\"sydney\",\"startups\",\"act\",\"id\",\"describe\",\"12th\",\"may\",\"formula\",\"gets\",\"present\",\"wont\",\"cut\",\"treat\",\"mathematics\",\"visiting\",\"eye\",\"policy\",\"close\",\"cse\",\"suitable\",\"version\",\"tools\",\"head\",\"minimum\",\"chennai\",\"easily\",\"method\",\"intelligence\",\"gre\",\"mother\",\"doctor\",\"macbook\",\"deleted\",\"gas\",\"suggest\",\"cards\",\"files\",\"loss\",\"art\",\"easiest\",\"late\",\"among\",\"together\",\"depression\",\"higher\",\"alone\",\"economics\",\"dead\",\"growth\",\"insurance\",\"gold\",\"necessary\",\"neet\",\"blog\",\"example\",\"memory\",\"crack\",\"consider\",\"works\",\"currency\",\"recruit\",\"pursue\",\"strategy\",\"young\",\"cs\",\"projects\",\"50\",\"manager\",\"abroad\",\"schools\",\"illegal\",\"inside\",\"stories\",\"hand\",\"t\",\"greatest\",\"personality\",\"galaxy\",\"device\",\"views\",\"user\",\"chemistry\",\"cars\",\"iq\",\"prefer\",\"picture\",\"nuclear\",\"middle\",\"applications\",\"gmail\",\"laws\",\"final\",\"capital\",\"kids\",\"society\",\"fake\",\"bill\",\"save\",\"though\",\"likely\",\"determine\",\"shows\",\"character\",\"snapchat\",\"youre\",\"eyes\",\"islam\",\"marry\",\"brand\",\"yet\",\"impact\",\"speak\",\"within\",\"rich\",\"resources\",\"net\",\"non\",\"pressure\",\"changed\",\"allowed\",\"obama\",\"cold\",\"running\",\"feeling\",\"jio\",\"football\",\"gift\",\"written\",\"buying\",\"mac\",\"spend\",\"prime\",\"blue\",\"train\",\"studies\",\"negative\",\"thinking\",\"solution\",\"sun\",\"least\",\"following\",\"install\",\"else\",\"muslims\",\"camera\",\"vote\",\"linux\",\"expect\",\"german\",\"recover\",\"starting\",\"crush\",\"coming\",\"muslim\",\"modern\",\"battery\",\"provide\",\"access\",\"presidential\",\"interest\",\"dating\",\"pro\",\"likes\",\"french\",\"singapore\",\"useful\",\"already\",\"professional\",\"percentage\",\"drink\",\"created\",\"board\",\"passport\",\"structure\",\"case\",\"height\",\"microsoft\",\"break\",\"screen\",\"names\",\"chance\",\"special\",\"30\",\"skin\",\"natural\",\"color\",\"interested\",\"amount\",\"pain\",\"healthy\",\"hack\",\"messages\",\"ias\",\"gay\",\"disadvantages\",\"pass\",\"moon\",\"systems\",\"hindi\",\"financial\",\"taken\",\"yes\",\"sim\",\"pregnant\",\"faster\",\"animals\",\"internship\",\"let\",\"photos\",\"balance\",\"sound\",\"due\",\"knowledge\",\"charge\",\"message\",\"officer\",\"solar\",\"military\",\"meet\",\"option\",\"reading\",\"across\",\"overcome\",\"everyone\",\"everything\",\"wife\",\"reduce\",\"chances\",\"samsung\",\"income\",\"bollywood\",\"season\",\"europe\",\"boy\",\"currently\",\"ex\",\"smart\",\"california\",\"engine\",\"paid\",\"army\",\"contact\",\"address\",\"wants\",\"ones\",\"gain\",\"reasons\",\"avoid\",\"please\",\"note\",\"known\",\"pune\",\"film\",\"national\",\"once\",\"users\",\"porn\",\"scope\",\"twitter\",\"drug\",\"rank\",\"japan\",\"fight\",\"transfer\",\"political\",\"green\",\"news\",\"self\",\"uber\",\"basic\",\"british\",\"religion\",\"hyderabad\",\"topics\",\"explain\",\"phd\",\"eating\",\"letter\",\"calculate\",\"ive\",\"tech\",\"personal\",\"japanese\",\"check\",\"hotel\",\"wifi\",\"beautiful\",\"difficult\",\"paper\",\"languages\",\"investment\",\"develop\",\"north\",\"electrical\",\"ios\",\"alcohol\",\"exactly\",\"profile\",\"past\",\"exams\",\"ca\",\"convert\",\"vs\",\"understand\",\"care\",\"dream\",\"try\",\"americans\",\"lost\",\"chemical\",\"source\",\"b\",\"admission\",\"easy\",\"must\",\"three\",\"effect\",\"view\",\"options\",\"page\",\"away\",\"red\",\"said\",\"line\",\"short\",\"happy\",\"security\",\"dark\",\"preparation\",\"second\",\"fat\",\"matter\",\"few\",\"since\",\"role\",\"pc\",\"office\",\"team\",\"delete\",\"cell\",\"election\",\"economy\",\"term\",\"dogs\",\"text\",\"female\",\"effective\",\"brain\",\"share\",\"digital\",\"btech\",\"russia\",\"\\u201c\",\"party\",\"numbers\",\"20\",\"store\",\"male\",\"mass\",\"turn\",\"left\",\"married\",\"rs\",\"taking\",\"those\",\"password\",\"follow\",\"advice\",\"isnt\",\"15\",\"types\",\"network\",\"\\u201d\",\"week\",\"purpose\",\"related\",\"fix\",\"started\",\"courses\",\"masters\",\"grow\",\"8\",\"fast\",\"leave\",\"100\",\"often\",\"found\",\"pros\",\"marriage\",\"cons\",\"quality\",\"words\",\"kill\",\"price\",\"near\",\"modi\",\"enough\",\"search\",\"python\",\"x\",\"blood\",\"math\",\"yourself\",\"drive\",\"size\",\"star\",\"graduate\",\"majors\",\"500\",\"model\",\"studying\",\"general\",\"oil\",\"colleges\",\"area\",\"developer\",\"germany\",\"industry\",\"full\",\"training\",\"says\",\"period\",\"videos\",\"universe\",\"fall\",\"daily\",\"information\",\"foreign\",\"credit\",\"force\",\"12\",\"youve\",\"south\",\"offer\",\"set\",\"add\",\"send\",\"australia\",\"center\",\"1000\",\"famous\",\"2015\",\"lot\",\"function\",\"tax\",\"correct\",\"solve\",\"advantages\",\"coaching\",\"institute\",\"effects\",\"guys\",\"again\",\"group\",\"hours\",\"side\",\"sentence\",\"low\",\"similar\",\"plan\",\"children\",\"answers\",\"talk\",\"marks\",\"ideas\",\"theory\",\"death\",\"compared\",\"night\",\"remove\",\"dog\",\"anything\",\"single\",\"successful\",\"gate\",\"indians\",\"put\",\"problems\",\"move\",\"writing\",\"point\",\"invest\",\"asked\",\"biggest\",\"others\",\"stock\",\"notes\",\"story\",\"machine\",\"private\",\"sell\",\"seen\",\"required\",\"field\",\"file\",\"rate\",\"humans\",\"application\",\"face\",\"sites\",\"mind\",\"facts\",\"mumbai\",\"post\",\"stay\",\"child\",\"terms\",\"products\",\"control\",\"legal\",\"police\",\"didnt\",\"level\",\"worst\",\"hate\",\"visit\",\"called\",\"amazon\",\"causes\",\"health\",\"form\",\"physics\",\"iit\",\"skills\",\"times\",\"medical\",\"based\",\"list\",\"websites\",\"die\",\"part\",\"less\",\"benefits\",\"apple\",\"instead\",\"these\",\"boyfriend\",\"sleep\",\"canada\",\"reason\",\"education\",\"cause\",\"jee\",\"value\",\"today\",\"media\",\"public\",\"happened\",\"product\",\"research\",\"main\",\"behind\",\"international\",\"project\",\"uk\",\"differ\",\"7\",\"places\",\"wear\",\"order\",\"date\",\"etc\",\"small\",\"songs\",\"apps\",\"email\",\"given\",\"wrong\",\"site\",\"normal\",\"culture\",\"also\",\"civil\",\"city\",\"available\",\"house\",\"exist\",\"startup\",\"services\",\"ms\",\"both\",\"down\",\"2017\",\"run\",\"cat\",\"well\",\"space\",\"join\",\"deal\",\"games\",\"visa\",\"rid\",\"air\",\"speed\",\"popular\",\"problem\",\"support\",\"current\",\"pakistan\",\"choose\",\"build\",\"idea\",\"america\",\"whatsapp\",\"affect\",\"law\",\"technology\",\"call\",\"6\",\"universities\",\"family\",\"marketing\",\"major\",\"actually\",\"favorite\",\"light\",\"bangalore\",\"woman\",\"because\",\"type\",\"program\",\"looking\",\"living\",\"open\",\"believe\",\"month\",\"able\",\"management\",\"travel\",\"degree\",\"show\",\"interesting\",\"score\",\"months\",\"series\",\"chinese\",\"development\",\"end\",\"code\",\"design\",\"per\",\"employees\",\"review\",\"clinton\",\"common\",\"kind\",\"internet\",\"song\",\"download\",\"course\",\"parents\",\"jobs\",\"such\",\"increase\",\"java\",\"god\",\"another\",\"united\",\"girlfriend\",\"mechanical\",\"always\",\"next\",\"never\",\"around\",\"tips\",\"mba\",\"myself\",\"hillary\",\"apply\",\"answer\",\"something\",\"considered\",\"making\",\"differences\",\"market\",\"compare\",\"great\",\"keep\",\"test\",\"s\",\"win\",\"against\",\"states\",\"earn\",\"youtube\",\"worth\",\"delhi\",\"energy\",\"laptop\",\"american\",\"lose\",\"each\",\"hard\",\"makes\",\"age\",\"ask\",\"safe\",\"body\",\"power\",\"salary\",\"4\",\"watch\",\"white\",\"windows\",\"instagram\",\"history\",\"pay\",\"every\",\"last\",\"create\",\"relationship\",\"music\",\"too\",\"meaning\",\"state\",\"average\",\"earth\",\"got\",\"process\",\"class\",\"tv\",\"eat\",\"done\",\"happens\",\"days\",\"big\",\"off\",\"improve\",\"future\",\"place\",\"man\",\"human\",\"government\",\"play\",\"countries\",\"food\",\"service\",\"students\",\"weight\",\"game\",\"engineer\",\"write\",\"very\",\"interview\",\"web\",\"tell\",\"social\",\"girls\",\"video\",\"look\",\"having\",\"guy\",\"home\",\"hair\",\"usa\",\"doesnt\",\"word\",\"bank\",\"friend\",\"true\",\"experience\",\"career\",\"president\",\"question\",\"own\",\"china\",\"come\",\"under\",\"working\",\"him\",\"doing\",\"donald\",\"friends\",\"right\",\"5\",\"cost\",\"mobile\",\"even\",\"movies\",\"then\",\"c\",\"\\u2019\",\"exam\",\"men\",\"learning\",\"card\",\"war\",\"read\",\"programming\",\"black\",\"anyone\",\"high\",\"10\",\"companies\",\"car\",\"getting\",\"give\",\"important\",\"questions\",\"cant\",\"iphone\",\"website\",\"top\",\"water\",\"prepare\",\"during\",\"real\",\"say\",\"system\",\"name\",\"through\",\"two\",\"1\",\"our\",\"study\",\"3\",\"university\",\"made\",\"back\",\"happen\",\"stop\",\"student\",\"sex\",\"bad\",\"language\",\"going\",\"same\",\"before\",\"software\",\"school\",\"live\",\"country\",\"android\",\"science\",\"help\",\"she\",\"see\",\"thing\",\"women\",\"over\",\"data\",\"examples\",\"computer\",\"had\",\"ways\",\"change\",\"while\",\"book\",\"english\",\"account\",\"still\",\"movie\",\"books\",\"2016\",\"facebook\",\"free\",\"number\",\"college\",\"app\",\"2\",\"just\",\"now\",\"no\",\"trump\",\"company\",\"only\",\"old\",\"been\",\"google\",\"phone\",\"long\",\"different\",\"girl\",\"his\",\"her\",\"years\",\"really\",\"them\",\"using\",\"business\",\"need\",\"being\",\"buy\",\"day\",\"person\",\"things\",\"possible\",\"could\",\"were\",\"its\",\"love\",\"engineering\",\"im\",\"used\",\"online\",\"go\",\"year\",\"he\",\"into\",\"feel\",\"dont\",\"first\",\"up\"]]]}}},\"view\":{\"type\":\"object\",\"name\":\"CDSView\",\"id\":\"p1045\",\"attributes\":{\"filter\":{\"type\":\"object\",\"name\":\"AllIndices\",\"id\":\"p1046\"}}},\"glyph\":{\"type\":\"object\",\"name\":\"Scatter\",\"id\":\"p1041\",\"attributes\":{\"x\":{\"type\":\"field\",\"field\":\"x\"},\"y\":{\"type\":\"field\",\"field\":\"y\"},\"size\":{\"type\":\"value\",\"value\":10},\"line_color\":{\"type\":\"field\",\"field\":\"color\"},\"line_alpha\":{\"type\":\"value\",\"value\":0.25},\"fill_color\":{\"type\":\"field\",\"field\":\"color\"},\"fill_alpha\":{\"type\":\"value\",\"value\":0.25},\"hatch_color\":{\"type\":\"field\",\"field\":\"color\"},\"hatch_alpha\":{\"type\":\"value\",\"value\":0.25}}},\"nonselection_glyph\":{\"type\":\"object\",\"name\":\"Scatter\",\"id\":\"p1042\",\"attributes\":{\"x\":{\"type\":\"field\",\"field\":\"x\"},\"y\":{\"type\":\"field\",\"field\":\"y\"},\"size\":{\"type\":\"value\",\"value\":10},\"line_color\":{\"type\":\"field\",\"field\":\"color\"},\"line_alpha\":{\"type\":\"value\",\"value\":0.1},\"fill_color\":{\"type\":\"field\",\"field\":\"color\"},\"fill_alpha\":{\"type\":\"value\",\"value\":0.1},\"hatch_color\":{\"type\":\"field\",\"field\":\"color\"},\"hatch_alpha\":{\"type\":\"value\",\"value\":0.1}}},\"muted_glyph\":{\"type\":\"object\",\"name\":\"Scatter\",\"id\":\"p1043\",\"attributes\":{\"x\":{\"type\":\"field\",\"field\":\"x\"},\"y\":{\"type\":\"field\",\"field\":\"y\"},\"size\":{\"type\":\"value\",\"value\":10},\"line_color\":{\"type\":\"field\",\"field\":\"color\"},\"line_alpha\":{\"type\":\"value\",\"value\":0.2},\"fill_color\":{\"type\":\"field\",\"field\":\"color\"},\"fill_alpha\":{\"type\":\"value\",\"value\":0.2},\"hatch_color\":{\"type\":\"field\",\"field\":\"color\"},\"hatch_alpha\":{\"type\":\"value\",\"value\":0.2}}}}}],\"toolbar\":{\"type\":\"object\",\"name\":\"Toolbar\",\"id\":\"p1012\",\"attributes\":{\"tools\":[{\"type\":\"object\",\"name\":\"PanTool\",\"id\":\"p1025\"},{\"type\":\"object\",\"name\":\"WheelZoomTool\",\"id\":\"p1026\",\"attributes\":{\"renderers\":\"auto\"}},{\"type\":\"object\",\"name\":\"BoxZoomTool\",\"id\":\"p1027\",\"attributes\":{\"overlay\":{\"type\":\"object\",\"name\":\"BoxAnnotation\",\"id\":\"p1028\",\"attributes\":{\"syncable\":false,\"line_color\":\"black\",\"line_alpha\":1.0,\"line_width\":2,\"line_dash\":[4,4],\"fill_color\":\"lightgrey\",\"fill_alpha\":0.5,\"level\":\"overlay\",\"visible\":false,\"left\":{\"type\":\"number\",\"value\":\"nan\"},\"right\":{\"type\":\"number\",\"value\":\"nan\"},\"top\":{\"type\":\"number\",\"value\":\"nan\"},\"bottom\":{\"type\":\"number\",\"value\":\"nan\"},\"left_units\":\"canvas\",\"right_units\":\"canvas\",\"top_units\":\"canvas\",\"bottom_units\":\"canvas\",\"handles\":{\"type\":\"object\",\"name\":\"BoxInteractionHandles\",\"id\":\"p1034\",\"attributes\":{\"all\":{\"type\":\"object\",\"name\":\"AreaVisuals\",\"id\":\"p1033\",\"attributes\":{\"fill_color\":\"white\",\"hover_fill_color\":\"lightgray\"}}}}}}}},{\"type\":\"object\",\"name\":\"SaveTool\",\"id\":\"p1035\"},{\"type\":\"object\",\"name\":\"ResetTool\",\"id\":\"p1036\"},{\"type\":\"object\",\"name\":\"HelpTool\",\"id\":\"p1037\"},{\"type\":\"object\",\"name\":\"HoverTool\",\"id\":\"p1047\",\"attributes\":{\"renderers\":\"auto\",\"tooltips\":[[\"token\",\"@token\"]]}}],\"active_scroll\":{\"id\":\"p1026\"}}},\"left\":[{\"type\":\"object\",\"name\":\"LinearAxis\",\"id\":\"p1020\",\"attributes\":{\"ticker\":{\"type\":\"object\",\"name\":\"BasicTicker\",\"id\":\"p1021\",\"attributes\":{\"mantissas\":[1,2,5]}},\"formatter\":{\"type\":\"object\",\"name\":\"BasicTickFormatter\",\"id\":\"p1022\"},\"major_label_policy\":{\"type\":\"object\",\"name\":\"AllLabels\",\"id\":\"p1023\"}}}],\"below\":[{\"type\":\"object\",\"name\":\"LinearAxis\",\"id\":\"p1015\",\"attributes\":{\"ticker\":{\"type\":\"object\",\"name\":\"BasicTicker\",\"id\":\"p1016\",\"attributes\":{\"mantissas\":[1,2,5]}},\"formatter\":{\"type\":\"object\",\"name\":\"BasicTickFormatter\",\"id\":\"p1017\"},\"major_label_policy\":{\"type\":\"object\",\"name\":\"AllLabels\",\"id\":\"p1018\"}}}],\"center\":[{\"type\":\"object\",\"name\":\"Grid\",\"id\":\"p1019\",\"attributes\":{\"axis\":{\"id\":\"p1015\"}}},{\"type\":\"object\",\"name\":\"Grid\",\"id\":\"p1024\",\"attributes\":{\"dimension\":1,\"axis\":{\"id\":\"p1020\"}}}]}}]}};\n",
              "  const render_items = [{\"docid\":\"352c178f-e3d4-4106-b666-310f7a5b6b6a\",\"roots\":{\"p1004\":\"ef7c992d-2f7b-4c3c-8201-31af3f9470bc\"},\"root_ids\":[\"p1004\"]}];\n",
              "  void root.Bokeh.embed.embed_items_notebook(docs_json, render_items);\n",
              "  }\n",
              "  if (root.Bokeh !== undefined) {\n",
              "    embed_document(root);\n",
              "  } else {\n",
              "    let attempts = 0;\n",
              "    const timer = setInterval(function(root) {\n",
              "      if (root.Bokeh !== undefined) {\n",
              "        clearInterval(timer);\n",
              "        embed_document(root);\n",
              "      } else {\n",
              "        attempts++;\n",
              "        if (attempts > 100) {\n",
              "          clearInterval(timer);\n",
              "          console.log(\"Bokeh: ERROR: Unable to run BokehJS code because BokehJS library is missing\");\n",
              "        }\n",
              "      }\n",
              "    }, 10, root)\n",
              "  }\n",
              "})(window);"
            ],
            "application/vnd.bokehjs_exec.v0+json": ""
          },
          "metadata": {
            "application/vnd.bokehjs_exec.v0+json": {
              "id": "p1004"
            }
          }
        },
        {
          "output_type": "execute_result",
          "data": {
            "text/plain": [
              "figure(id='p1004', ...)"
            ],
            "text/html": [
              "<div style=\"display: table;\"><div style=\"display: table-row;\"><div style=\"display: table-cell;\"><b title=\"bokeh.plotting._figure.figure\">figure</b>(</div><div style=\"display: table-cell;\">id&nbsp;=&nbsp;'p1004', <span id=\"p1051\" style=\"cursor: pointer;\">&hellip;)</span></div></div><div class=\"p1050\" style=\"display: none;\"><div style=\"display: table-cell;\"></div><div style=\"display: table-cell;\">above&nbsp;=&nbsp;[],</div></div><div class=\"p1050\" style=\"display: none;\"><div style=\"display: table-cell;\"></div><div style=\"display: table-cell;\">align&nbsp;=&nbsp;'auto',</div></div><div class=\"p1050\" style=\"display: none;\"><div style=\"display: table-cell;\"></div><div style=\"display: table-cell;\">aspect_ratio&nbsp;=&nbsp;None,</div></div><div class=\"p1050\" style=\"display: none;\"><div style=\"display: table-cell;\"></div><div style=\"display: table-cell;\">aspect_scale&nbsp;=&nbsp;1,</div></div><div class=\"p1050\" style=\"display: none;\"><div style=\"display: table-cell;\"></div><div style=\"display: table-cell;\">attribution&nbsp;=&nbsp;[],</div></div><div class=\"p1050\" style=\"display: none;\"><div style=\"display: table-cell;\"></div><div style=\"display: table-cell;\">background_fill_alpha&nbsp;=&nbsp;1.0,</div></div><div class=\"p1050\" style=\"display: none;\"><div style=\"display: table-cell;\"></div><div style=\"display: table-cell;\">background_fill_color&nbsp;=&nbsp;'#ffffff',</div></div><div class=\"p1050\" style=\"display: none;\"><div style=\"display: table-cell;\"></div><div style=\"display: table-cell;\">below&nbsp;=&nbsp;[LinearAxis(id='p1015', ...)],</div></div><div class=\"p1050\" style=\"display: none;\"><div style=\"display: table-cell;\"></div><div style=\"display: table-cell;\">border_fill_alpha&nbsp;=&nbsp;1.0,</div></div><div class=\"p1050\" style=\"display: none;\"><div style=\"display: table-cell;\"></div><div style=\"display: table-cell;\">border_fill_color&nbsp;=&nbsp;'#ffffff',</div></div><div class=\"p1050\" style=\"display: none;\"><div style=\"display: table-cell;\"></div><div style=\"display: table-cell;\">center&nbsp;=&nbsp;[Grid(id='p1019', ...), Grid(id='p1024', ...)],</div></div><div class=\"p1050\" style=\"display: none;\"><div style=\"display: table-cell;\"></div><div style=\"display: table-cell;\">context_menu&nbsp;=&nbsp;None,</div></div><div class=\"p1050\" style=\"display: none;\"><div style=\"display: table-cell;\"></div><div style=\"display: table-cell;\">css_classes&nbsp;=&nbsp;[],</div></div><div class=\"p1050\" style=\"display: none;\"><div style=\"display: table-cell;\"></div><div style=\"display: table-cell;\">css_variables&nbsp;=&nbsp;{},</div></div><div class=\"p1050\" style=\"display: none;\"><div style=\"display: table-cell;\"></div><div style=\"display: table-cell;\">disabled&nbsp;=&nbsp;False,</div></div><div class=\"p1050\" style=\"display: none;\"><div style=\"display: table-cell;\"></div><div style=\"display: table-cell;\">elements&nbsp;=&nbsp;[],</div></div><div class=\"p1050\" style=\"display: none;\"><div style=\"display: table-cell;\"></div><div style=\"display: table-cell;\">extra_x_ranges&nbsp;=&nbsp;{},</div></div><div class=\"p1050\" style=\"display: none;\"><div style=\"display: table-cell;\"></div><div style=\"display: table-cell;\">extra_x_scales&nbsp;=&nbsp;{},</div></div><div class=\"p1050\" style=\"display: none;\"><div style=\"display: table-cell;\"></div><div style=\"display: table-cell;\">extra_y_ranges&nbsp;=&nbsp;{},</div></div><div class=\"p1050\" style=\"display: none;\"><div style=\"display: table-cell;\"></div><div style=\"display: table-cell;\">extra_y_scales&nbsp;=&nbsp;{},</div></div><div class=\"p1050\" style=\"display: none;\"><div style=\"display: table-cell;\"></div><div style=\"display: table-cell;\">flow_mode&nbsp;=&nbsp;'block',</div></div><div class=\"p1050\" style=\"display: none;\"><div style=\"display: table-cell;\"></div><div style=\"display: table-cell;\">frame_align&nbsp;=&nbsp;True,</div></div><div class=\"p1050\" style=\"display: none;\"><div style=\"display: table-cell;\"></div><div style=\"display: table-cell;\">frame_height&nbsp;=&nbsp;None,</div></div><div class=\"p1050\" style=\"display: none;\"><div style=\"display: table-cell;\"></div><div style=\"display: table-cell;\">frame_width&nbsp;=&nbsp;None,</div></div><div class=\"p1050\" style=\"display: none;\"><div style=\"display: table-cell;\"></div><div style=\"display: table-cell;\">height&nbsp;=&nbsp;400,</div></div><div class=\"p1050\" style=\"display: none;\"><div style=\"display: table-cell;\"></div><div style=\"display: table-cell;\">height_policy&nbsp;=&nbsp;'auto',</div></div><div class=\"p1050\" style=\"display: none;\"><div style=\"display: table-cell;\"></div><div style=\"display: table-cell;\">hidpi&nbsp;=&nbsp;True,</div></div><div class=\"p1050\" style=\"display: none;\"><div style=\"display: table-cell;\"></div><div style=\"display: table-cell;\">hold_render&nbsp;=&nbsp;False,</div></div><div class=\"p1050\" style=\"display: none;\"><div style=\"display: table-cell;\"></div><div style=\"display: table-cell;\">js_event_callbacks&nbsp;=&nbsp;{},</div></div><div class=\"p1050\" style=\"display: none;\"><div style=\"display: table-cell;\"></div><div style=\"display: table-cell;\">js_property_callbacks&nbsp;=&nbsp;{},</div></div><div class=\"p1050\" style=\"display: none;\"><div style=\"display: table-cell;\"></div><div style=\"display: table-cell;\">left&nbsp;=&nbsp;[LinearAxis(id='p1020', ...)],</div></div><div class=\"p1050\" style=\"display: none;\"><div style=\"display: table-cell;\"></div><div style=\"display: table-cell;\">lod_factor&nbsp;=&nbsp;10,</div></div><div class=\"p1050\" style=\"display: none;\"><div style=\"display: table-cell;\"></div><div style=\"display: table-cell;\">lod_interval&nbsp;=&nbsp;300,</div></div><div class=\"p1050\" style=\"display: none;\"><div style=\"display: table-cell;\"></div><div style=\"display: table-cell;\">lod_threshold&nbsp;=&nbsp;2000,</div></div><div class=\"p1050\" style=\"display: none;\"><div style=\"display: table-cell;\"></div><div style=\"display: table-cell;\">lod_timeout&nbsp;=&nbsp;500,</div></div><div class=\"p1050\" style=\"display: none;\"><div style=\"display: table-cell;\"></div><div style=\"display: table-cell;\">margin&nbsp;=&nbsp;None,</div></div><div class=\"p1050\" style=\"display: none;\"><div style=\"display: table-cell;\"></div><div style=\"display: table-cell;\">match_aspect&nbsp;=&nbsp;False,</div></div><div class=\"p1050\" style=\"display: none;\"><div style=\"display: table-cell;\"></div><div style=\"display: table-cell;\">max_height&nbsp;=&nbsp;None,</div></div><div class=\"p1050\" style=\"display: none;\"><div style=\"display: table-cell;\"></div><div style=\"display: table-cell;\">max_width&nbsp;=&nbsp;None,</div></div><div class=\"p1050\" style=\"display: none;\"><div style=\"display: table-cell;\"></div><div style=\"display: table-cell;\">min_border&nbsp;=&nbsp;5,</div></div><div class=\"p1050\" style=\"display: none;\"><div style=\"display: table-cell;\"></div><div style=\"display: table-cell;\">min_border_bottom&nbsp;=&nbsp;None,</div></div><div class=\"p1050\" style=\"display: none;\"><div style=\"display: table-cell;\"></div><div style=\"display: table-cell;\">min_border_left&nbsp;=&nbsp;None,</div></div><div class=\"p1050\" style=\"display: none;\"><div style=\"display: table-cell;\"></div><div style=\"display: table-cell;\">min_border_right&nbsp;=&nbsp;None,</div></div><div class=\"p1050\" style=\"display: none;\"><div style=\"display: table-cell;\"></div><div style=\"display: table-cell;\">min_border_top&nbsp;=&nbsp;None,</div></div><div class=\"p1050\" style=\"display: none;\"><div style=\"display: table-cell;\"></div><div style=\"display: table-cell;\">min_height&nbsp;=&nbsp;None,</div></div><div class=\"p1050\" style=\"display: none;\"><div style=\"display: table-cell;\"></div><div style=\"display: table-cell;\">min_width&nbsp;=&nbsp;None,</div></div><div class=\"p1050\" style=\"display: none;\"><div style=\"display: table-cell;\"></div><div style=\"display: table-cell;\">name&nbsp;=&nbsp;None,</div></div><div class=\"p1050\" style=\"display: none;\"><div style=\"display: table-cell;\"></div><div style=\"display: table-cell;\">outline_line_alpha&nbsp;=&nbsp;1.0,</div></div><div class=\"p1050\" style=\"display: none;\"><div style=\"display: table-cell;\"></div><div style=\"display: table-cell;\">outline_line_cap&nbsp;=&nbsp;'butt',</div></div><div class=\"p1050\" style=\"display: none;\"><div style=\"display: table-cell;\"></div><div style=\"display: table-cell;\">outline_line_color&nbsp;=&nbsp;'#e5e5e5',</div></div><div class=\"p1050\" style=\"display: none;\"><div style=\"display: table-cell;\"></div><div style=\"display: table-cell;\">outline_line_dash&nbsp;=&nbsp;[],</div></div><div class=\"p1050\" style=\"display: none;\"><div style=\"display: table-cell;\"></div><div style=\"display: table-cell;\">outline_line_dash_offset&nbsp;=&nbsp;0,</div></div><div class=\"p1050\" style=\"display: none;\"><div style=\"display: table-cell;\"></div><div style=\"display: table-cell;\">outline_line_join&nbsp;=&nbsp;'bevel',</div></div><div class=\"p1050\" style=\"display: none;\"><div style=\"display: table-cell;\"></div><div style=\"display: table-cell;\">outline_line_width&nbsp;=&nbsp;1,</div></div><div class=\"p1050\" style=\"display: none;\"><div style=\"display: table-cell;\"></div><div style=\"display: table-cell;\">output_backend&nbsp;=&nbsp;'canvas',</div></div><div class=\"p1050\" style=\"display: none;\"><div style=\"display: table-cell;\"></div><div style=\"display: table-cell;\">renderers&nbsp;=&nbsp;[GlyphRenderer(id='p1044', ...)],</div></div><div class=\"p1050\" style=\"display: none;\"><div style=\"display: table-cell;\"></div><div style=\"display: table-cell;\">reset_policy&nbsp;=&nbsp;'standard',</div></div><div class=\"p1050\" style=\"display: none;\"><div style=\"display: table-cell;\"></div><div style=\"display: table-cell;\">resizable&nbsp;=&nbsp;False,</div></div><div class=\"p1050\" style=\"display: none;\"><div style=\"display: table-cell;\"></div><div style=\"display: table-cell;\">right&nbsp;=&nbsp;[],</div></div><div class=\"p1050\" style=\"display: none;\"><div style=\"display: table-cell;\"></div><div style=\"display: table-cell;\">sizing_mode&nbsp;=&nbsp;None,</div></div><div class=\"p1050\" style=\"display: none;\"><div style=\"display: table-cell;\"></div><div style=\"display: table-cell;\">styles&nbsp;=&nbsp;{},</div></div><div class=\"p1050\" style=\"display: none;\"><div style=\"display: table-cell;\"></div><div style=\"display: table-cell;\">stylesheets&nbsp;=&nbsp;[],</div></div><div class=\"p1050\" style=\"display: none;\"><div style=\"display: table-cell;\"></div><div style=\"display: table-cell;\">subscribed_events&nbsp;=&nbsp;PropertyValueSet(),</div></div><div class=\"p1050\" style=\"display: none;\"><div style=\"display: table-cell;\"></div><div style=\"display: table-cell;\">syncable&nbsp;=&nbsp;True,</div></div><div class=\"p1050\" style=\"display: none;\"><div style=\"display: table-cell;\"></div><div style=\"display: table-cell;\">tags&nbsp;=&nbsp;[],</div></div><div class=\"p1050\" style=\"display: none;\"><div style=\"display: table-cell;\"></div><div style=\"display: table-cell;\">title&nbsp;=&nbsp;Title(id='p1011', ...),</div></div><div class=\"p1050\" style=\"display: none;\"><div style=\"display: table-cell;\"></div><div style=\"display: table-cell;\">title_location&nbsp;=&nbsp;'above',</div></div><div class=\"p1050\" style=\"display: none;\"><div style=\"display: table-cell;\"></div><div style=\"display: table-cell;\">toolbar&nbsp;=&nbsp;Toolbar(id='p1012', ...),</div></div><div class=\"p1050\" style=\"display: none;\"><div style=\"display: table-cell;\"></div><div style=\"display: table-cell;\">toolbar_inner&nbsp;=&nbsp;False,</div></div><div class=\"p1050\" style=\"display: none;\"><div style=\"display: table-cell;\"></div><div style=\"display: table-cell;\">toolbar_location&nbsp;=&nbsp;'right',</div></div><div class=\"p1050\" style=\"display: none;\"><div style=\"display: table-cell;\"></div><div style=\"display: table-cell;\">toolbar_sticky&nbsp;=&nbsp;True,</div></div><div class=\"p1050\" style=\"display: none;\"><div style=\"display: table-cell;\"></div><div style=\"display: table-cell;\">visible&nbsp;=&nbsp;True,</div></div><div class=\"p1050\" style=\"display: none;\"><div style=\"display: table-cell;\"></div><div style=\"display: table-cell;\">width&nbsp;=&nbsp;600,</div></div><div class=\"p1050\" style=\"display: none;\"><div style=\"display: table-cell;\"></div><div style=\"display: table-cell;\">width_policy&nbsp;=&nbsp;'auto',</div></div><div class=\"p1050\" style=\"display: none;\"><div style=\"display: table-cell;\"></div><div style=\"display: table-cell;\">x_range&nbsp;=&nbsp;DataRange1d(id='p1005', ...),</div></div><div class=\"p1050\" style=\"display: none;\"><div style=\"display: table-cell;\"></div><div style=\"display: table-cell;\">x_scale&nbsp;=&nbsp;LinearScale(id='p1013', ...),</div></div><div class=\"p1050\" style=\"display: none;\"><div style=\"display: table-cell;\"></div><div style=\"display: table-cell;\">y_range&nbsp;=&nbsp;DataRange1d(id='p1006', ...),</div></div><div class=\"p1050\" style=\"display: none;\"><div style=\"display: table-cell;\"></div><div style=\"display: table-cell;\">y_scale&nbsp;=&nbsp;LinearScale(id='p1014', ...))</div></div></div>\n",
              "<script>\n",
              "(function() {\n",
              "  let expanded = false;\n",
              "  const ellipsis = document.getElementById(\"p1051\");\n",
              "  ellipsis.addEventListener(\"click\", function() {\n",
              "    const rows = document.getElementsByClassName(\"p1050\");\n",
              "    for (let i = 0; i < rows.length; i++) {\n",
              "      const el = rows[i];\n",
              "      el.style.display = expanded ? \"none\" : \"table-row\";\n",
              "    }\n",
              "    ellipsis.innerHTML = expanded ? \"&hellip;)\" : \"&lsaquo;&lsaquo;&lsaquo;\";\n",
              "    expanded = !expanded;\n",
              "  });\n",
              "})();\n",
              "</script>\n"
            ]
          },
          "metadata": {},
          "execution_count": 58
        }
      ],
      "source": [
        "draw_vectors(embedding[:, 0], embedding[:, 1], token=top_words)"
      ]
    },
    {
      "cell_type": "markdown",
      "metadata": {
        "id": "K-zdwxS56wfd"
      },
      "source": [
        "Для сдачи задания необходимо загрузить функции `subsample_frequent_words` и `get_negative_sampling_prob`, а также сгенерировать файл для посылки ниже и приложить в соответствующую задачу. Успехов!"
      ]
    },
    {
      "cell_type": "code",
      "execution_count": 60,
      "metadata": {
        "id": "qzpAQuSn6wfd",
        "colab": {
          "base_uri": "https://localhost:8080/"
        },
        "outputId": "16073288-f2ce-452b-de49-6874db2d43b3"
      },
      "outputs": [
        {
          "output_type": "stream",
          "name": "stdout",
          "text": [
            "File saved to `submission_dict.json`\n"
          ]
        }
      ],
      "source": [
        "# do not change the code in the block below\n",
        "# __________start of block__________\n",
        "import os\n",
        "import json\n",
        "\n",
        "assert os.path.exists(\n",
        "    \"words_subset.txt\"\n",
        "), \"Please, download `words_subset.txt` and place it in the working directory\"\n",
        "\n",
        "with open(\"words_subset.txt\") as iofile:\n",
        "    selected_words = iofile.read().split(\"\\n\")\n",
        "\n",
        "\n",
        "def get_matrix_for_selected_words(selected_words, embedding_matrix, word_to_index):\n",
        "    word_vectors = []\n",
        "    for word in selected_words:\n",
        "        index = word_to_index.get(word, None)\n",
        "        vector = [0.0] * embedding_matrix.shape[1]\n",
        "        if index is not None:\n",
        "            vector = embedding_matrix[index].numpy().tolist()\n",
        "        word_vectors.append(vector)\n",
        "    return word_vectors\n",
        "\n",
        "\n",
        "word_vectors = get_matrix_for_selected_words(\n",
        "    selected_words, embedding_matrix_context, word_to_index\n",
        ")\n",
        "\n",
        "with open(\"submission_dict.json\", \"w\") as iofile:\n",
        "    json.dump(word_vectors, iofile)\n",
        "print(\"File saved to `submission_dict.json`\")\n",
        "# __________end of block__________"
      ]
    }
  ],
  "metadata": {
    "colab": {
      "provenance": []
    },
    "kernelspec": {
      "display_name": "py3_research",
      "language": "python",
      "name": "python3"
    },
    "language_info": {
      "codemirror_mode": {
        "name": "ipython",
        "version": 3
      },
      "file_extension": ".py",
      "mimetype": "text/x-python",
      "name": "python",
      "nbconvert_exporter": "python",
      "pygments_lexer": "ipython3",
      "version": "3.11.2"
    },
    "widgets": {
      "application/vnd.jupyter.widget-state+json": {
        "bac74a1696dc4fe8af450fedd7b9f1b3": {
          "model_module": "@jupyter-widgets/controls",
          "model_name": "HBoxModel",
          "model_module_version": "1.5.0",
          "state": {
            "_dom_classes": [],
            "_model_module": "@jupyter-widgets/controls",
            "_model_module_version": "1.5.0",
            "_model_name": "HBoxModel",
            "_view_count": null,
            "_view_module": "@jupyter-widgets/controls",
            "_view_module_version": "1.5.0",
            "_view_name": "HBoxView",
            "box_style": "",
            "children": [
              "IPY_MODEL_a3048a90d1844a3eba69d362ebd7f4d7",
              "IPY_MODEL_4c4245140c60488d8cc3cd3d6c8ebd88",
              "IPY_MODEL_11e1ce1a4a714f6687daed48b106929c"
            ],
            "layout": "IPY_MODEL_a1a26403fa8246aaaf12536f8a5eaaff"
          }
        },
        "a3048a90d1844a3eba69d362ebd7f4d7": {
          "model_module": "@jupyter-widgets/controls",
          "model_name": "HTMLModel",
          "model_module_version": "1.5.0",
          "state": {
            "_dom_classes": [],
            "_model_module": "@jupyter-widgets/controls",
            "_model_module_version": "1.5.0",
            "_model_name": "HTMLModel",
            "_view_count": null,
            "_view_module": "@jupyter-widgets/controls",
            "_view_module_version": "1.5.0",
            "_view_name": "HTMLView",
            "description": "",
            "description_tooltip": null,
            "layout": "IPY_MODEL_091dbf8d21fb44879460521c3b94fb50",
            "placeholder": "​",
            "style": "IPY_MODEL_bcdf1acfa80e4cdd965fe6e6b7ebe130",
            "value": "100%"
          }
        },
        "4c4245140c60488d8cc3cd3d6c8ebd88": {
          "model_module": "@jupyter-widgets/controls",
          "model_name": "FloatProgressModel",
          "model_module_version": "1.5.0",
          "state": {
            "_dom_classes": [],
            "_model_module": "@jupyter-widgets/controls",
            "_model_module_version": "1.5.0",
            "_model_name": "FloatProgressModel",
            "_view_count": null,
            "_view_module": "@jupyter-widgets/controls",
            "_view_module_version": "1.5.0",
            "_view_name": "ProgressView",
            "bar_style": "success",
            "description": "",
            "description_tooltip": null,
            "layout": "IPY_MODEL_789b4da50adb4780bb3d1980d5bebda0",
            "max": 2500,
            "min": 0,
            "orientation": "horizontal",
            "style": "IPY_MODEL_3affe5f4adbf43b28a9b56444018e52f",
            "value": 2500
          }
        },
        "11e1ce1a4a714f6687daed48b106929c": {
          "model_module": "@jupyter-widgets/controls",
          "model_name": "HTMLModel",
          "model_module_version": "1.5.0",
          "state": {
            "_dom_classes": [],
            "_model_module": "@jupyter-widgets/controls",
            "_model_module_version": "1.5.0",
            "_model_name": "HTMLModel",
            "_view_count": null,
            "_view_module": "@jupyter-widgets/controls",
            "_view_module_version": "1.5.0",
            "_view_name": "HTMLView",
            "description": "",
            "description_tooltip": null,
            "layout": "IPY_MODEL_4faacbe79f3a4d7280163b643684253f",
            "placeholder": "​",
            "style": "IPY_MODEL_7e42f3d3a6544ee08b7ed4db17432a22",
            "value": " 2500/2500 [1:01:18&lt;00:00,  1.59s/it]"
          }
        },
        "a1a26403fa8246aaaf12536f8a5eaaff": {
          "model_module": "@jupyter-widgets/base",
          "model_name": "LayoutModel",
          "model_module_version": "1.2.0",
          "state": {
            "_model_module": "@jupyter-widgets/base",
            "_model_module_version": "1.2.0",
            "_model_name": "LayoutModel",
            "_view_count": null,
            "_view_module": "@jupyter-widgets/base",
            "_view_module_version": "1.2.0",
            "_view_name": "LayoutView",
            "align_content": null,
            "align_items": null,
            "align_self": null,
            "border": null,
            "bottom": null,
            "display": null,
            "flex": null,
            "flex_flow": null,
            "grid_area": null,
            "grid_auto_columns": null,
            "grid_auto_flow": null,
            "grid_auto_rows": null,
            "grid_column": null,
            "grid_gap": null,
            "grid_row": null,
            "grid_template_areas": null,
            "grid_template_columns": null,
            "grid_template_rows": null,
            "height": null,
            "justify_content": null,
            "justify_items": null,
            "left": null,
            "margin": null,
            "max_height": null,
            "max_width": null,
            "min_height": null,
            "min_width": null,
            "object_fit": null,
            "object_position": null,
            "order": null,
            "overflow": null,
            "overflow_x": null,
            "overflow_y": null,
            "padding": null,
            "right": null,
            "top": null,
            "visibility": null,
            "width": null
          }
        },
        "091dbf8d21fb44879460521c3b94fb50": {
          "model_module": "@jupyter-widgets/base",
          "model_name": "LayoutModel",
          "model_module_version": "1.2.0",
          "state": {
            "_model_module": "@jupyter-widgets/base",
            "_model_module_version": "1.2.0",
            "_model_name": "LayoutModel",
            "_view_count": null,
            "_view_module": "@jupyter-widgets/base",
            "_view_module_version": "1.2.0",
            "_view_name": "LayoutView",
            "align_content": null,
            "align_items": null,
            "align_self": null,
            "border": null,
            "bottom": null,
            "display": null,
            "flex": null,
            "flex_flow": null,
            "grid_area": null,
            "grid_auto_columns": null,
            "grid_auto_flow": null,
            "grid_auto_rows": null,
            "grid_column": null,
            "grid_gap": null,
            "grid_row": null,
            "grid_template_areas": null,
            "grid_template_columns": null,
            "grid_template_rows": null,
            "height": null,
            "justify_content": null,
            "justify_items": null,
            "left": null,
            "margin": null,
            "max_height": null,
            "max_width": null,
            "min_height": null,
            "min_width": null,
            "object_fit": null,
            "object_position": null,
            "order": null,
            "overflow": null,
            "overflow_x": null,
            "overflow_y": null,
            "padding": null,
            "right": null,
            "top": null,
            "visibility": null,
            "width": null
          }
        },
        "bcdf1acfa80e4cdd965fe6e6b7ebe130": {
          "model_module": "@jupyter-widgets/controls",
          "model_name": "DescriptionStyleModel",
          "model_module_version": "1.5.0",
          "state": {
            "_model_module": "@jupyter-widgets/controls",
            "_model_module_version": "1.5.0",
            "_model_name": "DescriptionStyleModel",
            "_view_count": null,
            "_view_module": "@jupyter-widgets/base",
            "_view_module_version": "1.2.0",
            "_view_name": "StyleView",
            "description_width": ""
          }
        },
        "789b4da50adb4780bb3d1980d5bebda0": {
          "model_module": "@jupyter-widgets/base",
          "model_name": "LayoutModel",
          "model_module_version": "1.2.0",
          "state": {
            "_model_module": "@jupyter-widgets/base",
            "_model_module_version": "1.2.0",
            "_model_name": "LayoutModel",
            "_view_count": null,
            "_view_module": "@jupyter-widgets/base",
            "_view_module_version": "1.2.0",
            "_view_name": "LayoutView",
            "align_content": null,
            "align_items": null,
            "align_self": null,
            "border": null,
            "bottom": null,
            "display": null,
            "flex": null,
            "flex_flow": null,
            "grid_area": null,
            "grid_auto_columns": null,
            "grid_auto_flow": null,
            "grid_auto_rows": null,
            "grid_column": null,
            "grid_gap": null,
            "grid_row": null,
            "grid_template_areas": null,
            "grid_template_columns": null,
            "grid_template_rows": null,
            "height": null,
            "justify_content": null,
            "justify_items": null,
            "left": null,
            "margin": null,
            "max_height": null,
            "max_width": null,
            "min_height": null,
            "min_width": null,
            "object_fit": null,
            "object_position": null,
            "order": null,
            "overflow": null,
            "overflow_x": null,
            "overflow_y": null,
            "padding": null,
            "right": null,
            "top": null,
            "visibility": null,
            "width": null
          }
        },
        "3affe5f4adbf43b28a9b56444018e52f": {
          "model_module": "@jupyter-widgets/controls",
          "model_name": "ProgressStyleModel",
          "model_module_version": "1.5.0",
          "state": {
            "_model_module": "@jupyter-widgets/controls",
            "_model_module_version": "1.5.0",
            "_model_name": "ProgressStyleModel",
            "_view_count": null,
            "_view_module": "@jupyter-widgets/base",
            "_view_module_version": "1.2.0",
            "_view_name": "StyleView",
            "bar_color": null,
            "description_width": ""
          }
        },
        "4faacbe79f3a4d7280163b643684253f": {
          "model_module": "@jupyter-widgets/base",
          "model_name": "LayoutModel",
          "model_module_version": "1.2.0",
          "state": {
            "_model_module": "@jupyter-widgets/base",
            "_model_module_version": "1.2.0",
            "_model_name": "LayoutModel",
            "_view_count": null,
            "_view_module": "@jupyter-widgets/base",
            "_view_module_version": "1.2.0",
            "_view_name": "LayoutView",
            "align_content": null,
            "align_items": null,
            "align_self": null,
            "border": null,
            "bottom": null,
            "display": null,
            "flex": null,
            "flex_flow": null,
            "grid_area": null,
            "grid_auto_columns": null,
            "grid_auto_flow": null,
            "grid_auto_rows": null,
            "grid_column": null,
            "grid_gap": null,
            "grid_row": null,
            "grid_template_areas": null,
            "grid_template_columns": null,
            "grid_template_rows": null,
            "height": null,
            "justify_content": null,
            "justify_items": null,
            "left": null,
            "margin": null,
            "max_height": null,
            "max_width": null,
            "min_height": null,
            "min_width": null,
            "object_fit": null,
            "object_position": null,
            "order": null,
            "overflow": null,
            "overflow_x": null,
            "overflow_y": null,
            "padding": null,
            "right": null,
            "top": null,
            "visibility": null,
            "width": null
          }
        },
        "7e42f3d3a6544ee08b7ed4db17432a22": {
          "model_module": "@jupyter-widgets/controls",
          "model_name": "DescriptionStyleModel",
          "model_module_version": "1.5.0",
          "state": {
            "_model_module": "@jupyter-widgets/controls",
            "_model_module_version": "1.5.0",
            "_model_name": "DescriptionStyleModel",
            "_view_count": null,
            "_view_module": "@jupyter-widgets/base",
            "_view_module_version": "1.2.0",
            "_view_name": "StyleView",
            "description_width": ""
          }
        }
      }
    }
  },
  "nbformat": 4,
  "nbformat_minor": 0
}