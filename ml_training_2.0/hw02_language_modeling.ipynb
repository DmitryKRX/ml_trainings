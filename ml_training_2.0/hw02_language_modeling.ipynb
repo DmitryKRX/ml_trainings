{
  "cells": [
    {
      "cell_type": "markdown",
      "metadata": {
        "id": "xw4sxAetCFok"
      },
      "source": [
        "### Генерация поэзии с помощью нейронных сетей: шаг 1\n",
        "##### Автор: [Радослав Нейчев](https://www.linkedin.com/in/radoslav-neychev/), @neychev\n",
        "\n",
        "Ваша основная задача: научиться генерироват стихи с помощью простой рекуррентной нейронной сети (Vanilla RNN). В качестве корпуса текстов для обучения будет выступать роман в стихах \"Евгений Онегин\" Александра Сергеевича Пушкина."
      ]
    },
    {
      "cell_type": "code",
      "execution_count": 1,
      "metadata": {
        "id": "FEtqE-jtCFom"
      },
      "outputs": [],
      "source": [
        "# do not change the code in the block below\n",
        "# __________start of block__________\n",
        "import string\n",
        "import os\n",
        "from random import sample\n",
        "from tqdm import tqdm\n",
        "\n",
        "import numpy as np\n",
        "import torch, torch.nn as nn\n",
        "import torch.nn.functional as F\n",
        "\n",
        "from IPython.display import clear_output\n",
        "\n",
        "import matplotlib.pyplot as plt\n",
        "# __________end of block__________"
      ]
    },
    {
      "cell_type": "code",
      "execution_count": 2,
      "metadata": {
        "colab": {
          "base_uri": "https://localhost:8080/"
        },
        "id": "XoSELjyvCFom",
        "outputId": "8a75aa68-a2fe-4903-b0d8-356a706239de"
      },
      "outputs": [
        {
          "output_type": "stream",
          "name": "stdout",
          "text": [
            "cuda device is available\n"
          ]
        }
      ],
      "source": [
        "# do not change the code in the block below\n",
        "# __________start of block__________\n",
        "device = torch.device('cuda') if torch.cuda.is_available() else torch.device('cpu')\n",
        "print('{} device is available'.format(device))\n",
        "# __________end of block__________"
      ]
    },
    {
      "cell_type": "markdown",
      "metadata": {
        "id": "MPenWOy01Ooa",
        "outputId": "a92e8e33-e009-4bd4-ac12-3b1b5e1cd3f2"
      },
      "source": [
        "#### 1. Загрузка данных."
      ]
    },
    {
      "cell_type": "code",
      "execution_count": 3,
      "metadata": {
        "colab": {
          "base_uri": "https://localhost:8080/"
        },
        "id": "3P3SQEiUCFon",
        "outputId": "96305338-5cc6-44db-de06-4c80172ddf9b"
      },
      "outputs": [
        {
          "output_type": "stream",
          "name": "stdout",
          "text": [
            "--2024-11-06 12:00:32--  https://raw.githubusercontent.com/neychev/small_DL_repo/master/datasets/onegin.txt\n",
            "Resolving raw.githubusercontent.com (raw.githubusercontent.com)... 185.199.108.133, 185.199.111.133, 185.199.109.133, ...\n",
            "Connecting to raw.githubusercontent.com (raw.githubusercontent.com)|185.199.108.133|:443... connected.\n",
            "HTTP request sent, awaiting response... 200 OK\n",
            "Length: 262521 (256K) [text/plain]\n",
            "Saving to: ‘onegin.txt’\n",
            "\n",
            "onegin.txt          100%[===================>] 256.37K  --.-KB/s    in 0.003s  \n",
            "\n",
            "2024-11-06 12:00:32 (75.5 MB/s) - ‘onegin.txt’ saved [262521/262521]\n",
            "\n"
          ]
        }
      ],
      "source": [
        "# do not change the code in the block below\n",
        "# __________start of block__________\n",
        "!wget https://raw.githubusercontent.com/neychev/small_DL_repo/master/datasets/onegin.txt\n",
        "\n",
        "with open('onegin.txt', 'r') as iofile:\n",
        "    text = iofile.readlines()\n",
        "\n",
        "text = \"\".join([x.replace('\\t\\t', '').lower() for x in text])\n",
        "# __________end of block__________"
      ]
    },
    {
      "cell_type": "code",
      "source": [
        "len(text)"
      ],
      "metadata": {
        "colab": {
          "base_uri": "https://localhost:8080/"
        },
        "id": "DXii4dXv2TK9",
        "outputId": "77369e47-f49c-4442-caa0-6713fc0b1a9a"
      },
      "execution_count": 4,
      "outputs": [
        {
          "output_type": "execute_result",
          "data": {
            "text/plain": [
              "141888"
            ]
          },
          "metadata": {},
          "execution_count": 4
        }
      ]
    },
    {
      "cell_type": "markdown",
      "metadata": {
        "id": "XQYpmGfR_gJ8"
      },
      "source": [
        "#### 2. Построение словаря и предобработка текста\n",
        "В данном задании требуется построить языковую модель на уровне символов. Приведем весь текст к нижнему регистру и построим словарь из всех символов в доступном корпусе текстов. Также добавим токен `<sos>`."
      ]
    },
    {
      "cell_type": "code",
      "execution_count": 5,
      "metadata": {
        "colab": {
          "base_uri": "https://localhost:8080/"
        },
        "id": "0bQVrDAMCFon",
        "outputId": "15088fa9-40cb-4a01-9542-f7ffaa79eb52"
      },
      "outputs": [
        {
          "output_type": "stream",
          "name": "stdout",
          "text": [
            "Seems fine!\n"
          ]
        }
      ],
      "source": [
        "# do not change the code in the block below\n",
        "# __________start of block__________\n",
        "tokens = sorted(set(text.lower())) + ['<sos>']\n",
        "num_tokens = len(tokens)\n",
        "\n",
        "assert num_tokens == 84, \"Check the tokenization process\"\n",
        "\n",
        "token_to_idx = {x: idx for idx, x in enumerate(tokens)}\n",
        "idx_to_token = {idx: x for idx, x in enumerate(tokens)}\n",
        "\n",
        "assert len(tokens) == len(token_to_idx), \"Mapping should be unique\"\n",
        "\n",
        "print(\"Seems fine!\")\n",
        "\n",
        "\n",
        "text_encoded = [token_to_idx[x] for x in text]\n",
        "# __________end of block__________"
      ]
    },
    {
      "cell_type": "markdown",
      "metadata": {
        "id": "Mv9e35eUCFon"
      },
      "source": [
        "__Ваша задача__: обучить классическую рекуррентную нейронную сеть (Vanilla RNN) предсказывать следующий символ на полученном корпусе текстов и сгенерировать последовательность длины 100 для фиксированной начальной фразы.\n",
        "\n",
        "Вы можете воспользоваться кодом с занятие №6 или же обратиться к следующим ссылкам:\n",
        "* Замечательная статья за авторством Andrej Karpathy об использовании RNN: [link](http://karpathy.github.io/2015/05/21/rnn-effectiveness/)\n",
        "* Пример char-rnn от Andrej Karpathy: [github repo](https://github.com/karpathy/char-rnn)\n",
        "* Замечательный пример генерации поэзии Шекспира: [github repo](https://github.com/spro/practical-pytorch/blob/master/char-rnn-generation/char-rnn-generation.ipynb)\n",
        "\n",
        "Данное задание является достаточно творческим. Не страшно, если поначалу оно вызывает затруднения. Последняя ссылка в списке выше может быть особенно полезна в данном случае.\n",
        "\n",
        "Далее для вашего удобства реализована функция, которая генерирует случайный батч размера `batch_size` из строк длиной `seq_length`. Вы можете использовать его при обучении модели."
      ]
    },
    {
      "cell_type": "code",
      "execution_count": 6,
      "metadata": {
        "id": "7nU4WzpeCFoo"
      },
      "outputs": [],
      "source": [
        "# do not change the code in the block below\n",
        "# __________start of block__________\n",
        "batch_size = 256\n",
        "seq_length = 100\n",
        "start_column = np.zeros((batch_size, 1), dtype=int) + token_to_idx['<sos>']\n",
        "\n",
        "def generate_chunk():\n",
        "    global text_encoded, start_column, batch_size, seq_length\n",
        "\n",
        "    start_index = np.random.randint(0, len(text_encoded) - batch_size*seq_length - 1)\n",
        "    data = np.array(text_encoded[start_index:start_index + batch_size*seq_length]).reshape((batch_size, -1))\n",
        "    yield np.hstack((start_column, data))\n",
        "# __________end of block__________"
      ]
    },
    {
      "cell_type": "markdown",
      "metadata": {
        "id": "d5pxMlUgCFoo"
      },
      "source": [
        "Пример батча:"
      ]
    },
    {
      "cell_type": "code",
      "execution_count": 7,
      "metadata": {
        "id": "ULKs9JoZCFoo",
        "outputId": "0ea33095-244f-4ee1-b533-2cb7d85cccae",
        "colab": {
          "base_uri": "https://localhost:8080/"
        }
      },
      "outputs": [
        {
          "output_type": "execute_result",
          "data": {
            "text/plain": [
              "array([[83, 71, 50, ..., 50, 52, 49],\n",
              "       [83, 50,  1, ..., 45, 58, 76],\n",
              "       [83, 63,  1, ..., 45, 61, 63],\n",
              "       ...,\n",
              "       [83, 45, 58, ..., 61, 59, 47],\n",
              "       [83, 73, 75, ..., 53, 54,  5],\n",
              "       [83,  0, 53, ...,  5,  1, 55]])"
            ]
          },
          "metadata": {},
          "execution_count": 7
        }
      ],
      "source": [
        "chunk = next(generate_chunk())\n",
        "chunk"
      ]
    },
    {
      "cell_type": "code",
      "source": [
        "chunk.shape"
      ],
      "metadata": {
        "colab": {
          "base_uri": "https://localhost:8080/"
        },
        "id": "UujGDqy62y_l",
        "outputId": "d05e1bfe-4a88-4f3b-f675-53f889c9d492"
      },
      "execution_count": 8,
      "outputs": [
        {
          "output_type": "execute_result",
          "data": {
            "text/plain": [
              "(256, 101)"
            ]
          },
          "metadata": {},
          "execution_count": 8
        }
      ]
    },
    {
      "cell_type": "markdown",
      "metadata": {
        "id": "Tyf_1FiTCFop"
      },
      "source": [
        "Далее вам предстоит написать код для обучения модели и генерации текста."
      ]
    },
    {
      "cell_type": "code",
      "execution_count": 107,
      "metadata": {
        "id": "cY5wqy05CFop"
      },
      "outputs": [],
      "source": [
        "def train_model(model, optimizer, criterion, batch_size=256, num_epoch=5):\n",
        "    torch.cuda.empty_cache()\n",
        "    model.train()\n",
        "    losses = []\n",
        "    best_loss = float('inf')\n",
        "    best_model = None\n",
        "\n",
        "    for epoch in tqdm(range(num_epoch)):\n",
        "        hidden = model.init_hidden(batch_size)\n",
        "        epoch_losses = []\n",
        "        batch = next(generate_chunk())\n",
        "\n",
        "        inputs = torch.tensor(batch[:, :-1], dtype=torch.long).to(device)\n",
        "        targets = torch.tensor(batch[:, 1:], dtype=torch.long).to(device)\n",
        "\n",
        "        optimizer.zero_grad()\n",
        "\n",
        "        #logits = model(inputs).flatten(start_dim=0, end_dim=1)\n",
        "        #loss = criterion(logits, batch['target_ids'].flatten())\n",
        "        outputs, hidden = model(inputs, hidden)\n",
        "        loss = criterion(outputs.view(-1, num_tokens), targets.view(-1))\n",
        "\n",
        "\n",
        "        if loss < best_loss:\n",
        "            best_loss = loss\n",
        "            best_model = model.state_dict()\n",
        "\n",
        "        loss.backward()\n",
        "        optimizer.step()\n",
        "\n",
        "        losses.append(loss.item())\n",
        "      #  print(f'Epoch {epoch+1}; Loss: {loss.item():.4f}')\n",
        "\n",
        "    plt.figure(figsize=(12, 6))\n",
        "    plt.plot(losses, label='Loss')\n",
        "    plt.xlabel('Epochs')\n",
        "    plt.ylabel('Loss')\n",
        "    plt.legend()\n",
        "\n",
        "    model.load_state_dict(best_model)\n",
        "    print('Best Loss:', best_loss)\n",
        "    return model"
      ]
    },
    {
      "cell_type": "code",
      "source": [
        "class CharLM(nn.Module):\n",
        "    def __init__(self, hidden_dim: int, vocab_size: int):\n",
        "        super().__init__()\n",
        "        self.hidden_dim = hidden_dim\n",
        "        self.embedding = nn.Embedding(vocab_size, hidden_dim)\n",
        "        self.rnn = nn.LSTM(hidden_dim, hidden_dim)\n",
        "        self.linear = nn.Linear(hidden_dim, hidden_dim)\n",
        "        self.projection = nn.Linear(hidden_dim, vocab_size)\n",
        "\n",
        "        self.non_lin = nn.Tanh()\n",
        "        self.dropout = nn.Dropout(p=0.35)\n",
        "\n",
        "    def forward(self, x, hidden) -> torch.Tensor:\n",
        "        embeddings = self.embedding(x)  # [batch_size, seq_len, hidden_dim]\n",
        "        output, hidden = self.rnn(embeddings)  # [batch_size, seq_len, hidden_dim]\n",
        "        output = self.dropout(self.linear(self.non_lin(output)))  # [batch_size, seq_len, hidden_dim]\n",
        "        projection = self.projection(output)  # [batch_size, seq_len, vocab_size]\n",
        "\n",
        "        return projection, hidden\n",
        "\n",
        "    def init_hidden(self, batch_size):\n",
        "        return torch.zeros(1, batch_size, self.hidden_dim)\n",
        "\n",
        "# LSTM 1 LAYER\n",
        "model = CharLM(hidden_dim=256, vocab_size=num_tokens).to(device)\n",
        "criterion = nn.CrossEntropyLoss()\n",
        "optimizer = torch.optim.Adam(model.parameters(), lr=0.003)\n",
        "model = train_model(model, optimizer, criterion, batch_size=256, num_epoch=5000)"
      ],
      "metadata": {
        "colab": {
          "base_uri": "https://localhost:8080/",
          "height": 578
        },
        "id": "nusEovSFz-ht",
        "outputId": "15d9e684-dbde-4423-dd0e-5cc098887e22"
      },
      "execution_count": 108,
      "outputs": [
        {
          "output_type": "stream",
          "name": "stderr",
          "text": [
            "100%|██████████| 5000/5000 [03:23<00:00, 24.54it/s]\n"
          ]
        },
        {
          "output_type": "stream",
          "name": "stdout",
          "text": [
            "Best Loss: tensor(0.2821, device='cuda:0', grad_fn=<NllLossBackward0>)\n"
          ]
        },
        {
          "output_type": "display_data",
          "data": {
            "text/plain": [
              "<Figure size 1200x600 with 1 Axes>"
            ],
            "image/png": "[encoded data removed]"
          },
          "metadata": {}
        }
      ]
    },
    {
      "cell_type": "markdown",
      "metadata": {
        "id": "cprUuN9UCFop"
      },
      "source": [
        "В качестве иллюстрации ниже доступен график значений функции потерь, построенный в ходе обучения авторской сети (сам код для ее обучения вам и предстоит написать)."
      ]
    },
    {
      "cell_type": "code",
      "execution_count": null,
      "metadata": {
        "id": "AOtzI3_lCFop",
        "outputId": "d5ca4b85-07ca-4ca3-ffa4-3f5122ce1173"
      },
      "outputs": [
        {
          "data": {
            "image/png": "[encoded data removed]",
            "text/plain": [
              "<Figure size 432x288 with 1 Axes>"
            ]
          },
          "metadata": {
            "needs_background": "light"
          },
          "output_type": "display_data"
        }
      ],
      "source": []
    },
    {
      "cell_type": "markdown",
      "metadata": {
        "id": "i-u8jdIaCFop"
      },
      "source": [
        "Шаблон функции `generate_sample` также доступен ниже. Вы можете как дозаполнить его, так и написать свою собственную функцию с нуля. Не забывайте, что все примеры в обучающей выборке начинались с токена `<sos>`."
      ]
    },
    {
      "cell_type": "code",
      "execution_count": 109,
      "metadata": {
        "id": "lmBEg-ThCFop"
      },
      "outputs": [],
      "source": [
        "def generate_sample(char_rnn, seed_phrase=None, max_length=200, temperature=1.0, device=device):\n",
        "    '''\n",
        "    The function generates text given a phrase of length at least SEQ_LENGTH.\n",
        "    :param seed_phrase: prefix characters. The RNN is asked to continue the phrase\n",
        "    :param max_length: maximum output length, including seed_phrase\n",
        "    :param temperature: coefficient for sampling.  higher temperature produces more chaotic outputs,\n",
        "                        smaller temperature converges to the single most likely output\n",
        "    '''\n",
        "\n",
        "    if seed_phrase is not None:\n",
        "        x_sequence = [token_to_idx['<sos>']] + [token_to_idx[token] for token in seed_phrase]\n",
        "    else:\n",
        "        x_sequence = [token_to_idx['<sos>']]\n",
        "\n",
        "    x_sequence = torch.tensor([x_sequence], dtype=torch.int64).to(device)\n",
        "\n",
        "    #feed the seed phrase, if any\n",
        "    # your code here\n",
        "\n",
        "    hidden = char_rnn.init_hidden(1).to(device)\n",
        "    # Прогоняем начальную последовательность через сеть\n",
        "    for i in range(len(x_sequence[0]) - 1):\n",
        "        _, hidden = char_rnn(x_sequence[:, i].unsqueeze(1), hidden)\n",
        "\n",
        "    # Генерация символов\n",
        "    for i in range(max_length - len(x_sequence[0]) + 1):\n",
        "        output, hidden = char_rnn(x_sequence[:, -1].unsqueeze(1), hidden)\n",
        "\n",
        "        # Применяем температуру\n",
        "        output = output / temperature\n",
        "        probabilities = torch.softmax(output[0, -1], dim=0).detach().cpu().numpy()\n",
        "\n",
        "        # Выбираем следующий символ\n",
        "        next_idx = np.random.choice(range(num_tokens), p=probabilities)\n",
        "       # next_char = idx_to_token[next_idx]\n",
        "\n",
        "        # Добавляем выбранный символ к результату и обновляем вход\n",
        "        #generated_text += next_char\n",
        "        x_sequence = torch.cat((x_sequence, torch.tensor([[next_idx]], dtype=torch.int64).to(device)), dim=1)\n",
        "\n",
        "\n",
        "    return  ''.join([tokens[ix] for ix in x_sequence.cpu().data.numpy()[0]])"
      ]
    },
    {
      "cell_type": "markdown",
      "metadata": {
        "id": "xJnjMrj6CFoq"
      },
      "source": [
        "Пример текста сгенерированного обученной моделью доступен ниже. Не страшно, что в тексте много несуществующих слов. Используемая модель очень проста: это простая классическая RNN."
      ]
    },
    {
      "cell_type": "code",
      "source": [
        "sample = generate_sample(model, ' мой дядя самых честных правил', max_length=500, temperature=0.49)\n",
        "print(len(sample))\n",
        "print(sample)"
      ],
      "metadata": {
        "colab": {
          "base_uri": "https://localhost:8080/"
        },
        "id": "Kb48yWOs_Bic",
        "outputId": "5d22835c-3a1b-4ccf-b731-27377af8a2a1"
      },
      "execution_count": 110,
      "outputs": [
        {
          "output_type": "stream",
          "name": "stdout",
          "text": [
            "505\n",
            "<sos> мой дядя самых честных правила сть,\n",
            "и в ди де содо,\n",
            "огдре ди о всте вза при в де ста бымев ми же,\n",
            "ихой,\n",
            "все пода в пи ой ме дрет ди медь ди поколоност нот ост сто,\n",
            "онат де пой гдоди подет встодла, в ской\n",
            "xxxxxxxxxxxxxxxxxxxxxi\n",
            "\n",
            "в се демедоль т одре пой пол пи конона,\n",
            "имевской в ой ко пойкадий,\n",
            "всодонь,\n",
            "\n",
            "в на,\n",
            "их пола вской,\n",
            "и поко поновсодов деладелат пой пойкой ой,\n",
            "чедемой, вски в пре ой пида,\n",
            "\n",
            "ластв ни в коче,\n",
            "\n",
            "\n",
            "т по кой поль, пой ди м на одим сь,\n",
            "и в за стья, вза пи кой нь, пей,\n",
            "ой сть,\n",
            "ой,\n",
            "\n"
          ]
        }
      ]
    },
    {
      "cell_type": "code",
      "execution_count": 120,
      "metadata": {
        "id": "4yzo9MJWCFoq",
        "outputId": "241cc63a-3638-496b-a86e-5353a1fea1a0",
        "colab": {
          "base_uri": "https://localhost:8080/"
        }
      },
      "outputs": [
        {
          "output_type": "stream",
          "name": "stdout",
          "text": [
            "<sos> мой дядя самых честных правила сой мель, ди пой,\n",
            "вся, м, ся сой м сь коне ска поной посой, пой пой, ной,\n",
            "в пи пот пи поныкоди в сть, по пой поне в вей подре медеми м в пой пост пой нья по ся, поне оде в пой пой дель, взе ся.\n",
            "ой мет нододи стья,\n",
            "в поный пода пола ноне ми поль, пой в пой,\n",
            "\n",
            "ой пой сой,\n",
            "\n",
            "ой, сть,\n",
            "вой кой подой понь,\n",
            "и пой, вета ой м,\n",
            "в м поноть, ков дела ст ской кой м пой ме пой ме пой сядела мев ска ме пой сть,\n",
            "\n",
            "вст поной пи ме мой пой подела стей пи мела соной,\n",
            "и дим пов пой ве д\n"
          ]
        }
      ],
      "source": [
        "print(generate_sample(model, ' мой дядя самых честных правил', max_length=500, temperature=0.25))"
      ]
    },
    {
      "cell_type": "code",
      "source": [
        "print(generate_sample(model, ' мой дядя самых честных правил', max_length=500, temperature=0.17))"
      ],
      "metadata": {
        "colab": {
          "base_uri": "https://localhost:8080/"
        },
        "id": "cppc3JU3Wgqr",
        "outputId": "19146333-0c04-4307-a7f1-bd343d0c4ed8"
      },
      "execution_count": 113,
      "outputs": [
        {
          "output_type": "stream",
          "name": "stdout",
          "text": [
            "<sos> мой дядя самых честных правила ст поной,\n",
            "\n",
            "\n",
            "\n",
            "в м в сть,\n",
            "\n",
            "вей на ской по пой, мой,\n",
            "ола ст м пола поди сой в дей м дрой пой м сте пи поль,\n",
            "от пой поде пой в пой пой по м пой пой пой м,\n",
            "пой,\n",
            "ой пой,\n",
            "в м всь,\n",
            "ола пола оной м м м в м ме пой пой, пой ст пой в в поди поди пой\n",
            "в пой пот ме ве мой скоди ме в поде онодей, ме поде кой в подой\n",
            "\n",
            "в пола ой пододи подела в пой ст ста,\n",
            "пой ми кой,\n",
            "в м м ста дей в ме по меди пой,\n",
            "ой ми пой от пой соте в пой ме всконой доди пола подой,\n",
            "ола пой м в ст ла в сть,\n",
            "в \n"
          ]
        }
      ]
    },
    {
      "cell_type": "markdown",
      "metadata": {
        "id": "6wq5YWBCCFoq"
      },
      "source": [
        "### Сдача задания\n",
        "Сгенерируйте десять последовательностей длиной 500, используя строку ' мой дядя самых честных правил'. Температуру для генерации выберите самостоятельно на основании визуального качества генериуремого текста. Не забудьте удалить все технические токены в случае их наличия.\n",
        "\n",
        "Сгенерированную последовательность сохрание в переменную `generated_phrase` и сдайте сгенерированный ниже файл в контест."
      ]
    },
    {
      "cell_type": "code",
      "execution_count": 121,
      "metadata": {
        "id": "LKUx8tSaCFoq"
      },
      "outputs": [],
      "source": [
        "seed_phrase = ' мой дядя самых честных правил'"
      ]
    },
    {
      "cell_type": "code",
      "execution_count": 122,
      "metadata": {
        "id": "RKnLq2eYCFoq",
        "colab": {
          "base_uri": "https://localhost:8080/"
        },
        "outputId": "67cec5e9-3791-4a08-ad76-26d727dadf3e"
      },
      "outputs": [
        {
          "output_type": "stream",
          "name": "stdout",
          "text": [
            "500\n",
            "500\n",
            "500\n",
            "500\n",
            "500\n",
            "500\n",
            "500\n",
            "500\n",
            "500\n",
            "500\n"
          ]
        }
      ],
      "source": [
        "#generated_phrases = # your code here\n",
        "\n",
        "# For example:\n",
        "\n",
        "generated_phrases = [\n",
        "    generate_sample(\n",
        "        model,\n",
        "        ' мой дядя самых честных правил',\n",
        "        max_length=500,\n",
        "        temperature=0.49\n",
        "    ).replace('<sos>', '')\n",
        "    for _ in range(10)\n",
        "]\n",
        "for phrase in generated_phrases:\n",
        "  print(len(phrase))"
      ]
    },
    {
      "cell_type": "code",
      "execution_count": 123,
      "metadata": {
        "id": "omCHn5hDCFoq",
        "colab": {
          "base_uri": "https://localhost:8080/"
        },
        "outputId": "4983cf2d-ee25-4056-95fe-f0fb02b498f5"
      },
      "outputs": [
        {
          "output_type": "stream",
          "name": "stdout",
          "text": [
            "File saved to `submission_dict.json`\n"
          ]
        }
      ],
      "source": [
        "# do not change the code in the block below\n",
        "# __________start of block__________\n",
        "\n",
        "import json\n",
        "if 'generated_phrases' not in locals():\n",
        "    raise ValueError(\"Please, save generated phrases to `generated_phrases` variable\")\n",
        "\n",
        "for phrase in generated_phrases:\n",
        "\n",
        "    if not isinstance(phrase, str):\n",
        "        raise ValueError(\"The generated phrase should be a string\")\n",
        "\n",
        "    if len(phrase) != 500:\n",
        "        raise ValueError(\"The `generated_phrase` length should be equal to 500\")\n",
        "\n",
        "    assert all([x in set(tokens) for x in set(list(phrase))]), 'Unknown tokens detected, check your submission!'\n",
        "\n",
        "\n",
        "submission_dict = {\n",
        "    'token_to_idx': token_to_idx,\n",
        "    'generated_phrases': generated_phrases\n",
        "}\n",
        "\n",
        "with open('submission_dict.json', 'w') as iofile:\n",
        "    json.dump(submission_dict, iofile)\n",
        "print('File saved to `submission_dict.json`')\n",
        "# __________end of block__________"
      ]
    },
    {
      "cell_type": "markdown",
      "metadata": {
        "id": "dE6PlAlTCFor"
      },
      "source": [
        "На этом задание завершено. Поздравляем!"
      ]
    }
  ],
  "metadata": {
    "accelerator": "GPU",
    "anaconda-cloud": {},
    "colab": {
      "provenance": []
    },
    "kernelspec": {
      "display_name": "Py3 Research",
      "language": "python",
      "name": "py3_research"
    },
    "language_info": {
      "codemirror_mode": {
        "name": "ipython",
        "version": 3
      },
      "file_extension": ".py",
      "mimetype": "text/x-python",
      "name": "python",
      "nbconvert_exporter": "python",
      "pygments_lexer": "ipython3",
      "version": "3.7.10"
    }
  },
  "nbformat": 4,
  "nbformat_minor": 0
}