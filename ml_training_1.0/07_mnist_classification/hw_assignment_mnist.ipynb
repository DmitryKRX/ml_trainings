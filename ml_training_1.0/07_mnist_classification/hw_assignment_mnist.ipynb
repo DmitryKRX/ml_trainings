{
  "cells": [
    {
      "cell_type": "markdown",
      "metadata": {
        "id": "Lj4v0HPmJ2MS"
      },
      "source": [
        "## Домашнее задание №7\n",
        "\n",
        "##### Автор: [Радослав Нейчев](https://www.linkedin.com/in/radoslav-neychev/), @neychev"
      ]
    },
    {
      "cell_type": "code",
      "execution_count": 1,
      "metadata": {
        "id": "1BaFcb0IJ2MU"
      },
      "outputs": [],
      "source": [
        "import numpy as np\n",
        "\n",
        "import torch\n",
        "from torch import nn\n",
        "from torch.nn import functional as F\n",
        "\n",
        "import torchvision\n",
        "from torchvision.datasets import MNIST\n",
        "\n",
        "from matplotlib import pyplot as plt\n",
        "from IPython.display import clear_output\n",
        "\n",
        "from tqdm import tqdm"
      ]
    },
    {
      "cell_type": "markdown",
      "metadata": {
        "id": "MJoi4rOnJ2MV"
      },
      "source": [
        "### Задача №1:\n",
        "Обратимся к классической задаче распознавания рукописных цифр. Мы будем работать с набором данных [MNIST](http://yann.lecun.com/exdb/mnist/). В данном задании воспользуемся всем датасетом целиком.\n",
        "\n",
        "__Ваша основная задача: реализовать весь пайплан обучения модели и добиться качества $\\geq 92\\%$ на тестовой выборке.__\n",
        "\n",
        "Код для обучения модели в данном задании отсутствует. Присутствует лишь несколько тестов, которые помогут вам отладить свое решение. За примером можно обратиться к ноутбуку первого занятия.\n",
        "\n",
        "Настоятельно рекомендуем написать код \"с нуля\", лишь поглядывая на готовые примеры, а не просто \"скопировать-вставить\". Это поможет вам в дальнейшем."
      ]
    },
    {
      "cell_type": "code",
      "execution_count": 2,
      "metadata": {
        "colab": {
          "base_uri": "https://localhost:8080/",
          "height": 469
        },
        "id": "4OM2PbPEJ2MV",
        "outputId": "5097ace1-3e94-4f27-d9b3-8ba3e5275c9c"
      },
      "outputs": [
        {
          "output_type": "execute_result",
          "data": {
            "text/plain": [
              "Text(0.5, 1.0, 'Image label: 4')"
            ]
          },
          "metadata": {},
          "execution_count": 2
        },
        {
          "output_type": "display_data",
          "data": {
            "text/plain": [
              "<Figure size 640x480 with 1 Axes>"
            ],
            "image/png": "[encoded data removed]"
          },
          "metadata": {}
        }
      ],
      "source": [
        "# do not change the code in the block below\n",
        "# __________start of block__________\n",
        "\n",
        "train_mnist_data = MNIST('.', train=True, transform=torchvision.transforms.ToTensor(), download=True)\n",
        "test_mnist_data = MNIST('.', train=False, transform=torchvision.transforms.ToTensor(), download=True)\n",
        "\n",
        "\n",
        "train_data_loader = torch.utils.data.DataLoader(\n",
        "    train_mnist_data,\n",
        "    batch_size=32,\n",
        "    shuffle=True,\n",
        "    num_workers=2\n",
        ")\n",
        "\n",
        "test_data_loader = torch.utils.data.DataLoader(\n",
        "    test_mnist_data,\n",
        "    batch_size=32,\n",
        "    shuffle=False,\n",
        "    num_workers=2\n",
        ")\n",
        "\n",
        "random_batch = next(iter(train_data_loader))\n",
        "_image, _label = random_batch[0][0], random_batch[1][0]\n",
        "plt.figure()\n",
        "plt.imshow(_image.reshape(28, 28))\n",
        "plt.title(f'Image label: {_label}')\n",
        "# __________end of block__________"
      ]
    },
    {
      "cell_type": "markdown",
      "metadata": {
        "id": "RDRx4x3GJ2MW"
      },
      "source": [
        "Постройте модель ниже. Пожалуйста, не стройте переусложненную сеть, не стоит делать ее глубже четырех слоев (можно и меньше). Ваша основная задача – обучить модель и получить качество на отложенной (тестовой выборке) не менее 92% accuracy.\n",
        "\n",
        "*Комментарий: для этого достаточно линейных слоев и функций активации.*\n",
        "\n",
        "__Внимание, ваша модель должна быть представлена именно переменной `model`.__"
      ]
    },
    {
      "cell_type": "code",
      "execution_count": 17,
      "metadata": {
        "colab": {
          "base_uri": "https://localhost:8080/"
        },
        "id": "ipmP1gZ9J2MW",
        "outputId": "0dc9ec70-72a8-469d-a013-daa381a7241c"
      },
      "outputs": [
        {
          "output_type": "execute_result",
          "data": {
            "text/plain": [
              "BasicModel(\n",
              "  (fc1): Linear(in_features=784, out_features=512, bias=True)\n",
              "  (fc2): Linear(in_features=512, out_features=512, bias=True)\n",
              "  (fc3): Linear(in_features=512, out_features=384, bias=True)\n",
              "  (fc4): Linear(in_features=384, out_features=10, bias=True)\n",
              "  (act): LeakyReLU(negative_slope=0.01)\n",
              "  (dropout): Dropout(p=0.1, inplace=False)\n",
              ")"
            ]
          },
          "metadata": {},
          "execution_count": 17
        }
      ],
      "source": [
        "# Creating model instance\n",
        "class BasicModel(nn.Module):\n",
        "    def __init__(self, input_dim=784, hidden_dim=512):\n",
        "        super().__init__()\n",
        "\n",
        "        self.fc1 = nn.Linear(input_dim, hidden_dim)\n",
        "        self.fc2 = nn.Linear(hidden_dim, hidden_dim)\n",
        "        self.fc3 = nn.Linear(hidden_dim, hidden_dim - hidden_dim // 4)\n",
        "        self.fc4 = nn.Linear(hidden_dim - hidden_dim // 4, 10)\n",
        "\n",
        "        self.act = nn.LeakyReLU()\n",
        "       # self.sigmoid = nn.Sigmoid()\n",
        "        self.dropout = nn.Dropout(p=0.1)\n",
        "\n",
        "    def forward(self, x):\n",
        "        x = x.reshape(-1, 784)\n",
        "\n",
        "        x = self.dropout(self.act(self.fc1(x)))\n",
        "        x = self.dropout(self.act(self.fc2(x)))\n",
        "        x = self.dropout(self.act(self.fc3(x)))\n",
        "        x = self.fc4(x)\n",
        "        return x\n",
        "\n",
        "device = 'cuda' if torch.cuda.is_available() else 'cpu'\n",
        "model = BasicModel(input_dim=784, hidden_dim=512) # your code here\n",
        "model"
      ]
    },
    {
      "cell_type": "markdown",
      "metadata": {
        "id": "6A-rHIxTJ2MW"
      },
      "source": [
        "Локальные тесты для проверки вашей модели доступны ниже:"
      ]
    },
    {
      "cell_type": "code",
      "execution_count": 18,
      "metadata": {
        "colab": {
          "base_uri": "https://localhost:8080/"
        },
        "id": "jwQORP4hJ2MW",
        "outputId": "49a98e75-434b-4264-dc9d-ae6f5428a69f"
      },
      "outputs": [
        {
          "output_type": "stream",
          "name": "stdout",
          "text": [
            "Everything seems fine!\n"
          ]
        }
      ],
      "source": [
        "# do not change the code in the block below\n",
        "# __________start of block__________\n",
        "assert model is not None, 'Please, use `model` variable to store your model'\n",
        "\n",
        "try:\n",
        "    x = random_batch[0].reshape(-1, 784)\n",
        "    y = random_batch[1]\n",
        "\n",
        "    # compute outputs given inputs, both are variables\n",
        "    y_predicted = model(x)\n",
        "except Exception as e:\n",
        "    print('Something is wrong with the model')\n",
        "    raise e\n",
        "\n",
        "\n",
        "assert y_predicted.shape[-1] == 10, 'Model should predict 10 logits/probas'\n",
        "\n",
        "print('Everything seems fine!')\n",
        "# __________end of block__________"
      ]
    },
    {
      "cell_type": "markdown",
      "metadata": {
        "id": "82RfJnQGJ2MW"
      },
      "source": [
        "Настройте параметры модели на обучающей выборке. Рекомендуем поработать с различными оптимизаторами."
      ]
    },
    {
      "cell_type": "code",
      "execution_count": 20,
      "metadata": {
        "id": "rmeWRN-RJ2MX",
        "colab": {
          "base_uri": "https://localhost:8080/"
        },
        "outputId": "7492073d-ca37-491e-987c-a07078c867fe"
      },
      "outputs": [
        {
          "output_type": "stream",
          "name": "stderr",
          "text": [
            "Training epoch 1: 100%|██████████| 1875/1875 [00:14<00:00, 126.90it/s]\n"
          ]
        },
        {
          "output_type": "stream",
          "name": "stdout",
          "text": [
            "Epoch 1/3: Accuracy: 0.9527, Loss: 0.1578\n"
          ]
        },
        {
          "output_type": "stream",
          "name": "stderr",
          "text": [
            "Training epoch 2: 100%|██████████| 1875/1875 [00:14<00:00, 128.38it/s]\n"
          ]
        },
        {
          "output_type": "stream",
          "name": "stdout",
          "text": [
            "Epoch 2/3: Accuracy: 0.9704, Loss: 0.0983\n"
          ]
        },
        {
          "output_type": "stream",
          "name": "stderr",
          "text": [
            "Training epoch 3: 100%|██████████| 1875/1875 [00:15<00:00, 122.40it/s]"
          ]
        },
        {
          "output_type": "stream",
          "name": "stdout",
          "text": [
            "Epoch 3/3: Accuracy: 0.9772, Loss: 0.0767\n"
          ]
        },
        {
          "output_type": "stream",
          "name": "stderr",
          "text": [
            "\n"
          ]
        }
      ],
      "source": [
        "# your code here\n",
        "def train(model, train_data_loader, num_epochs=3):\n",
        "    losses = []\n",
        "    accuracies = []\n",
        "\n",
        "    device = 'cuda' if torch.cuda.is_available() else 'cpu'\n",
        "    optimizer = torch.optim.Adam(model.parameters())\n",
        "    criterion = nn.CrossEntropyLoss()\n",
        "    model.to(device)\n",
        "    model.train()\n",
        "\n",
        "    for epoch in range(num_epochs):\n",
        "        epoch_losses = []\n",
        "        epoch_accuracy = []\n",
        "        for batch in tqdm(train_data_loader, desc=f'Training epoch {epoch+1}'):\n",
        "            batch[0], batch[1] = batch[0].to(device), batch[1].to(device)\n",
        "\n",
        "            optimizer.zero_grad()\n",
        "            outputs = model(batch[0])\n",
        "            loss = criterion(outputs, batch[1])\n",
        "            loss.backward()\n",
        "            optimizer.step()\n",
        "\n",
        "            predictions = outputs.argmax(-1)\n",
        "            correct_predictions = (predictions == batch[1]).sum().item()\n",
        "            accuracy = correct_predictions / batch[1].size(0)\n",
        "\n",
        "            epoch_accuracy.append(accuracy)\n",
        "            epoch_losses.append(loss.item())\n",
        "        avg_loss = sum(epoch_losses) / len(epoch_losses)\n",
        "        avg_acc = sum(epoch_accuracy) / len(epoch_accuracy)\n",
        "        accuracies.append(avg_acc)\n",
        "        losses.append(avg_loss)\n",
        "\n",
        "        print(f'Epoch {epoch+1}/{num_epochs}: Accuracy: {avg_acc:.4f}, Loss: {avg_loss:.4f}')\n",
        "\n",
        "    return model\n",
        "\n",
        "num_epochs = 3\n",
        "model = train(model, train_data_loader, num_epochs=num_epochs)"
      ]
    },
    {
      "cell_type": "code",
      "source": [
        "model.to('cpu')"
      ],
      "metadata": {
        "id": "WI7mdnvnhAzO",
        "colab": {
          "base_uri": "https://localhost:8080/"
        },
        "outputId": "005797e9-dafc-4cef-cee0-6dd5714aba84"
      },
      "execution_count": 21,
      "outputs": [
        {
          "output_type": "execute_result",
          "data": {
            "text/plain": [
              "BasicModel(\n",
              "  (fc1): Linear(in_features=784, out_features=512, bias=True)\n",
              "  (fc2): Linear(in_features=512, out_features=512, bias=True)\n",
              "  (fc3): Linear(in_features=512, out_features=384, bias=True)\n",
              "  (fc4): Linear(in_features=384, out_features=10, bias=True)\n",
              "  (act): LeakyReLU(negative_slope=0.01)\n",
              "  (dropout): Dropout(p=0.1, inplace=False)\n",
              ")"
            ]
          },
          "metadata": {},
          "execution_count": 21
        }
      ]
    },
    {
      "cell_type": "markdown",
      "metadata": {
        "id": "7Y34FoSnJ2MX"
      },
      "source": [
        "Также, напоминаем, что в любой момент можно обратиться к замечательной [документации](https://pytorch.org/docs/stable/index.html) и [обучающим примерам](https://pytorch.org/tutorials/).  "
      ]
    },
    {
      "cell_type": "markdown",
      "metadata": {
        "id": "AOP-wEEfJ2MX"
      },
      "source": [
        "Оценим качество классификации:"
      ]
    },
    {
      "cell_type": "code",
      "execution_count": 22,
      "metadata": {
        "colab": {
          "base_uri": "https://localhost:8080/"
        },
        "id": "eiYlDsqoJ2MX",
        "outputId": "1ab4e551-5981-48b9-9047-4cfe66585386"
      },
      "outputs": [
        {
          "output_type": "stream",
          "name": "stderr",
          "text": [
            "100%|██████████| 1875/1875 [00:13<00:00, 136.29it/s]\n"
          ]
        }
      ],
      "source": [
        "predicted_labels = []\n",
        "real_labels = []\n",
        "model.eval()\n",
        "with torch.no_grad():\n",
        "    for batch in tqdm(train_data_loader):\n",
        "        y_predicted = model(batch[0].reshape(-1, 784))\n",
        "        predicted_labels.append(y_predicted.argmax(dim=1))\n",
        "        real_labels.append(batch[1])\n",
        "\n",
        "predicted_labels = torch.cat(predicted_labels)\n",
        "real_labels = torch.cat(real_labels)\n",
        "train_acc = (predicted_labels == real_labels).type(torch.FloatTensor).mean()"
      ]
    },
    {
      "cell_type": "code",
      "execution_count": 23,
      "metadata": {
        "colab": {
          "base_uri": "https://localhost:8080/"
        },
        "id": "7Gj5-S34J2MX",
        "outputId": "edbd49ff-7e1f-410c-b21b-76ff83eef2b2"
      },
      "outputs": [
        {
          "output_type": "stream",
          "name": "stdout",
          "text": [
            "Neural network accuracy on train set: 0.98547\n"
          ]
        }
      ],
      "source": [
        "print(f'Neural network accuracy on train set: {train_acc:3.5}')"
      ]
    },
    {
      "cell_type": "code",
      "execution_count": 24,
      "metadata": {
        "colab": {
          "base_uri": "https://localhost:8080/"
        },
        "id": "SbCez6qDJ2MX",
        "outputId": "d8ea48f0-5067-47bb-d9b5-4a723073d534"
      },
      "outputs": [
        {
          "output_type": "stream",
          "name": "stderr",
          "text": [
            "100%|██████████| 313/313 [00:02<00:00, 111.30it/s]\n"
          ]
        }
      ],
      "source": [
        "predicted_labels = []\n",
        "real_labels = []\n",
        "model.eval()\n",
        "with torch.no_grad():\n",
        "    for batch in tqdm(test_data_loader):\n",
        "        y_predicted = model(batch[0].reshape(-1, 784))\n",
        "        predicted_labels.append(y_predicted.argmax(dim=1))\n",
        "        real_labels.append(batch[1])\n",
        "\n",
        "predicted_labels = torch.cat(predicted_labels)\n",
        "real_labels = torch.cat(real_labels)\n",
        "test_acc = (predicted_labels == real_labels).type(torch.FloatTensor).mean()"
      ]
    },
    {
      "cell_type": "code",
      "execution_count": 25,
      "metadata": {
        "colab": {
          "base_uri": "https://localhost:8080/"
        },
        "id": "grm2gcCGJ2MY",
        "outputId": "83fd7664-4749-41c3-e98a-026dc9596281"
      },
      "outputs": [
        {
          "output_type": "stream",
          "name": "stdout",
          "text": [
            "Neural network accuracy on test set: 0.978\n"
          ]
        }
      ],
      "source": [
        "print(f'Neural network accuracy on test set: {test_acc:3.5}')"
      ]
    },
    {
      "cell_type": "markdown",
      "metadata": {
        "id": "HfYLFH_DJ2MY"
      },
      "source": [
        "Проверка, что необходимые пороги пройдены:"
      ]
    },
    {
      "cell_type": "code",
      "execution_count": 26,
      "metadata": {
        "id": "R9LPOCscJ2MY"
      },
      "outputs": [],
      "source": [
        "assert test_acc >= 0.92, 'Test accuracy is below 0.92 threshold'\n",
        "assert train_acc >= 0.91, 'Train accuracy is below 0.91 while test accuracy is fine. We recommend to check your model and data flow'"
      ]
    },
    {
      "cell_type": "markdown",
      "metadata": {
        "id": "lmDxP9PmJ2MY"
      },
      "source": [
        "### Сдача задания\n",
        "Загрузите файл `hw07_data_dict.npy` (ссылка есть на странице с заданием) и запустите код ниже для генерации посылки. Код ниже может его загрузить (но в случае возникновения ошибки скачайте и загрузите его вручную)."
      ]
    },
    {
      "cell_type": "code",
      "execution_count": 28,
      "metadata": {
        "colab": {
          "base_uri": "https://localhost:8080/"
        },
        "id": "41VUBWOIJ2MY",
        "outputId": "0adf41cf-d5e9-4292-a04e-97c9ce21355f"
      },
      "outputs": [
        {
          "output_type": "stream",
          "name": "stdout",
          "text": [
            "--2025-01-07 20:55:51--  https://raw.githubusercontent.com/girafe-ai/ml-course/23s_dd_ml/homeworks/hw07_mnist_classification/hw07_data_dict.npy\n",
            "Resolving raw.githubusercontent.com (raw.githubusercontent.com)... 185.199.108.133, 185.199.109.133, 185.199.110.133, ...\n",
            "Connecting to raw.githubusercontent.com (raw.githubusercontent.com)|185.199.108.133|:443... connected.\n",
            "HTTP request sent, awaiting response... 200 OK\n",
            "Length: 6272438 (6.0M) [application/octet-stream]\n",
            "Saving to: ‘hw07_data_dict.npy.2’\n",
            "\n",
            "hw07_data_dict.npy. 100%[===================>]   5.98M  --.-KB/s    in 0.1s    \n",
            "\n",
            "2025-01-07 20:55:51 (40.5 MB/s) - ‘hw07_data_dict.npy.2’ saved [6272438/6272438]\n",
            "\n"
          ]
        }
      ],
      "source": [
        "!wget https://raw.githubusercontent.com/girafe-ai/ml-course/23s_dd_ml/homeworks/hw07_mnist_classification/hw07_data_dict.npy"
      ]
    },
    {
      "cell_type": "code",
      "execution_count": 29,
      "metadata": {
        "colab": {
          "base_uri": "https://localhost:8080/"
        },
        "id": "BMgWbdlBJ2MY",
        "outputId": "8ddc4b06-88f1-496a-cf66-f96976ad4479"
      },
      "outputs": [
        {
          "output_type": "stream",
          "name": "stdout",
          "text": [
            "File saved to `submission_dict_hw07.npy`\n"
          ]
        }
      ],
      "source": [
        "# do not change the code in the block below\n",
        "# __________start of block__________\n",
        "import os\n",
        "\n",
        "assert os.path.exists('hw07_data_dict.npy'), 'Please, download `hw07_data_dict.npy` and place it in the working directory'\n",
        "\n",
        "def get_predictions(model, eval_data, step=10):\n",
        "\n",
        "    predicted_labels = []\n",
        "    model.eval()\n",
        "    with torch.no_grad():\n",
        "        for idx in range(0, len(eval_data), step):\n",
        "            y_predicted = model(eval_data[idx:idx+step].reshape(-1, 784))\n",
        "            predicted_labels.append(y_predicted.argmax(dim=1))\n",
        "\n",
        "    predicted_labels = torch.cat(predicted_labels)\n",
        "    return predicted_labels\n",
        "\n",
        "loaded_data_dict = np.load('hw07_data_dict.npy', allow_pickle=True)\n",
        "\n",
        "submission_dict = {\n",
        "    'train': get_predictions(model, torch.FloatTensor(loaded_data_dict.item()['train'])).numpy(),\n",
        "    'test': get_predictions(model, torch.FloatTensor(loaded_data_dict.item()['test'])).numpy()\n",
        "}\n",
        "\n",
        "np.save('submission_dict_hw07.npy', submission_dict, allow_pickle=True)\n",
        "print('File saved to `submission_dict_hw07.npy`')\n",
        "# __________end of block__________"
      ]
    },
    {
      "cell_type": "code",
      "source": [
        "submission_dict"
      ],
      "metadata": {
        "colab": {
          "base_uri": "https://localhost:8080/"
        },
        "id": "Ph-r__VEiX7i",
        "outputId": "7eb4984b-b0ad-4b8d-a2bf-5eb96abbd759"
      },
      "execution_count": 30,
      "outputs": [
        {
          "output_type": "execute_result",
          "data": {
            "text/plain": [
              "{'train': array([0, 9, 0, 2, 8, 5, 7, 9, 4, 4, 0, 5, 7, 7, 0, 2, 4, 5, 5, 8, 7, 1,\n",
              "        2, 5, 5, 7, 7, 7, 2, 2, 7, 2, 0, 1, 8, 6, 5, 2, 9, 6, 9, 8, 0, 4,\n",
              "        4, 1, 9, 4, 4, 0, 3, 7, 7, 6, 3, 1, 3, 1, 0, 0, 3, 8, 0, 3, 1, 7,\n",
              "        2, 5, 3, 5, 4, 2, 3, 4, 0, 1, 2, 1, 3, 2, 0, 8, 1, 7, 0, 2, 4, 5,\n",
              "        0, 3, 1, 8, 9, 8, 8, 5, 9, 2, 9, 6, 3, 1, 9, 4, 3, 7, 0, 8, 6, 5,\n",
              "        8, 6, 2, 4, 4, 8, 1, 5, 3, 6, 0, 6, 6, 9, 9, 9, 6, 7, 7, 7, 9, 0,\n",
              "        6, 5, 7, 2, 0, 0, 8, 9, 7, 7, 9, 6, 8, 1, 2, 1, 5, 7, 1, 4, 4, 5,\n",
              "        4, 3, 3, 8, 2, 0, 0, 3, 1, 0, 6, 4, 3, 6, 4, 4, 6, 2, 1, 8, 4, 3,\n",
              "        7, 8, 8, 9, 9, 0, 3, 9, 9, 2, 3, 3, 9, 1, 1, 9, 6, 7, 8, 7, 6, 6,\n",
              "        9, 3, 3, 2, 8, 2, 5, 4, 7, 2, 6, 9, 2, 7, 0, 8, 9, 6, 7, 0, 7, 6,\n",
              "        1, 7, 1, 0, 9, 2, 2, 9, 3, 8, 0, 8, 6, 5, 1, 3, 2, 7, 9, 2, 0, 7,\n",
              "        4, 9, 9, 6, 5, 9, 4, 6, 9, 2, 9, 5, 5, 3, 7, 6, 4, 3, 4, 0, 9, 3,\n",
              "        3, 4, 8, 2, 6, 5, 1, 5, 8, 1, 5, 6, 0, 1, 1, 7, 6, 7, 5, 3, 1, 9,\n",
              "        4, 2, 0, 6, 2, 1, 7, 4, 0, 7, 8, 1, 6, 8, 0, 1, 2, 2, 1, 8, 9, 3,\n",
              "        1, 4, 9, 3, 8, 0, 0, 5, 5, 8, 3, 2, 8, 2, 1, 5, 4, 8, 4, 6, 5, 7,\n",
              "        5, 0, 3, 6, 9, 9, 1, 6, 7, 7, 6, 5, 8, 4, 2, 0, 3, 6, 8, 2, 5, 6,\n",
              "        7, 9, 1, 8, 6, 1, 4, 9, 2, 6, 7, 9, 5, 6, 7, 9, 1, 1, 6, 3, 9, 2,\n",
              "        3, 0, 7, 4, 1, 6, 2, 2, 1, 3, 0, 6, 2, 9, 5, 3, 7, 3, 4, 3, 5, 9,\n",
              "        1, 8, 7, 4, 1, 9, 4, 5, 5, 3, 9, 8, 7, 7, 7, 6, 9, 9, 3, 4, 7, 7,\n",
              "        3, 7, 1, 8, 4, 2, 7, 0, 1, 1, 0, 2, 3, 2, 8, 4, 1, 2, 7, 3, 9, 3,\n",
              "        9, 6, 1, 5, 7, 9, 1, 8, 1, 3, 9, 9, 3, 5, 3, 4, 5, 3, 6, 7, 6, 3,\n",
              "        9, 6, 0, 2, 9, 6, 5, 4, 2, 3, 7, 8, 8, 7, 0, 1, 7, 3, 3, 4, 2, 1,\n",
              "        8, 2, 8, 6, 0, 8, 5, 9, 3, 7, 6, 6, 8, 8, 7, 7, 6, 9, 0, 6, 9, 4,\n",
              "        6, 4, 5, 6, 2, 1, 4, 6, 4, 1, 0, 9, 2, 9, 4, 5, 7, 6, 3, 2, 2, 5,\n",
              "        1, 2, 8, 3, 5, 8, 2, 8, 1, 0, 8, 7, 1, 5, 1, 4, 6, 7, 6, 0, 3, 8,\n",
              "        7, 5, 5, 2, 4, 9, 9, 3, 5, 2, 3, 4, 8, 7, 7, 2, 0, 9, 3, 0, 7, 4,\n",
              "        0, 7, 7, 1, 7, 5, 0, 2, 5, 7, 0, 1, 2, 4, 9, 3, 8, 2, 7, 4, 8, 7,\n",
              "        6, 5, 7, 6, 9, 7, 7, 7, 2, 6, 0, 7, 9, 6, 1, 3, 5, 7, 4, 4, 8, 5,\n",
              "        2, 7, 8, 8, 4, 4, 5, 1, 2, 9, 3, 1, 2, 0, 9, 8, 5, 8, 8, 7, 2, 1,\n",
              "        9, 5, 1, 3, 2, 8, 5, 3, 0, 3, 6, 4, 2, 7, 0, 5, 0, 3, 5, 1, 0, 2,\n",
              "        2, 8, 2, 1, 8, 9, 5, 7, 6, 6, 2, 6, 6, 0, 1, 1, 7, 3, 1, 5, 1, 8,\n",
              "        3, 2, 3, 0, 5, 5, 7, 0, 8, 7, 3, 3, 1, 0, 8, 1, 9, 0, 7, 6, 4, 9,\n",
              "        3, 5, 9, 9, 6, 4, 7, 6, 2, 4, 1, 9, 8, 8, 7, 3, 1, 7, 0, 8, 6, 7,\n",
              "        1, 5, 7, 1, 9, 7, 7, 5, 7, 7, 9, 8, 6, 7, 3, 7, 0, 2, 8, 0, 9, 3,\n",
              "        9, 5, 4, 1, 7, 0, 6, 7, 5, 5, 5, 3, 2, 2, 6, 5, 9, 1, 1, 4, 8, 4,\n",
              "        2, 8, 2, 2, 6, 1, 2, 0, 7, 0, 3, 3, 2, 9, 9, 7, 4, 6, 0, 8, 9, 4,\n",
              "        9, 8, 4, 2, 0, 1, 0, 7, 5, 9, 7, 7, 9, 8, 6, 6, 7, 5, 8, 4, 3, 8,\n",
              "        5, 3, 9, 4, 4, 2, 5, 3, 0, 8, 7, 3, 3, 7, 5, 6, 5, 7, 1, 4, 7, 3,\n",
              "        3, 4, 2, 5, 3, 9, 9, 6, 2, 7, 8, 8, 3, 7, 7, 0, 9, 5, 6, 8, 4, 8,\n",
              "        3, 2, 7, 5, 5, 7, 6, 6, 0, 4, 4, 5, 6, 6, 8, 3, 6, 3, 4, 6, 1, 5,\n",
              "        6, 5, 7, 7, 5, 9, 1, 1, 4, 7, 8, 4, 6, 7, 3, 6, 7, 9, 8, 4, 3, 3,\n",
              "        1, 1, 7, 3, 8, 1, 2, 1, 0, 9, 3, 8, 4, 4, 1, 2, 6, 5, 9, 1, 4, 4,\n",
              "        0, 3, 4, 8, 9, 9, 8, 7, 9, 5, 6, 1, 8, 2, 5, 0, 3, 7, 2, 7, 2, 8,\n",
              "        5, 7, 3, 4, 9, 2, 8, 8, 7, 7, 9, 0, 8, 6, 1, 7, 8, 6, 0, 1, 4, 4,\n",
              "        2, 8, 9, 5, 9, 9, 4, 8, 8, 1, 6, 5, 8, 0, 2, 8, 4, 7, 5, 2, 0, 7,\n",
              "        7, 8, 2, 0, 3, 8, 7, 0, 9, 2]),\n",
              " 'test': array([7, 2, 1, 0, 4, 1, 4, 9, 5, 9, 0, 6, 9, 0, 1, 5, 9, 7, 3, 4, 9, 6,\n",
              "        6, 5, 4, 0, 7, 4, 0, 1, 3, 1, 3, 4, 7, 2, 7, 1, 2, 1, 1, 7, 4, 2,\n",
              "        3, 5, 1, 2, 4, 4, 6, 3, 5, 5, 6, 0, 4, 1, 9, 5, 7, 8, 9, 3, 7, 4,\n",
              "        6, 4, 3, 0, 7, 0, 2, 9, 1, 7, 3, 2, 9, 7, 7, 6, 2, 7, 8, 4, 7, 3,\n",
              "        6, 1, 3, 6, 9, 3, 1, 4, 1, 7, 6, 9, 6, 0, 5, 4, 9, 9, 2, 1, 9, 4,\n",
              "        8, 7, 3, 9, 7, 9, 4, 4, 9, 2, 5, 4, 7, 6, 7, 9, 0, 5, 8, 5, 6, 6,\n",
              "        5, 7, 8, 1, 0, 1, 6, 4, 6, 7, 3, 1, 7, 1, 8, 2, 0, 2, 9, 9, 5, 5,\n",
              "        1, 5, 6, 0, 3, 4, 4, 6, 5, 4, 6, 5, 4, 5, 1, 4, 4, 7, 2, 3, 2, 7,\n",
              "        1, 8, 1, 8, 1, 8, 5, 0, 8, 9, 2, 5, 0, 1, 1, 1, 0, 9, 0, 3, 1, 6,\n",
              "        4, 2, 3, 6, 1, 1, 1, 3, 9, 5, 2, 9, 4, 5, 9, 3, 9, 0, 3, 5, 5, 5,\n",
              "        7, 2, 2, 7, 1, 2, 8, 4, 1, 7, 3, 3, 8, 8, 7, 9, 2, 2, 4, 1, 5, 9,\n",
              "        8, 7, 2, 3, 0, 2, 4, 2, 4, 1, 9, 5, 7, 7, 2, 8, 2, 0, 8, 5, 7, 7,\n",
              "        9, 1, 8, 1, 8, 0, 3, 0, 1, 9, 9, 4, 1, 8, 2, 1, 2, 9, 7, 5, 9, 2,\n",
              "        6, 4, 1, 5, 8, 2, 9, 2, 0, 4, 0, 0, 2, 8, 4, 7, 1, 2, 4, 0, 2, 7,\n",
              "        4, 3, 3, 0, 0, 3, 1, 9, 6, 5, 2, 5, 9, 7, 9, 3, 0, 4, 2, 0, 7, 1,\n",
              "        1, 2, 1, 5, 3, 3, 9, 7, 8, 6, 5, 6, 1, 3, 8, 1, 0, 5, 1, 3, 1, 5,\n",
              "        5, 6, 1, 8, 5, 1, 7, 9, 4, 6, 2, 2, 5, 0, 6, 5, 6, 3, 7, 2, 0, 8,\n",
              "        8, 5, 4, 1, 1, 4, 0, 7, 3, 7, 6, 1, 6, 2, 1, 9, 2, 8, 6, 1, 9, 5,\n",
              "        2, 5, 4, 4, 2, 8, 3, 8, 2, 4, 5, 0, 3, 1, 7, 7, 5, 7, 9, 7, 1, 9,\n",
              "        2, 1, 4, 2, 9, 2, 0, 4, 9, 1, 4, 8, 1, 8, 4, 5, 9, 7, 8, 3, 7, 6,\n",
              "        0, 0, 3, 0, 2, 0, 6, 9, 9, 3, 3, 3, 2, 3, 9, 1, 2, 6, 8, 0, 5, 6,\n",
              "        6, 6, 3, 8, 8, 2, 7, 5, 8, 9, 6, 1, 8, 4, 1, 2, 5, 9, 1, 9, 7, 5,\n",
              "        4, 0, 8, 9, 9, 1, 0, 5, 2, 3, 7, 0, 9, 4, 0, 6, 3, 9, 5, 2, 1, 3,\n",
              "        1, 3, 5, 5, 7, 4, 2, 2, 6, 3, 2, 6, 5, 4, 8, 9, 7, 1, 3, 0, 3, 8,\n",
              "        3, 1, 9, 3, 4, 4, 6, 4, 2, 1, 8, 2, 5, 4, 8, 8, 4, 0, 0, 2, 3, 2,\n",
              "        7, 7, 0, 8, 7, 4, 4, 7, 9, 6, 9, 0, 9, 8, 0, 4, 6, 0, 6, 3, 5, 4,\n",
              "        8, 3, 3, 9, 3, 3, 3, 7, 8, 0, 2, 7, 1, 7, 0, 6, 5, 4, 3, 8, 0, 9,\n",
              "        6, 3, 8, 0, 9, 9, 6, 8, 6, 8, 5, 7, 8, 6, 0, 2, 4, 0, 2, 2, 3, 1,\n",
              "        9, 7, 5, 1, 0, 8, 4, 6, 2, 6, 7, 9, 3, 2, 9, 8, 2, 2, 9, 2, 7, 3,\n",
              "        5, 9, 1, 8, 0, 2, 0, 5, 2, 1, 3, 7, 6, 7, 1, 2, 5, 8, 0, 3, 7, 7,\n",
              "        4, 0, 9, 1, 8, 6, 7, 7, 4, 3, 4, 9, 1, 9, 5, 1, 7, 3, 9, 7, 6, 9,\n",
              "        1, 3, 7, 8, 3, 3, 6, 7, 2, 4, 5, 8, 5, 1, 1, 4, 4, 3, 1, 0, 7, 7,\n",
              "        0, 7, 9, 4, 4, 8, 5, 5, 4, 0, 8, 2, 1, 0, 8, 4, 8, 0, 4, 0, 6, 1,\n",
              "        7, 3, 2, 6, 7, 2, 6, 9, 3, 1, 4, 6, 2, 5, 9, 2, 0, 6, 2, 1, 7, 3,\n",
              "        4, 1, 0, 5, 4, 3, 1, 1, 7, 4, 9, 9, 9, 8, 4, 0, 2, 4, 5, 1, 1, 6,\n",
              "        4, 7, 1, 9, 4, 2, 4, 1, 5, 5, 3, 8, 3, 1, 4, 5, 6, 8, 9, 4, 1, 5,\n",
              "        3, 8, 0, 3, 2, 5, 1, 2, 8, 3, 4, 4, 0, 8, 8, 3, 3, 1, 7, 3, 5, 9,\n",
              "        6, 3, 2, 6, 1, 3, 6, 0, 7, 2, 1, 7, 1, 4, 2, 4, 2, 1, 7, 9, 6, 1,\n",
              "        1, 2, 4, 8, 1, 7, 7, 4, 7, 0, 9, 3, 1, 3, 1, 0, 7, 7, 0, 3, 5, 5,\n",
              "        2, 7, 6, 6, 9, 2, 8, 3, 5, 2, 2, 5, 6, 0, 8, 2, 9, 2, 8, 8, 8, 8,\n",
              "        7, 4, 9, 3, 0, 6, 6, 3, 2, 1, 3, 2, 2, 9, 3, 0, 0, 5, 7, 8, 1, 4,\n",
              "        4, 6, 0, 2, 9, 1, 4, 7, 4, 7, 3, 9, 8, 8, 4, 7, 1, 2, 1, 2, 2, 3,\n",
              "        2, 3, 2, 3, 9, 1, 7, 4, 0, 3, 5, 5, 8, 6, 3, 2, 6, 7, 6, 6, 3, 2,\n",
              "        7, 9, 1, 1, 7, 7, 6, 4, 9, 5, 1, 3, 3, 4, 7, 8, 9, 1, 1, 6, 9, 1,\n",
              "        4, 4, 5, 4, 0, 6, 2, 2, 3, 1, 5, 1, 2, 0, 3, 8, 1, 2, 6, 7, 1, 6,\n",
              "        2, 3, 9, 0, 1, 2, 2, 0, 8, 9])}"
            ]
          },
          "metadata": {},
          "execution_count": 30
        }
      ]
    },
    {
      "cell_type": "markdown",
      "metadata": {
        "id": "BrV7Ne-WJ2MY"
      },
      "source": [
        "На этом задание завершено. Поздравляем!"
      ]
    }
  ],
  "metadata": {
    "kernelspec": {
      "display_name": "Py3 Research",
      "language": "python",
      "name": "py3_research"
    },
    "language_info": {
      "codemirror_mode": {
        "name": "ipython",
        "version": 3
      },
      "file_extension": ".py",
      "mimetype": "text/x-python",
      "name": "python",
      "nbconvert_exporter": "python",
      "pygments_lexer": "ipython3",
      "version": "3.7.10"
    },
    "colab": {
      "provenance": [],
      "gpuType": "T4"
    },
    "accelerator": "GPU"
  },
  "nbformat": 4,
  "nbformat_minor": 0
}